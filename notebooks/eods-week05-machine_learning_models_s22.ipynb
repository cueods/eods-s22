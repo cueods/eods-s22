{
 "cells": [
  {
   "cell_type": "markdown",
   "metadata": {
    "slideshow": {
     "slide_type": "slide"
    }
   },
   "source": [
    "## <center>Elements Of Data Science - S2021</center>\n",
    "# <center>Week 5: Machine Learning Models<center>\n",
    "### <center>2/15/2021</center>"
   ]
  },
  {
   "cell_type": "markdown",
   "metadata": {
    "slideshow": {
     "slide_type": "slide"
    }
   },
   "source": [
    "# TODOs\n",
    "\n",
    "- Readings:\n",
    " - PDSH 05.03 [Hyperparameters and Model Validation](https://jakevdp.github.io/PythonDataScienceHandbook/05.03-hyperparameters-and-model-validation.html)\n",
    " - Recommended: https://scikit-learn.org/stable/model_selection.html\n",
    " - Recommended: PML Chapter 6 (Except for Pipelines)\n",
    " - Reference: https://scikit-learn.org/stable/supervised_learning.html\n",
    " - Reference: PML Chapter Chap 3 and 7\n",
    "    \n",
    "- Answer and submit Quiz 5\n",
    "\n",
    "- Quiz4, HW1, Due Tues Feb 16th, 11:59pm ET\n",
    "\n",
    "- HW2 Out next week, due after spring break\n",
    "\n",
    "- Midterm, after spring break\n",
    "\n"
   ]
  },
  {
   "cell_type": "markdown",
   "metadata": {
    "slideshow": {
     "slide_type": "slide"
    }
   },
   "source": [
    "# Today\n",
    "\n",
    "- Intro to Machine Learning Models\n",
    "- Linear models: Simple, Multi-Variable, Logistic\n",
    "- One Vs. Rest For Multi-Class/Multi-Label Classification\n",
    "- Distance Based: kNN\n",
    "- Tree Based: Decision Tree\n",
    "- Ensembles: Bagging, Boosting, Stacking"
   ]
  },
  {
   "cell_type": "markdown",
   "metadata": {
    "slideshow": {
     "slide_type": "slide"
    }
   },
   "source": [
    "<br>\n",
    "<br>\n",
    "\n",
    "# <center>Questions?</center>\n",
    "<br>\n",
    "<br>"
   ]
  },
  {
   "cell_type": "markdown",
   "metadata": {
    "slideshow": {
     "slide_type": "slide"
    }
   },
   "source": [
    "# Environment Setup"
   ]
  },
  {
   "cell_type": "code",
   "execution_count": 1,
   "metadata": {
    "slideshow": {
     "slide_type": "fragment"
    }
   },
   "outputs": [],
   "source": [
    "import numpy as np\n",
    "import pandas as pd\n",
    "import matplotlib.pyplot as plt\n",
    "import seaborn as sns\n",
    "\n",
    "sns.set_style('darkgrid')\n",
    "%matplotlib inline"
   ]
  },
  {
   "cell_type": "markdown",
   "metadata": {
    "slideshow": {
     "slide_type": "slide"
    }
   },
   "source": [
    "# Modeling and ML\n",
    "\n",
    "- What is a Model?\n",
    " - Specification of a mathematical (or probabilistic) relationship between different variables.\n",
    " \n",
    "\n",
    "- What is Machine Learning?\n",
    " - Creating and using models that are learned from data."
   ]
  },
  {
   "cell_type": "markdown",
   "metadata": {
    "slideshow": {
     "slide_type": "slide"
    }
   },
   "source": [
    "# Questions for  Models"
   ]
  },
  {
   "cell_type": "code",
   "execution_count": 2,
   "metadata": {
    "slideshow": {
     "slide_type": "fragment"
    }
   },
   "outputs": [
    {
     "data": {
      "text/html": [
       "<div>\n",
       "<style scoped>\n",
       "    .dataframe tbody tr th:only-of-type {\n",
       "        vertical-align: middle;\n",
       "    }\n",
       "\n",
       "    .dataframe tbody tr th {\n",
       "        vertical-align: top;\n",
       "    }\n",
       "\n",
       "    .dataframe thead th {\n",
       "        text-align: right;\n",
       "    }\n",
       "</style>\n",
       "<table border=\"1\" class=\"dataframe\">\n",
       "  <thead>\n",
       "    <tr style=\"text-align: right;\">\n",
       "      <th></th>\n",
       "      <th>alcohol</th>\n",
       "      <th>ash</th>\n",
       "      <th>hue</th>\n",
       "      <th>proline</th>\n",
       "      <th>class</th>\n",
       "    </tr>\n",
       "  </thead>\n",
       "  <tbody>\n",
       "    <tr>\n",
       "      <th>161</th>\n",
       "      <td>13.69</td>\n",
       "      <td>2.54</td>\n",
       "      <td>0.96</td>\n",
       "      <td>680.0</td>\n",
       "      <td>2</td>\n",
       "    </tr>\n",
       "    <tr>\n",
       "      <th>117</th>\n",
       "      <td>12.42</td>\n",
       "      <td>2.19</td>\n",
       "      <td>1.06</td>\n",
       "      <td>345.0</td>\n",
       "      <td>1</td>\n",
       "    </tr>\n",
       "    <tr>\n",
       "      <th>19</th>\n",
       "      <td>13.64</td>\n",
       "      <td>2.56</td>\n",
       "      <td>0.96</td>\n",
       "      <td>845.0</td>\n",
       "      <td>0</td>\n",
       "    </tr>\n",
       "    <tr>\n",
       "      <th>69</th>\n",
       "      <td>12.21</td>\n",
       "      <td>1.75</td>\n",
       "      <td>1.28</td>\n",
       "      <td>718.0</td>\n",
       "      <td>1</td>\n",
       "    </tr>\n",
       "    <tr>\n",
       "      <th>53</th>\n",
       "      <td>13.77</td>\n",
       "      <td>2.68</td>\n",
       "      <td>1.13</td>\n",
       "      <td>1375.0</td>\n",
       "      <td>0</td>\n",
       "    </tr>\n",
       "  </tbody>\n",
       "</table>\n",
       "</div>"
      ],
      "text/plain": [
       "     alcohol   ash   hue  proline  class\n",
       "161    13.69  2.54  0.96    680.0      2\n",
       "117    12.42  2.19  1.06    345.0      1\n",
       "19     13.64  2.56  0.96    845.0      0\n",
       "69     12.21  1.75  1.28    718.0      1\n",
       "53     13.77  2.68  1.13   1375.0      0"
      ]
     },
     "execution_count": 2,
     "metadata": {},
     "output_type": "execute_result"
    }
   ],
   "source": [
    "df_wine = pd.read_csv('../data/wine_dataset.csv',usecols=['alcohol','ash','proline','hue','class'])\n",
    "df_wine.sample(5,random_state=1)"
   ]
  },
  {
   "cell_type": "markdown",
   "metadata": {
    "slideshow": {
     "slide_type": "fragment"
    }
   },
   "source": [
    "- Can we predict label \"class\" from the other columns? **(Classification)**\n",
    "- Can we predict target \"hue\" from the other columns? **(Regression)**\n",
    "- What are the important features when predicting \"hue\"? **(Feature Selection)**\n",
    "- Can a model tell us about how the features and target interact? **(Interpretation)**\n",
    "- Do the features group together at all? **(Clustering)**"
   ]
  },
  {
   "cell_type": "markdown",
   "metadata": {
    "slideshow": {
     "slide_type": "slide"
    }
   },
   "source": [
    "# Data Vocabulary for ML"
   ]
  },
  {
   "cell_type": "code",
   "execution_count": 3,
   "metadata": {
    "slideshow": {
     "slide_type": "fragment"
    }
   },
   "outputs": [
    {
     "data": {
      "text/html": [
       "<div>\n",
       "<style scoped>\n",
       "    .dataframe tbody tr th:only-of-type {\n",
       "        vertical-align: middle;\n",
       "    }\n",
       "\n",
       "    .dataframe tbody tr th {\n",
       "        vertical-align: top;\n",
       "    }\n",
       "\n",
       "    .dataframe thead th {\n",
       "        text-align: right;\n",
       "    }\n",
       "</style>\n",
       "<table border=\"1\" class=\"dataframe\">\n",
       "  <thead>\n",
       "    <tr style=\"text-align: right;\">\n",
       "      <th></th>\n",
       "      <th>alcohol</th>\n",
       "      <th>ash</th>\n",
       "      <th>hue</th>\n",
       "      <th>proline</th>\n",
       "      <th>class</th>\n",
       "    </tr>\n",
       "  </thead>\n",
       "  <tbody>\n",
       "    <tr>\n",
       "      <th>161</th>\n",
       "      <td>13.69</td>\n",
       "      <td>2.54</td>\n",
       "      <td>0.96</td>\n",
       "      <td>680.0</td>\n",
       "      <td>2</td>\n",
       "    </tr>\n",
       "    <tr>\n",
       "      <th>117</th>\n",
       "      <td>12.42</td>\n",
       "      <td>2.19</td>\n",
       "      <td>1.06</td>\n",
       "      <td>345.0</td>\n",
       "      <td>1</td>\n",
       "    </tr>\n",
       "    <tr>\n",
       "      <th>19</th>\n",
       "      <td>13.64</td>\n",
       "      <td>2.56</td>\n",
       "      <td>0.96</td>\n",
       "      <td>845.0</td>\n",
       "      <td>0</td>\n",
       "    </tr>\n",
       "    <tr>\n",
       "      <th>69</th>\n",
       "      <td>12.21</td>\n",
       "      <td>1.75</td>\n",
       "      <td>1.28</td>\n",
       "      <td>718.0</td>\n",
       "      <td>1</td>\n",
       "    </tr>\n",
       "    <tr>\n",
       "      <th>53</th>\n",
       "      <td>13.77</td>\n",
       "      <td>2.68</td>\n",
       "      <td>1.13</td>\n",
       "      <td>1375.0</td>\n",
       "      <td>0</td>\n",
       "    </tr>\n",
       "  </tbody>\n",
       "</table>\n",
       "</div>"
      ],
      "text/plain": [
       "     alcohol   ash   hue  proline  class\n",
       "161    13.69  2.54  0.96    680.0      2\n",
       "117    12.42  2.19  1.06    345.0      1\n",
       "19     13.64  2.56  0.96    845.0      0\n",
       "69     12.21  1.75  1.28    718.0      1\n",
       "53     13.77  2.68  1.13   1375.0      0"
      ]
     },
     "execution_count": 3,
     "metadata": {},
     "output_type": "execute_result"
    }
   ],
   "source": [
    "df_wine.sample(5,random_state=1)"
   ]
  },
  {
   "cell_type": "markdown",
   "metadata": {
    "slideshow": {
     "slide_type": "fragment"
    }
   },
   "source": [
    "- $X$, features, attributes, independent/exogenous/explanatory variables\n",
    " - Ex: alcohol, trip_distance, company_industry\n",
    "\n",
    "\n",
    "- $y$, target, label, outcome, dependent/endogenous/response variables\n",
    " - Ex: class, hue, tip_amount, stock_price\n",
    "\n",
    "\n",
    "- $f(X)\\rightarrow y$, Model that maps features $X$ to target $y$\n"
   ]
  },
  {
   "cell_type": "markdown",
   "metadata": {
    "slideshow": {
     "slide_type": "slide"
    }
   },
   "source": [
    "# Variations of ML Tasks\n",
    "<br>"
   ]
  },
  {
   "cell_type": "markdown",
   "metadata": {
    "slideshow": {
     "slide_type": "fragment"
    }
   },
   "source": [
    "- **Supervised** vs **Unsupervised**\n",
    " - is there a target/label?\n",
    "   "
   ]
  },
  {
   "cell_type": "markdown",
   "metadata": {
    "slideshow": {
     "slide_type": "fragment"
    }
   },
   "source": [
    "- **Regression** vs **Classification**\n",
    " - is the target numeric or categorical?\n",
    "   "
   ]
  },
  {
   "cell_type": "markdown",
   "metadata": {
    "slideshow": {
     "slide_type": "fragment"
    }
   },
   "source": [
    "-  **Prediction** vs **Interpretation**\n",
    " - generate predictions or understand interactions?"
   ]
  },
  {
   "cell_type": "markdown",
   "metadata": {
    "slideshow": {
     "slide_type": "fragment"
    }
   },
   "source": [
    "- Model Family\n",
    " - Linear, Tree, Distance, Probability, Neural Net, Ensemble, ..."
   ]
  },
  {
   "cell_type": "markdown",
   "metadata": {
    "slideshow": {
     "slide_type": "slide"
    }
   },
   "source": [
    "# Supervised vs Unsupervised vs Reinforcement Learning\n",
    "\n",
    "Is there a target, $y$?\n",
    "\n",
    "- Yes:\n",
    " - **Supervised Learning:** Data consists of $(X,y)$ pairs\n",
    " - Classification, Regression\n",
    " - Ex: What is the relationship between length of ride and tip amount?\n",
    "\n",
    "- No:\n",
    " - **Unsupervised Learning:** Data consists only of $(X)$\n",
    " - Clustering, Topic Modeling, etc.\n",
    " - Ex: Are there any clusters in length of ride?\n",
    "\n",
    "- Eventually:\n",
    " - **Reinforcement Learning**\n",
    " - After a series of predictions (path) get a reward from a reward function\n",
    " - Ex. Poker player"
   ]
  },
  {
   "cell_type": "markdown",
   "metadata": {
    "slideshow": {
     "slide_type": "slide"
    }
   },
   "source": [
    "# Other Learning Paradigms\n",
    "<br>"
   ]
  },
  {
   "cell_type": "markdown",
   "metadata": {
    "slideshow": {
     "slide_type": "fragment"
    }
   },
   "source": [
    "- Do we have a mix of labeled and unlabeled?\n",
    " - **Semi-Supervised Learning**\n",
    " - Can we use structure of unlabeled data along with labeled?"
   ]
  },
  {
   "cell_type": "markdown",
   "metadata": {
    "slideshow": {
     "slide_type": "fragment"
    }
   },
   "source": [
    "- Will we continue getting new data?\n",
    " - **Online Learning**\n",
    " - Is there an oracle (ground truth) we can consult?\n",
    " - Can we select which points to make predictions on?"
   ]
  },
  {
   "cell_type": "markdown",
   "metadata": {
    "slideshow": {
     "slide_type": "slide"
    }
   },
   "source": [
    "# Supervised Learning: Regression vs Classification\n",
    "<br>\n",
    "\n",
    "- **Regression** -> predict a numeric value\n",
    " - Ex: tip_amount, stock_price, wine_hue\n",
    "<br>\n",
    "\n",
    "\n",
    "- **Classification** -> predict a discrete class/category\n",
    " - Ex: class of wine, face/not face, object labels in image\n",
    "<br>\n",
    "\n",
    "\n",
    "- can convert a regression problem into classification with binning/thresholding\n",
    "<br>\n",
    "<br>\n",
    "<div align=\"center\">\n",
    "    <table><tr>\n",
    "        <td><img src=\"images/regression.png\" width=\"350px\"></td>\n",
    "        <td><img src=\"images/classification.png\" width=\"350px\"></td>\n",
    "        </tr></table></div>\n",
    "<font size=4>From PML</font>"
   ]
  },
  {
   "cell_type": "markdown",
   "metadata": {
    "slideshow": {
     "slide_type": "slide"
    }
   },
   "source": [
    "# Prediction vs Interpretation\n",
    "<br>\n",
    "\n",
    "- Do we care more about: accuracy when generating predictions?\n",
    " - Ex: For a given trip, what will the tip size likely be?\n",
    " - Ex: For a given loan, will there be a default?\n",
    "<br>\n",
    "\n",
    "\n",
    "- Do we care more about: understanding how $X$ relates to $y$?\n",
    " - Ex: What happens to tip size as taxi trip length increases?\n",
    " - Ex: What is the relationship between debt and loan default?\n",
    "\n"
   ]
  },
  {
   "cell_type": "markdown",
   "metadata": {
    "slideshow": {
     "slide_type": "slide"
    }
   },
   "source": [
    "# Model Families for Supervised Learning\n",
    "\n",
    "- Linear\n",
    " - Simple/Multiple Linear Regression\n",
    " - Logistic Regression (for Classification)\n",
    " - <font color=\"gray\">Support Vector Machines?</font>\n",
    " - <font color=\"gray\">Perceptron?</font>\n",
    "\n",
    "- Distance Based\n",
    " - K-Nearest Neighbor\n",
    "  \n",
    "- Tree Based\n",
    " - Decision Tree\n"
   ]
  },
  {
   "cell_type": "markdown",
   "metadata": {
    "slideshow": {
     "slide_type": "slide"
    }
   },
   "source": [
    "# Model Families for Supervised Learning Continued\n",
    "\n",
    "\n",
    "- Ensemble\n",
    " - Random Forest\n",
    " - Gradient Boosted Trees\n",
    " - Stacking\n",
    " \n",
    "- Network\n",
    " - <font color=\"gray\">Multi-layer Perceptron?</font>\n",
    " - <font color=\"gray\">Deep Neural-Networks</font>\n",
    " - <font color=\"gray\">Convolutional Neural Nets</font>\n",
    " - <font color=\"gray\">Recurrant Neural Nets</font>\n",
    " \n",
    "- Probability\n",
    " - <font color=\"gray\">Naive Bayes</font>\n",
    " - <font color=\"gray\">Bayes Net</font>\n",
    "\n",
    "\n"
   ]
  },
  {
   "cell_type": "markdown",
   "metadata": {
    "slideshow": {
     "slide_type": "slide"
    }
   },
   "source": [
    "# Example: Regression with a Linear Model\n",
    "<br>\n",
    "\n",
    "What is the relationship between 'proline' (an amino-acid) and 'alcohol' in wine?"
   ]
  },
  {
   "cell_type": "code",
   "execution_count": 4,
   "metadata": {
    "slideshow": {
     "slide_type": "fragment"
    }
   },
   "outputs": [
    {
     "data": {
      "image/png": "[encoded data removed]",
      "text/plain": [
       "<Figure size 864x576 with 1 Axes>"
      ]
     },
     "metadata": {
      "needs_background": "light"
     },
     "output_type": "display_data"
    }
   ],
   "source": [
    "fig,ax = plt.subplots(1,1,figsize=(12,8))\n",
    "sns.regplot(x='proline', y='alcohol', data=df_wine);"
   ]
  },
  {
   "cell_type": "markdown",
   "metadata": {
    "slideshow": {
     "slide_type": "slide"
    }
   },
   "source": [
    "# Aside: Correlation\n",
    "\n",
    "**Question:** are total_bill and tips correlated?"
   ]
  },
  {
   "cell_type": "code",
   "execution_count": 5,
   "metadata": {
    "slideshow": {
     "slide_type": "fragment"
    }
   },
   "outputs": [
    {
     "data": {
      "image/png": "[encoded data removed]",
      "text/plain": [
       "<Figure size 432x432 with 3 Axes>"
      ]
     },
     "metadata": {
      "needs_background": "light"
     },
     "output_type": "display_data"
    }
   ],
   "source": [
    "sns.jointplot(x='proline',y='alcohol',data=df_wine);"
   ]
  },
  {
   "cell_type": "markdown",
   "metadata": {
    "slideshow": {
     "slide_type": "slide"
    }
   },
   "source": [
    "# Obligitory Correlation vs. Causation\n",
    "<br>\n",
    "\n",
    "<div align=\"center\"><img src=\"https://imgs.xkcd.com/comics/correlation.png\" width=\"800px\"></div>\n",
    "<font size=4>https://imgs.xkcd.com/comics/correlation.png</font>\n",
    "<br>\n",
    "\n",
    "- Correlation does not mean causation!\n",
    "<br>\n",
    "\n",
    "- Causal Inference\n",
    " - controlled experiment\n",
    " - control for confounding variables\n"
   ]
  },
  {
   "cell_type": "markdown",
   "metadata": {
    "slideshow": {
     "slide_type": "slide"
    }
   },
   "source": [
    "# Spurious Correlation\n",
    "<br>\n",
    "\n",
    "- Also, look hard enough and you'll find correlation.\n",
    "    - See [spurious correlations](https://www.tylervigen.com/spurious-correlations) for examples\n",
    "\n",
    "\n",
    "<div align=\"center\"><img src=\"images/spurious_correlation.png\" width=\"800px\"></div>\n"
   ]
  },
  {
   "cell_type": "markdown",
   "metadata": {
    "slideshow": {
     "slide_type": "slide"
    }
   },
   "source": [
    "# Aside: Correlation\n",
    "<br>\n",
    "\n",
    "- Could calculate Pearson Correlation Coefficient\n",
    "- Assumes normally distributed data! (which is not true here)\n",
    " - [On the Effects of Non-Normality on the Distribution of the Sample Product-Moment Correlation Coefficient](https://www.jstor.org/stable/2346598?seq=1#page_scan_tab_contents]())"
   ]
  },
  {
   "cell_type": "code",
   "execution_count": 6,
   "metadata": {
    "slideshow": {
     "slide_type": "fragment"
    }
   },
   "outputs": [
    {
     "name": "stdout",
     "output_type": "stream",
     "text": [
      "r: 0.64, p: 0.00\n"
     ]
    }
   ],
   "source": [
    "from scipy.stats import pearsonr\n",
    "r,p = pearsonr(df_wine.proline,df_wine.alcohol)\n",
    "print(f'r: {r:.2f}, p: {p:.2f}')"
   ]
  },
  {
   "cell_type": "markdown",
   "metadata": {
    "slideshow": {
     "slide_type": "fragment"
    }
   },
   "source": [
    "- We know that as proline goes up alcohol goes up, but by how much?"
   ]
  },
  {
   "cell_type": "markdown",
   "metadata": {
    "slideshow": {
     "slide_type": "slide"
    }
   },
   "source": [
    "# Python Modeling Libraries\n",
    "<br>\n",
    "\n",
    "Prediction - scikit-learn\n",
    "\n",
    "<div align=\"center\"><img src=\"https://upload.wikimedia.org/wikipedia/commons/thumb/0/05/Scikit_learn_logo_small.svg/320px-Scikit_learn_logo_small.svg.png?1602365086087\" width=\"200px\"></div>\n",
    "<br>\n",
    "\n",
    "Interpretation - scikit-learn and statsmodels\n",
    "<br>\n",
    "\n",
    "<div align=\"center\"><img src=\"https://www.statsmodels.org/stable/_images/statsmodels-logo-v2-horizontal.svg\" width=\"400px\"></div>\n",
    "<br>\n",
    "\n",
    "Additional Tools - mlxtend\n",
    "\n",
    "<div align=\"center\"><img src=\"http://rasbt.github.io/mlxtend/img/logo.png\" width=\"200px\"></div>"
   ]
  },
  {
   "cell_type": "markdown",
   "metadata": {
    "slideshow": {
     "slide_type": "slide"
    }
   },
   "source": [
    "# Aside: MLxtend and conda-forge\n",
    "\n",
    "\n",
    "- **MLxtend:** (machine learning extensions) is a Python library of useful tools for the day-to-day data science tasks.\n",
    "\n",
    "<div align=\"center\"><img src=\"http://rasbt.github.io/mlxtend/img/logo.png\" width=\"200px\"></div>\n",
    "\n",
    "\n",
    "- **Conda-Forge:** A community-led collection of recipes, build infrastructure and distributions for the conda package manager.\n",
    "\n",
    "<div align=\"center\"><img src=\"https://avatars0.githubusercontent.com/u/11897326?s=200&v=4\"></div>\n",
    "\n",
    "```bash\n",
    "$ conda install --name eods-s21 --channel conda-forge mlxtend\n",
    "```\n"
   ]
  },
  {
   "cell_type": "markdown",
   "metadata": {
    "slideshow": {
     "slide_type": "slide"
    }
   },
   "source": [
    "# Simple Linear Regression"
   ]
  },
  {
   "cell_type": "markdown",
   "metadata": {
    "slideshow": {
     "slide_type": "fragment"
    }
   },
   "source": [
    "$\\Large y = w_1 x + w_0 + \\varepsilon_i$\n",
    "<br>\n",
    "\n",
    "\n",
    "- **$y$** : dependent, endogenous, response, target, label (Ex: `alcohol`)\n",
    "\n",
    "- **$x_i$** : independent, exogenous , explanatory, feature, attribute (Ex: `proline`)\n",
    "\n",
    "- **$w_1$** : coefficient, slope\n",
    "\n",
    "- **$w_0$** : bias term, intercept\n",
    "\n",
    "- **$\\varepsilon_i$** : error, hopefully small, often assumed $\\mathcal{N}(0,1)$\n",
    "\n",
    "\n",
    "- Want to find values for $w_1$ and $w_0$ that best fit the data.\n",
    "- Find a line as close to our observations as possible"
   ]
  },
  {
   "cell_type": "markdown",
   "metadata": {
    "slideshow": {
     "slide_type": "slide"
    }
   },
   "source": [
    "# Simple Linear Regression\n",
    "<br>\n",
    "\n",
    "<div align=\"center\"><img src=\"images/simple_linear_regression.png\" width=\"700px\"></div>\n",
    "\n",
    "from PML"
   ]
  },
  {
   "cell_type": "markdown",
   "metadata": {
    "slideshow": {
     "slide_type": "slide"
    }
   },
   "source": [
    "# Finding $w_1$ and $w_0$ with Ordinary Least Squares\n",
    "\n",
    "\n",
    "- **prediction**: $\\hat{y}_i = f(x_i) = w_1 x_i + w_0$\n",
    "\n",
    "- **error**: $error(y_i,\\hat{y}_i) = y_i - \\hat{y}_i$\n",
    "\n",
    "- **sum of squared errors**: $\\sum_{i=1:n}{\\left(y_i - \\hat{y}_i\\right)^2}$\n",
    "\n",
    "- **least squares**: make the sum of squared errors as small as possible\n",
    "\n",
    "- **gradient descent**: minimize error by following the gradient wrt $w_1,w_0$\n",
    "\n",
    "    - can sometime be optimized in closed form\n",
    "\n",
    "    - often done iteratively\n"
   ]
  },
  {
   "cell_type": "markdown",
   "metadata": {
    "slideshow": {
     "slide_type": "slide"
    }
   },
   "source": [
    "# Aside: Gradient Descent Cont.\n",
    "<br>\n",
    "<br>\n",
    "<div align=\"center\"><img src=\"images/gradient_descent.png\" width=\"1000px\"></div>"
   ]
  },
  {
   "cell_type": "markdown",
   "metadata": {
    "slideshow": {
     "slide_type": "slide"
    }
   },
   "source": [
    "# Aside: Gradient Descent\n",
    "\n",
    "\n",
    "- Want to maximize or minimize something (Ex: squared error)\n",
    "<br>\n",
    "\n",
    "- **Gradient** : direction, vector of partial derivatives\n",
    "    - can get complicated, often estimated\n",
    "<br>\n",
    "<br>\n",
    "- **Gradient Descent** : take steps wrt the direction of the gradient\n",
    "    - **maximize** : in the direction of the gradient\n",
    "    - **minimize** : in the opposite direction of the gradient\n",
    "<br>\n",
    "<br>\n",
    "- **Global Maximum/Minimum** : the single best solution\n",
    "\n",
    "- **Local Maximum/Minimum** : the best solution in the neighborhood\n"
   ]
  },
  {
   "cell_type": "markdown",
   "metadata": {
    "slideshow": {
     "slide_type": "slide"
    }
   },
   "source": [
    "# Simple Regression Using scikit-learn"
   ]
  },
  {
   "cell_type": "code",
   "execution_count": 7,
   "metadata": {
    "slideshow": {
     "slide_type": "fragment"
    }
   },
   "outputs": [],
   "source": [
    "# import the model from sklearn\n",
    "from sklearn.linear_model import LinearRegression "
   ]
  },
  {
   "cell_type": "code",
   "execution_count": 8,
   "metadata": {
    "slideshow": {
     "slide_type": "fragment"
    }
   },
   "outputs": [],
   "source": [
    " # instantiate the model and set hyperparameters\n",
    "lr = LinearRegression(fit_intercept=True, # by default\n",
    "                      normalize=False)    # by default"
   ]
  },
  {
   "cell_type": "code",
   "execution_count": 9,
   "metadata": {
    "slideshow": {
     "slide_type": "fragment"
    }
   },
   "outputs": [],
   "source": [
    "# fit the model\n",
    "lr.fit(X=df_wine.proline.values.reshape(-1, 1), y=df_wine.alcohol); "
   ]
  },
  {
   "cell_type": "code",
   "execution_count": 10,
   "metadata": {
    "slideshow": {
     "slide_type": "fragment"
    }
   },
   "outputs": [
    {
     "name": "stdout",
     "output_type": "stream",
     "text": [
      "[0.0016595]\n",
      "11.761148483143145\n"
     ]
    }
   ],
   "source": [
    "# display learned coefficients (trailing underscore indicates learned values)\n",
    "print(lr.coef_)\n",
    "print(lr.intercept_) "
   ]
  },
  {
   "cell_type": "code",
   "execution_count": 11,
   "metadata": {
    "slideshow": {
     "slide_type": "fragment"
    }
   },
   "outputs": [
    {
     "data": {
      "text/plain": [
       "array([13.42064866, 15.08014884])"
      ]
     },
     "execution_count": 11,
     "metadata": {},
     "output_type": "execute_result"
    }
   ],
   "source": [
    "# predict given new values for proline\n",
    "X = np.array([1000,2000]).reshape(-1,1)\n",
    "lr.predict(X)"
   ]
  },
  {
   "cell_type": "markdown",
   "metadata": {
    "slideshow": {
     "slide_type": "slide"
    }
   },
   "source": [
    "# Why .reshape(-1,1)?\n",
    "<br>\n",
    "\n",
    "\n",
    "scikit-learn models expect the input features to be 2 dimensional"
   ]
  },
  {
   "cell_type": "code",
   "execution_count": 12,
   "metadata": {
    "slideshow": {
     "slide_type": "fragment"
    }
   },
   "outputs": [
    {
     "data": {
      "text/plain": [
       "array([1065., 1050., 1185., 1480.,  735.])"
      ]
     },
     "execution_count": 12,
     "metadata": {},
     "output_type": "execute_result"
    }
   ],
   "source": [
    "df_wine.proline.values[:5]"
   ]
  },
  {
   "cell_type": "code",
   "execution_count": 13,
   "metadata": {
    "slideshow": {
     "slide_type": "fragment"
    }
   },
   "outputs": [
    {
     "data": {
      "text/plain": [
       "(178,)"
      ]
     },
     "execution_count": 13,
     "metadata": {},
     "output_type": "execute_result"
    }
   ],
   "source": [
    "df_wine.proline.shape"
   ]
  },
  {
   "cell_type": "code",
   "execution_count": 14,
   "metadata": {
    "slideshow": {
     "slide_type": "fragment"
    }
   },
   "outputs": [
    {
     "data": {
      "text/plain": [
       "(178, 1)"
      ]
     },
     "execution_count": 14,
     "metadata": {},
     "output_type": "execute_result"
    }
   ],
   "source": [
    "df_wine.proline.values.reshape(-1,1).shape # -1 means \"infer from the data\""
   ]
  },
  {
   "cell_type": "markdown",
   "metadata": {
    "slideshow": {
     "slide_type": "fragment"
    }
   },
   "source": [
    "Alternatives:"
   ]
  },
  {
   "cell_type": "code",
   "execution_count": 15,
   "metadata": {
    "slideshow": {
     "slide_type": "fragment"
    }
   },
   "outputs": [
    {
     "data": {
      "text/plain": [
       "(178, 1)"
      ]
     },
     "execution_count": 15,
     "metadata": {},
     "output_type": "execute_result"
    }
   ],
   "source": [
    "df_wine.loc[:,['proline']].shape"
   ]
  },
  {
   "cell_type": "code",
   "execution_count": 16,
   "metadata": {
    "slideshow": {
     "slide_type": "fragment"
    }
   },
   "outputs": [
    {
     "data": {
      "text/plain": [
       "(178, 1)"
      ]
     },
     "execution_count": 16,
     "metadata": {},
     "output_type": "execute_result"
    }
   ],
   "source": [
    "df_wine[['proline']].shape"
   ]
  },
  {
   "cell_type": "markdown",
   "metadata": {
    "slideshow": {
     "slide_type": "slide"
    }
   },
   "source": [
    "# Interpreting Coefficients"
   ]
  },
  {
   "cell_type": "code",
   "execution_count": 17,
   "metadata": {
    "slideshow": {
     "slide_type": "fragment"
    }
   },
   "outputs": [
    {
     "name": "stdout",
     "output_type": "stream",
     "text": [
      "beta=0.002, alpha=11.761\n"
     ]
    }
   ],
   "source": [
    "print(f'beta={lr.coef_[0]:0.3f}, alpha={lr.intercept_:0.3f}')"
   ]
  },
  {
   "cell_type": "code",
   "execution_count": 18,
   "metadata": {
    "slideshow": {
     "slide_type": "fragment"
    }
   },
   "outputs": [
    {
     "name": "stdout",
     "output_type": "stream",
     "text": [
      "alchohol = 0.002*proline + 11.761\n"
     ]
    }
   ],
   "source": [
    "print(f'alchohol = {lr.coef_[0]:0.3f}*proline + {lr.intercept_:0.3f}')"
   ]
  },
  {
   "cell_type": "markdown",
   "metadata": {
    "slideshow": {
     "slide_type": "fragment"
    }
   },
   "source": [
    "- When proline goes up by 1, alcohol goes up by .002\n",
    "- When proline is 0, alcohol is 11.761"
   ]
  },
  {
   "cell_type": "markdown",
   "metadata": {
    "slideshow": {
     "slide_type": "slide"
    }
   },
   "source": [
    "# Plotting The Model"
   ]
  },
  {
   "cell_type": "code",
   "execution_count": 19,
   "metadata": {
    "slideshow": {
     "slide_type": "fragment"
    }
   },
   "outputs": [
    {
     "data": {
      "image/png": "[encoded data removed]",
      "text/plain": [
       "<Figure size 864x576 with 1 Axes>"
      ]
     },
     "metadata": {
      "needs_background": "light"
     },
     "output_type": "display_data"
    }
   ],
   "source": [
    "x_predict = [df_wine.proline.min(),df_wine.proline.max()]\n",
    "y_hat = lr.predict(np.array(x_predict).reshape(-1,1))\n",
    "\n",
    "fig,ax = plt.subplots(1,1,figsize=(12,8))\n",
    "ax = sns.scatterplot(x=df_wine.proline,y=df_wine.alcohol);\n",
    "ax.plot(x_predict,y_hat);"
   ]
  },
  {
   "cell_type": "markdown",
   "metadata": {
    "slideshow": {
     "slide_type": "slide"
    }
   },
   "source": [
    "# Multiple Linear Regression\n",
    "<br>\n",
    "\n",
    "- Including multiple independent variables\n",
    "\n",
    "$$\n",
    "y_i = w_0 + w_1 x_{i1} + w_2 x_{i2} + \\ldots + w_m x_{im} + \\varepsilon_i\n",
    "$$\n",
    "\n",
    "Ex: \n",
    "\n",
    "<center>alcohol = w_0 + w_1*proline + w_2*hue</center>\n",
    "\n",
    "\n",
    "Objective: Find a plane that falls as close to our points as possible\n",
    "\n",
    "<div align=\"center\"><img src=\"images/multiple_linear_regression.png\" width=\"500px\"></div>"
   ]
  },
  {
   "cell_type": "markdown",
   "metadata": {
    "slideshow": {
     "slide_type": "slide"
    }
   },
   "source": [
    "# Multiple Linear Regression in scikit-learn"
   ]
  },
  {
   "cell_type": "code",
   "execution_count": 20,
   "metadata": {
    "slideshow": {
     "slide_type": "fragment"
    }
   },
   "outputs": [
    {
     "name": "stdout",
     "output_type": "stream",
     "text": [
      "proline    :  0.002\n",
      "hue        : -0.842\n",
      "intercept  : 12.459\n"
     ]
    }
   ],
   "source": [
    "mlr = LinearRegression()\n",
    "mlr.fit(X=df_wine[['proline','hue']],y=df_wine.alcohol);\n",
    "\n",
    "for idx,feature in enumerate(['proline','hue']):\n",
    "    print(f'{feature:10s} : {mlr.coef_[idx]: 0.3f}')\n",
    "print(f'{\"intercept\":10s} : {mlr.intercept_:0.3f}')"
   ]
  },
  {
   "cell_type": "markdown",
   "metadata": {},
   "source": [
    "- If we hold everything else constant, what effect does the variable have\n",
    "- If hue is held constant, a rise of 1 proline -> rise of .002 in alcohol\n",
    "- If proline is held constant, a rise of 1 hue -> decrease of .842 in alcohol\n",
    "\n",
    "- Can add interaction terms to allow both to move\n",
    " - Ex: hue * proline\n",
    " - more complicated to interpret"
   ]
  },
  {
   "cell_type": "markdown",
   "metadata": {
    "slideshow": {
     "slide_type": "slide"
    }
   },
   "source": [
    "# Multiple Linear Regression in statsmodels"
   ]
  },
  {
   "cell_type": "code",
   "execution_count": 21,
   "metadata": {
    "slideshow": {
     "slide_type": "fragment"
    }
   },
   "outputs": [
    {
     "name": "stderr",
     "output_type": "stream",
     "text": [
      "/home/bgibson/anaconda3/envs/eods-f21/lib/python3.8/site-packages/statsmodels/tsa/tsatools.py:142: FutureWarning: In a future version of pandas all arguments of concat except for the argument 'objs' will be keyword-only\n",
      "  x = pd.concat(x[::order], 1)\n"
     ]
    },
    {
     "data": {
      "text/html": [
       "<table class=\"simpletable\">\n",
       "<caption>OLS Regression Results</caption>\n",
       "<tr>\n",
       "  <th>Dep. Variable:</th>         <td>alcohol</td>     <th>  R-squared:         </th> <td>   0.467</td>\n",
       "</tr>\n",
       "<tr>\n",
       "  <th>Model:</th>                   <td>OLS</td>       <th>  Adj. R-squared:    </th> <td>   0.461</td>\n",
       "</tr>\n",
       "<tr>\n",
       "  <th>Method:</th>             <td>Least Squares</td>  <th>  F-statistic:       </th> <td>   76.79</td>\n",
       "</tr>\n",
       "<tr>\n",
       "  <th>Date:</th>             <td>Mon, 11 Oct 2021</td> <th>  Prob (F-statistic):</th> <td>1.15e-24</td>\n",
       "</tr>\n",
       "<tr>\n",
       "  <th>Time:</th>                 <td>14:46:04</td>     <th>  Log-Likelihood:    </th> <td> -158.89</td>\n",
       "</tr>\n",
       "<tr>\n",
       "  <th>No. Observations:</th>      <td>   178</td>      <th>  AIC:               </th> <td>   323.8</td>\n",
       "</tr>\n",
       "<tr>\n",
       "  <th>Df Residuals:</th>          <td>   175</td>      <th>  BIC:               </th> <td>   333.3</td>\n",
       "</tr>\n",
       "<tr>\n",
       "  <th>Df Model:</th>              <td>     2</td>      <th>                     </th>     <td> </td>   \n",
       "</tr>\n",
       "<tr>\n",
       "  <th>Covariance Type:</th>      <td>nonrobust</td>    <th>                     </th>     <td> </td>   \n",
       "</tr>\n",
       "</table>\n",
       "<table class=\"simpletable\">\n",
       "<tr>\n",
       "     <td></td>        <th>coef</th>     <th>std err</th>      <th>t</th>      <th>P>|t|</th>  <th>[0.025</th>    <th>0.975]</th>  \n",
       "</tr>\n",
       "<tr>\n",
       "  <th>const</th>   <td>   12.4593</td> <td>    0.203</td> <td>   61.347</td> <td> 0.000</td> <td>   12.058</td> <td>   12.860</td>\n",
       "</tr>\n",
       "<tr>\n",
       "  <th>proline</th> <td>    0.0018</td> <td>    0.000</td> <td>   12.325</td> <td> 0.000</td> <td>    0.002</td> <td>    0.002</td>\n",
       "</tr>\n",
       "<tr>\n",
       "  <th>hue</th>     <td>   -0.8418</td> <td>    0.202</td> <td>   -4.175</td> <td> 0.000</td> <td>   -1.240</td> <td>   -0.444</td>\n",
       "</tr>\n",
       "</table>\n",
       "<table class=\"simpletable\">\n",
       "<tr>\n",
       "  <th>Omnibus:</th>       <td> 0.751</td> <th>  Durbin-Watson:     </th> <td>   1.734</td>\n",
       "</tr>\n",
       "<tr>\n",
       "  <th>Prob(Omnibus):</th> <td> 0.687</td> <th>  Jarque-Bera (JB):  </th> <td>   0.606</td>\n",
       "</tr>\n",
       "<tr>\n",
       "  <th>Skew:</th>          <td> 0.142</td> <th>  Prob(JB):          </th> <td>   0.739</td>\n",
       "</tr>\n",
       "<tr>\n",
       "  <th>Kurtosis:</th>      <td> 3.028</td> <th>  Cond. No.          </th> <td>4.96e+03</td>\n",
       "</tr>\n",
       "</table><br/><br/>Notes:<br/>[1] Standard Errors assume that the covariance matrix of the errors is correctly specified.<br/>[2] The condition number is large, 4.96e+03. This might indicate that there are<br/>strong multicollinearity or other numerical problems."
      ],
      "text/plain": [
       "<class 'statsmodels.iolib.summary.Summary'>\n",
       "\"\"\"\n",
       "                            OLS Regression Results                            \n",
       "==============================================================================\n",
       "Dep. Variable:                alcohol   R-squared:                       0.467\n",
       "Model:                            OLS   Adj. R-squared:                  0.461\n",
       "Method:                 Least Squares   F-statistic:                     76.79\n",
       "Date:                Mon, 11 Oct 2021   Prob (F-statistic):           1.15e-24\n",
       "Time:                        14:46:04   Log-Likelihood:                -158.89\n",
       "No. Observations:                 178   AIC:                             323.8\n",
       "Df Residuals:                     175   BIC:                             333.3\n",
       "Df Model:                           2                                         \n",
       "Covariance Type:            nonrobust                                         \n",
       "==============================================================================\n",
       "                 coef    std err          t      P>|t|      [0.025      0.975]\n",
       "------------------------------------------------------------------------------\n",
       "const         12.4593      0.203     61.347      0.000      12.058      12.860\n",
       "proline        0.0018      0.000     12.325      0.000       0.002       0.002\n",
       "hue           -0.8418      0.202     -4.175      0.000      -1.240      -0.444\n",
       "==============================================================================\n",
       "Omnibus:                        0.751   Durbin-Watson:                   1.734\n",
       "Prob(Omnibus):                  0.687   Jarque-Bera (JB):                0.606\n",
       "Skew:                           0.142   Prob(JB):                        0.739\n",
       "Kurtosis:                       3.028   Cond. No.                     4.96e+03\n",
       "==============================================================================\n",
       "\n",
       "Notes:\n",
       "[1] Standard Errors assume that the covariance matrix of the errors is correctly specified.\n",
       "[2] The condition number is large, 4.96e+03. This might indicate that there are\n",
       "strong multicollinearity or other numerical problems.\n",
       "\"\"\""
      ]
     },
     "execution_count": 21,
     "metadata": {},
     "output_type": "execute_result"
    }
   ],
   "source": [
    "import statsmodels.api as sm\n",
    "\n",
    "X = df_wine[['proline','hue']]\n",
    "X = sm.add_constant(X)\n",
    "y = df_wine.alcohol                \n",
    "sm_mlr = sm.OLS(y,X).fit() # Note: y,X passed as parameters to object, not fit\n",
    "sm_mlr.summary()"
   ]
  },
  {
   "cell_type": "markdown",
   "metadata": {
    "slideshow": {
     "slide_type": "slide"
    }
   },
   "source": [
    "# Dealing With the Intercept/Bias\n",
    "\n",
    "- Two ways of keeping track of the bias term"
   ]
  },
  {
   "cell_type": "markdown",
   "metadata": {
    "slideshow": {
     "slide_type": "fragment"
    }
   },
   "source": [
    "1. Keep it as a separate parameter: \n",
    "\n",
    " - $\\Large y = w_0 + w_1x_1 + w_2x_2 + \\ldots + w_mx_m$\n",
    " - $\\Large y = w_0 + \\sum_{i=1}^{m}{w_ix_i}$"
   ]
  },
  {
   "cell_type": "markdown",
   "metadata": {
    "slideshow": {
     "slide_type": "fragment"
    }
   },
   "source": [
    "2. Append a constant of $x_0=1$ so $x$ and $w$ are the same length\n",
    "\n",
    " - $\\Large y = w_0x_0 + w_1x_1 + w_2x_2 + \\ldots + w_mx_m$\n",
    " - $\\Large y = \\sum_{i=0}^{m}{w_ix_i}$"
   ]
  },
  {
   "cell_type": "markdown",
   "metadata": {
    "slideshow": {
     "slide_type": "slide"
    }
   },
   "source": [
    "# Standardizing/Normalizing Features for Interpretation"
   ]
  },
  {
   "cell_type": "code",
   "execution_count": 22,
   "metadata": {
    "slideshow": {
     "slide_type": "fragment"
    }
   },
   "outputs": [
    {
     "name": "stdout",
     "output_type": "stream",
     "text": [
      "proline    :  0.002\n",
      "hue        : -0.842\n"
     ]
    }
   ],
   "source": [
    "for (name,coef) in zip(['proline','hue'],mlr.coef_):\n",
    "    print(f'{name:10s} : {coef: 0.3f}')"
   ]
  },
  {
   "cell_type": "code",
   "execution_count": 23,
   "metadata": {
    "slideshow": {
     "slide_type": "fragment"
    }
   },
   "outputs": [
    {
     "data": {
      "image/png": "[encoded data removed]",
      "text/plain": [
       "<Figure size 864x288 with 2 Axes>"
      ]
     },
     "metadata": {
      "needs_background": "light"
     },
     "output_type": "display_data"
    }
   ],
   "source": [
    "fig,ax = plt.subplots(1,2,figsize=(12,4))\n",
    "sns.regplot(x='proline',y='alcohol',data=df_wine,ax=ax[0])\n",
    "sns.regplot(x='hue',y='alcohol',data=df_wine,ax=ax[1]);"
   ]
  },
  {
   "cell_type": "markdown",
   "metadata": {
    "slideshow": {
     "slide_type": "fragment"
    }
   },
   "source": [
    "What would the coefficents look like if the features were on the same scale?"
   ]
  },
  {
   "cell_type": "markdown",
   "metadata": {
    "slideshow": {
     "slide_type": "slide"
    }
   },
   "source": [
    "# Standardizing/Normalizing Features for Gradient Descent\n",
    "<br>"
   ]
  },
  {
   "cell_type": "markdown",
   "metadata": {
    "slideshow": {
     "slide_type": "fragment"
    }
   },
   "source": [
    "<center>$\\Large z = \\frac{x - \\bar{x}}{s}$</center>"
   ]
  },
  {
   "cell_type": "markdown",
   "metadata": {
    "slideshow": {
     "slide_type": "fragment"
    }
   },
   "source": [
    "<div align=\"center\"><img src=\"images/gradient_descent_with_standardization.png\" width=\"600px\"></div>\n",
    "\n",
    "From PML"
   ]
  },
  {
   "cell_type": "markdown",
   "metadata": {
    "slideshow": {
     "slide_type": "slide"
    }
   },
   "source": [
    "# Multiple Linear Regression with Standardization/Normalization"
   ]
  },
  {
   "cell_type": "markdown",
   "metadata": {
    "slideshow": {
     "slide_type": "fragment"
    }
   },
   "source": [
    "- `DataFrame.apply()`: apply a function to each column (axis=0) or each row (axis=1)"
   ]
  },
  {
   "cell_type": "code",
   "execution_count": 24,
   "metadata": {
    "slideshow": {
     "slide_type": "fragment"
    }
   },
   "outputs": [
    {
     "name": "stdout",
     "output_type": "stream",
     "text": [
      "proline    :  0.568\n",
      "hue        : -0.192\n"
     ]
    }
   ],
   "source": [
    "X_zscore = df_wine[['proline','hue']].apply(lambda x: (x-x.mean())/x.std(),axis=0)\n",
    "\n",
    "mlr_n = LinearRegression()\n",
    "mlr_n.fit(X_zscore, df_wine.alcohol)\n",
    "for (name,coef) in zip(X_zscore.columns,mlr_n.coef_):\n",
    "    print(f'{name:10s} : {coef: 0.3f}')"
   ]
  },
  {
   "cell_type": "code",
   "execution_count": 25,
   "metadata": {
    "slideshow": {
     "slide_type": "fragment"
    }
   },
   "outputs": [
    {
     "data": {
      "image/png": "[encoded data removed]",
      "text/plain": [
       "<Figure size 864x288 with 2 Axes>"
      ]
     },
     "metadata": {
      "needs_background": "light"
     },
     "output_type": "display_data"
    }
   ],
   "source": [
    "fig,ax = plt.subplots(1,2,figsize=(12,4))\n",
    "sns.regplot(x=X_zscore.proline,y=df_wine.alcohol,ax=ax[0]);\n",
    "sns.regplot(x=X_zscore.hue,y=df_wine.alcohol,ax=ax[1]);"
   ]
  },
  {
   "cell_type": "markdown",
   "metadata": {
    "slideshow": {
     "slide_type": "slide"
    }
   },
   "source": [
    "# Colinarity\n",
    "\n",
    "- MLR assumes features are linearly independent\n",
    " - eg: Can't rewrite one column as a weighted sum of the others\n",
    " - Ex: in tips dataset: number of entrees ordered will likely be linearly related to table size\n",
    "<br>\n",
    "\n",
    "\n",
    "- Issue: Model won't know how to estimate $w$\n",
    " - If we add to one $w_i$ and subtract from another, there will be no change in error\n",
    "<br>\n",
    "\n",
    "\n",
    "- Try to remove obvious colinearity\n",
    " - can use correlation and linear regression to detect\n",
    " - Important to consider when constructing categorical features (feature engineering)"
   ]
  },
  {
   "cell_type": "markdown",
   "metadata": {
    "slideshow": {
     "slide_type": "slide"
    }
   },
   "source": [
    "# Aside: Interpretation Vs. Prediction\n",
    "<br>\n",
    "\n",
    "\n",
    "- Interpretation: Explain how observed features relate to observed target\n",
    "- Prediction: Given new features, can we generate a prediction\n",
    "<br>\n",
    "    \n",
    "- Often asked to do one or the other, be clear which is most important\n",
    "- In prediction, may not worry about interpreting the model!\n",
    "<br>\n",
    "\n",
    "- There is increased attention on interpretability"
   ]
  },
  {
   "cell_type": "markdown",
   "metadata": {
    "slideshow": {
     "slide_type": "slide"
    }
   },
   "source": [
    "<br>\n",
    "<br>\n",
    "\n",
    "# <center>Questions re Regression with Linear Models?</center>\n",
    "<br>\n",
    "<br>"
   ]
  },
  {
   "cell_type": "markdown",
   "metadata": {
    "slideshow": {
     "slide_type": "slide"
    }
   },
   "source": [
    "# Classification\n",
    "<br>\n",
    "\n",
    "- **Regression** -> predict a numeric value\n",
    "- **Classification** -> predict a discrete class, category\n",
    "\n",
    "\n",
    "- **Binary classification** : two categories\n",
    " - pos/neg, cat/dog, win/lose\n",
    "<br>\n",
    "\n",
    "- **Multiclass classification** : more than two categories\n",
    " - red/green/blue, flower type, integer 0-10\n",
    "<br>\n",
    "\n",
    "- **Multilabel classification** : can assign more than one label to an instance\n",
    " - paper topics, entities in image"
   ]
  },
  {
   "cell_type": "markdown",
   "metadata": {
    "slideshow": {
     "slide_type": "slide"
    }
   },
   "source": [
    "# Wine as Binary Classification"
   ]
  },
  {
   "cell_type": "code",
   "execution_count": 26,
   "metadata": {
    "slideshow": {
     "slide_type": "fragment"
    }
   },
   "outputs": [
    {
     "data": {
      "text/plain": [
       "1    71\n",
       "0    59\n",
       "2    48\n",
       "Name: class, dtype: int64"
      ]
     },
     "execution_count": 26,
     "metadata": {},
     "output_type": "execute_result"
    }
   ],
   "source": [
    "df_wine['class'].value_counts()"
   ]
  },
  {
   "cell_type": "code",
   "execution_count": 27,
   "metadata": {
    "slideshow": {
     "slide_type": "fragment"
    }
   },
   "outputs": [
    {
     "data": {
      "text/plain": [
       "1    71\n",
       "0    59\n",
       "Name: target, dtype: int64"
      ]
     },
     "execution_count": 27,
     "metadata": {},
     "output_type": "execute_result"
    }
   ],
   "source": [
    "# only keep classes 0 and 1\n",
    "df_wine_2class = df_wine[df_wine['class'] < 2]\n",
    "\n",
    "# rename 'class' as 'target', since class is a reserved python word\n",
    "df_wine_2class = df_wine_2class.rename({'class':'target'},axis=1)\n",
    "\n",
    "df_wine_2class.target.value_counts()"
   ]
  },
  {
   "cell_type": "markdown",
   "metadata": {
    "slideshow": {
     "slide_type": "slide"
    }
   },
   "source": [
    "# Classifying Wine with a Linear Model"
   ]
  },
  {
   "cell_type": "markdown",
   "metadata": {
    "slideshow": {
     "slide_type": "fragment"
    }
   },
   "source": [
    "- Can't use our linear regression model directly"
   ]
  },
  {
   "cell_type": "code",
   "execution_count": 28,
   "metadata": {
    "slideshow": {
     "slide_type": "fragment"
    }
   },
   "outputs": [
    {
     "data": {
      "image/png": "[encoded data removed]",
      "text/plain": [
       "<Figure size 576x432 with 1 Axes>"
      ]
     },
     "metadata": {
      "needs_background": "light"
     },
     "output_type": "display_data"
    }
   ],
   "source": [
    "fig,ax = plt.subplots(1,1,figsize=(8,6))\n",
    "sns.regplot(x=df_wine_2class.proline,y=df_wine_2class.target);\n",
    "ax.plot([400,800,800,1600],[1,1,0,0],c='r');"
   ]
  },
  {
   "cell_type": "markdown",
   "metadata": {
    "slideshow": {
     "slide_type": "fragment"
    }
   },
   "source": [
    "- Want something with that looks like a threshold\n",
    "- Would like a prediction between 0 and 1"
   ]
  },
  {
   "cell_type": "markdown",
   "metadata": {
    "slideshow": {
     "slide_type": "slide"
    }
   },
   "source": [
    "# Logistic Regression"
   ]
  },
  {
   "cell_type": "markdown",
   "metadata": {
    "slideshow": {
     "slide_type": "fragment"
    }
   },
   "source": [
    "<center>$\\Large logistic(x) = \\frac{1}{1+e^{(-x)}}$</center>"
   ]
  },
  {
   "cell_type": "code",
   "execution_count": 29,
   "metadata": {
    "slideshow": {
     "slide_type": "fragment"
    }
   },
   "outputs": [
    {
     "data": {
      "image/png": "[encoded data removed]",
      "text/plain": [
       "<Figure size 576x432 with 1 Axes>"
      ]
     },
     "metadata": {
      "needs_background": "light"
     },
     "output_type": "display_data"
    }
   ],
   "source": [
    "def logistic(x,w1=1,w0=0):\n",
    "    return 1 / (1+np.exp(-(w0+w1*x)))\n",
    "\n",
    "x = np.linspace(-10,10,1000) # generate 1000 numbers evenly spaced between -10 and 10\n",
    "fig,ax = plt.subplots(1,1,figsize=(8,6))\n",
    "ax.plot(x,logistic(x));\n",
    "ax.set_xlabel('x');ax.set_ylabel('logistic(x)');"
   ]
  },
  {
   "cell_type": "markdown",
   "metadata": {
    "slideshow": {
     "slide_type": "slide"
    }
   },
   "source": [
    "# Logistic Regression with sklearn"
   ]
  },
  {
   "cell_type": "markdown",
   "metadata": {
    "slideshow": {
     "slide_type": "fragment"
    }
   },
   "source": [
    "- Our problem becomes: $P(y_i=1|x_i) = logistic(w_0 + w_1 x_i)+\\varepsilon_i$"
   ]
  },
  {
   "cell_type": "code",
   "execution_count": 30,
   "metadata": {
    "slideshow": {
     "slide_type": "fragment"
    }
   },
   "outputs": [
    {
     "name": "stdout",
     "output_type": "stream",
     "text": [
      "w_0 = 11.97\n",
      "w_1 = -0.01\n"
     ]
    }
   ],
   "source": [
    "from sklearn.linear_model import LogisticRegression\n",
    "\n",
    "X = df_wine_2class.proline.values.reshape(-1,1)\n",
    "y = df_wine_2class.target\n",
    "\n",
    "logr = LogisticRegression(fit_intercept=True).fit(X,y)\n",
    "print(f'w_0 = {logr.intercept_[0]:0.2f}')\n",
    "print(f'w_1 = {logr.coef_[0][0]:0.2f}')"
   ]
  },
  {
   "cell_type": "code",
   "execution_count": 31,
   "metadata": {
    "slideshow": {
     "slide_type": "fragment"
    }
   },
   "outputs": [
    {
     "data": {
      "image/png": "[encoded data removed]",
      "text/plain": [
       "<Figure size 432x288 with 1 Axes>"
      ]
     },
     "metadata": {
      "needs_background": "light"
     },
     "output_type": "display_data"
    }
   ],
   "source": [
    "fig,ax = plt.subplots(1,1,figsize=(6,4))\n",
    "x = np.linspace(300,1700,1000)\n",
    "logistic_x = logistic(x,logr.coef_[0],logr.intercept_)\n",
    "ax.plot(x,logistic_x,c='gray');\n",
    "sns.scatterplot(x=df_wine_2class.proline,y=df_wine_2class.target, ax=ax);"
   ]
  },
  {
   "cell_type": "markdown",
   "metadata": {
    "slideshow": {
     "slide_type": "slide"
    }
   },
   "source": [
    "# Adding the Threshold"
   ]
  },
  {
   "cell_type": "markdown",
   "metadata": {
    "slideshow": {
     "slide_type": "fragment"
    }
   },
   "source": [
    "- Can treat the output of the logistic function as $P(y=1|x)$\n",
    "- Threshold at .5 (50%) to get class prediction"
   ]
  },
  {
   "cell_type": "code",
   "execution_count": 32,
   "metadata": {
    "slideshow": {
     "slide_type": "fragment"
    }
   },
   "outputs": [
    {
     "data": {
      "image/png": "[encoded data removed]",
      "text/plain": [
       "<Figure size 432x288 with 1 Axes>"
      ]
     },
     "metadata": {
      "needs_background": "light"
     },
     "output_type": "display_data"
    }
   ],
   "source": [
    "threshold = x[np.argmin(np.abs(logistic_x - .5))]\n",
    "\n",
    "predicted_0 = df_wine_2class[df_wine_2class.proline <= threshold]\n",
    "predicted_1 = df_wine_2class[df_wine_2class.proline > threshold]\n",
    "\n",
    "fig,ax = plt.subplots(1,1,figsize=(6,4))\n",
    "sns.scatterplot(x='proline',y='target', data=predicted_0, color='r',ax=ax);\n",
    "sns.scatterplot(x='proline',y='target', data=predicted_1, color='b',ax=ax);\n",
    "ax.plot(x,logistic_x,c='gray');\n",
    "ax.axvline(threshold,c='k');"
   ]
  },
  {
   "cell_type": "markdown",
   "metadata": {
    "slideshow": {
     "slide_type": "slide"
    }
   },
   "source": [
    "# Getting Predictions from sklearn"
   ]
  },
  {
   "cell_type": "code",
   "execution_count": 33,
   "metadata": {
    "slideshow": {
     "slide_type": "fragment"
    }
   },
   "outputs": [
    {
     "data": {
      "image/png": "[encoded data removed]",
      "text/plain": [
       "<Figure size 576x432 with 1 Axes>"
      ]
     },
     "metadata": {
      "needs_background": "light"
     },
     "output_type": "display_data"
    }
   ],
   "source": [
    "yhat = logr.predict(X)\n",
    "\n",
    "predicted_0 = df_wine_2class[yhat==0]\n",
    "predicted_1 = df_wine_2class[yhat==1]\n",
    "\n",
    "fig,ax = plt.subplots(1,1,figsize=(8,6))\n",
    "sns.scatterplot(x='proline',y='target', data=predicted_0, color='r',ax=ax);\n",
    "sns.scatterplot(x='proline',y='target', data=predicted_1, color='b',ax=ax);\n",
    "ax.axvline(threshold,c='k');"
   ]
  },
  {
   "cell_type": "markdown",
   "metadata": {
    "slideshow": {
     "slide_type": "fragment"
    }
   },
   "source": [
    "Note we have some errors!"
   ]
  },
  {
   "cell_type": "markdown",
   "metadata": {
    "slideshow": {
     "slide_type": "slide"
    }
   },
   "source": [
    "# Getting Probabilities from sklearn"
   ]
  },
  {
   "cell_type": "markdown",
   "metadata": {
    "slideshow": {
     "slide_type": "fragment"
    }
   },
   "source": [
    "- said we could use output of logistic as $P(y=1|x)$"
   ]
  },
  {
   "cell_type": "code",
   "execution_count": 34,
   "metadata": {
    "slideshow": {
     "slide_type": ""
    }
   },
   "outputs": [
    {
     "data": {
      "text/plain": [
       "array([[9.81833759e-01, 1.81662409e-02],\n",
       "       [9.77356984e-01, 2.26430157e-02],\n",
       "       [9.96947414e-01, 3.05258552e-03],\n",
       "       [9.99963234e-01, 3.67664871e-05],\n",
       "       [2.77482032e-01, 7.22517968e-01]])"
      ]
     },
     "execution_count": 34,
     "metadata": {},
     "output_type": "execute_result"
    }
   ],
   "source": [
    "p_y = logr.predict_proba(X)\n",
    "p_y[:5] # p(y=0|x), p(y=1|x)"
   ]
  },
  {
   "cell_type": "code",
   "execution_count": 35,
   "metadata": {
    "slideshow": {
     "slide_type": "fragment"
    }
   },
   "outputs": [
    {
     "data": {
      "image/png": "[encoded data removed]",
      "text/plain": [
       "<Figure size 432x288 with 1 Axes>"
      ]
     },
     "metadata": {
      "needs_background": "light"
     },
     "output_type": "display_data"
    }
   ],
   "source": [
    "plt.scatter(df_wine_2class.proline,p_y[:,1]);"
   ]
  },
  {
   "cell_type": "markdown",
   "metadata": {
    "slideshow": {
     "slide_type": "slide"
    }
   },
   "source": [
    "# Interpreting Logistic Regression Coefficients\n",
    "<br>\n",
    "\n",
    "- After some math\n",
    "\n",
    "<center>\n",
    "$\\log\\left(\\frac{y_i}{1-y_i}\\right) = w_0 + w_1 x_{i1}$</center>\n",
    "\n",
    "- this is the **log odds ratio** of p(y=1)/p(y=0)\n",
    "- odds range from 0 to positive infinity\n",
    "\n",
    "- odds(5) -> 5/1 -> 5 out of 6 times -> .83\n",
    "\n",
    "- odds(.2) -> 1/5 -> 1 out of 6 times -> .16\n",
    "\n",
    "\n",
    "See [here](https://stats.idre.ucla.edu/other/mult-pkg/faq/general/faq-how-do-i-interpret-odds-ratios-in-logistic-regression/) for a good explanation\n"
   ]
  },
  {
   "cell_type": "markdown",
   "metadata": {
    "slideshow": {
     "slide_type": "slide"
    }
   },
   "source": [
    "# Logistic Regression with Multiple Features"
   ]
  },
  {
   "cell_type": "code",
   "execution_count": 36,
   "metadata": {
    "slideshow": {
     "slide_type": "fragment"
    }
   },
   "outputs": [
    {
     "name": "stdout",
     "output_type": "stream",
     "text": [
      "proline    : -3.464\n",
      "hue        :  0.488\n"
     ]
    }
   ],
   "source": [
    "X = df_wine_2class[['proline','hue']]\n",
    "X_zscore = X.apply(lambda x: (x-x.mean())/x.std())\n",
    "\n",
    "logrm = LogisticRegression().fit(X_zscore,y)\n",
    "for (name,coef) in zip(X.columns,logrm.coef_[0]):\n",
    "    print(f'{name:10s} : {coef: 0.3f}')"
   ]
  },
  {
   "cell_type": "code",
   "execution_count": 37,
   "metadata": {
    "slideshow": {
     "slide_type": "fragment"
    }
   },
   "outputs": [
    {
     "data": {
      "image/png": "[encoded data removed]",
      "text/plain": [
       "<Figure size 432x432 with 1 Axes>"
      ]
     },
     "metadata": {
      "needs_background": "light"
     },
     "output_type": "display_data"
    }
   ],
   "source": [
    "# need to have run: conda install -n eods-s21 -c conda-forge mlxtend\n",
    "from mlxtend.plotting import plot_decision_regions\n",
    "\n",
    "fig,ax = plt.subplots(1,1,figsize=(6,6))\n",
    "plot_decision_regions(X_zscore.values, y.values, clf=logrm, ax=ax);\n",
    "ax.set_xlabel(X.columns[0]); ax.set_ylabel(X.columns[1]);"
   ]
  },
  {
   "cell_type": "markdown",
   "metadata": {
    "slideshow": {
     "slide_type": "slide"
    }
   },
   "source": [
    "# Reminder: Multi-Class and Multi-Label Classification\n",
    "<br>\n",
    "\n",
    "- **Multi-Class**: More than 2 classes (Binary Classifiction)\n",
    "  - Ex: color is one of 'red', 'green' or 'blue'\n",
    "<br>\n",
    "\n",
    "\n",
    "- **Multi-Label**: Each item can belong to more than one class\n",
    "  - Ex: picture contains ['car','bus','motorcycle']"
   ]
  },
  {
   "cell_type": "markdown",
   "metadata": {
    "slideshow": {
     "slide_type": "slide"
    }
   },
   "source": [
    "# Wine as Multi-Class Classification"
   ]
  },
  {
   "cell_type": "code",
   "execution_count": 38,
   "metadata": {
    "slideshow": {
     "slide_type": "fragment"
    }
   },
   "outputs": [
    {
     "data": {
      "text/plain": [
       "0    59\n",
       "1    71\n",
       "2    48\n",
       "Name: class, dtype: int64"
      ]
     },
     "execution_count": 38,
     "metadata": {},
     "output_type": "execute_result"
    }
   ],
   "source": [
    "df_wine = pd.read_csv('../data/wine_dataset.csv',usecols=['alcohol','ash','proline','hue','class'])\n",
    "\n",
    "X = df_wine[['proline','hue']]\n",
    "y = df_wine['class'] # 3 classes: [0,1,2]\n",
    "\n",
    "zscore = lambda x: (x-x.mean()) / x.std()\n",
    "\n",
    "X_zscore = X.apply(zscore,axis=0)\n",
    "alcohol_zscore = zscore(df_wine.alcohol)\n",
    "\n",
    "y.value_counts().sort_index()"
   ]
  },
  {
   "cell_type": "markdown",
   "metadata": {
    "slideshow": {
     "slide_type": "slide"
    }
   },
   "source": [
    "# One Vs. Rest (OvR) Classification For Multi-Class, Multi-Label\n",
    "<br>\n",
    "\n",
    "- Can use any binary classifier for Multiclass/Multilabel classification by training multiple models:\n",
    "\n",
    " - model 1 : class 1 vs (class 2 and class 3)\n",
    " - model 2 : class 2 vs (class 1 and class 3)\n",
    " - model 3 : class 3 vs (class 1 and class 2)\n",
    "<br>\n",
    "<br>\n",
    "\n",
    "- For Multi-Class\n",
    " - Predict $\\hat{y}$ using the model with highest $P(y=\\hat{y}\\mid x)$, or distance from boundary, or ...\n",
    "<br>\n",
    "<br>\n",
    "\n",
    "- For Multi-Label\n",
    " - Predict $\\hat{y}$ for any model that predicts a value above some threshold\n",
    "<br>\n",
    "<br>\n",
    " \n",
    "See [sklearn](https://scikit-learn.org/stable/modules/multiclass.html) for more info and other methods"
   ]
  },
  {
   "cell_type": "markdown",
   "metadata": {
    "slideshow": {
     "slide_type": "slide"
    }
   },
   "source": [
    "# OvR For Logistic Regression"
   ]
  },
  {
   "cell_type": "code",
   "execution_count": 39,
   "metadata": {
    "slideshow": {
     "slide_type": "fragment"
    }
   },
   "outputs": [
    {
     "name": "stdout",
     "output_type": "stream",
     "text": [
      "[0 1 2]\n",
      "[[9.67392098e-01 3.14881014e-02 1.11980048e-03]\n",
      " [1.46331313e-01 8.53010324e-01 6.58362811e-04]\n",
      " [1.75637296e-01 3.44369368e-01 4.79993336e-01]]\n"
     ]
    }
   ],
   "source": [
    "from sklearn.linear_model import LogisticRegression\n",
    "logr = LogisticRegression(multi_class='ovr', # default\n",
    "                          max_iter=1000      # to avoid errors\n",
    "                         )\n",
    "logr.fit(X_zscore,y)\n",
    "\n",
    "print(logr.predict(X_zscore.iloc[[15,82,166]]))\n",
    "print(logr.predict_proba(X_zscore.iloc[[15,82,166]]))"
   ]
  },
  {
   "cell_type": "code",
   "execution_count": 40,
   "metadata": {
    "slideshow": {
     "slide_type": "fragment"
    }
   },
   "outputs": [
    {
     "data": {
      "image/png": "[encoded data removed]",
      "text/plain": [
       "<Figure size 432x432 with 1 Axes>"
      ]
     },
     "metadata": {
      "needs_background": "light"
     },
     "output_type": "display_data"
    }
   ],
   "source": [
    "fig,ax = plt.subplots(1,1,figsize=(6,6))\n",
    "plot_decision_regions(X_zscore.values,y.values,logr)\n",
    "ax.set_xlabel(X.columns[0]); ax.set_ylabel(X.columns[1]);"
   ]
  },
  {
   "cell_type": "markdown",
   "metadata": {
    "slideshow": {
     "slide_type": "slide"
    }
   },
   "source": [
    "<br>\n",
    "<br>\n",
    "\n",
    "# <center>Questions re Classification with Linear Models?</center>\n",
    "<br>\n",
    "<br>"
   ]
  },
  {
   "cell_type": "markdown",
   "metadata": {
    "slideshow": {
     "slide_type": "slide"
    }
   },
   "source": [
    "# Linearly Seperable Data\n",
    "<br>\n",
    "\n",
    "\n",
    "- Logistic Regression depends on data being linearly seperable\n",
    "<br>\n",
    "<br>\n",
    "\n",
    "<div align=\"center\"><img src=\"images/linearly_seperable.png\"></div>\n",
    "\n",
    "From PML"
   ]
  },
  {
   "cell_type": "markdown",
   "metadata": {
    "slideshow": {
     "slide_type": "slide"
    }
   },
   "source": [
    "# Distance Based: k-Nearest Neighbor (kNN)\n",
    "<br>\n",
    "- What category do most of the $k$ nearest neighbors belong to?\n",
    "<br>\n",
    "<br>\n",
    "<br>\n",
    "<div align=\"center\"><img src=\"images/knn_classifier.png\" width=\"600px\"></div>\n",
    "\n",
    "From PML"
   ]
  },
  {
   "cell_type": "markdown",
   "metadata": {
    "slideshow": {
     "slide_type": "slide"
    }
   },
   "source": [
    "# KNN in sklearn"
   ]
  },
  {
   "cell_type": "code",
   "execution_count": 41,
   "metadata": {
    "slideshow": {
     "slide_type": "fragment"
    }
   },
   "outputs": [
    {
     "data": {
      "image/png": "[encoded data removed]",
      "text/plain": [
       "<Figure size 432x432 with 1 Axes>"
      ]
     },
     "metadata": {
      "needs_background": "light"
     },
     "output_type": "display_data"
    }
   ],
   "source": [
    "from sklearn.neighbors import KNeighborsClassifier\n",
    "\n",
    "knn = KNeighborsClassifier(n_neighbors=5)\n",
    "knn.fit(X_zscore,y)\n",
    "\n",
    "fig,ax = plt.subplots(1,1,figsize=(6,6))\n",
    "plot_decision_regions(X_zscore.values, y.values, clf=knn);\n",
    "ax.set_xlabel(X.columns[0]); ax.set_ylabel(X.columns[1]);"
   ]
  },
  {
   "cell_type": "markdown",
   "metadata": {
    "slideshow": {
     "slide_type": "slide"
    }
   },
   "source": [
    "# Effects of Standardization on Distance Based Methods"
   ]
  },
  {
   "cell_type": "code",
   "execution_count": 42,
   "metadata": {
    "slideshow": {
     "slide_type": "fragment"
    }
   },
   "outputs": [
    {
     "data": {
      "image/png": "[encoded data removed]",
      "text/plain": [
       "<Figure size 936x432 with 2 Axes>"
      ]
     },
     "metadata": {
      "needs_background": "light"
     },
     "output_type": "display_data"
    }
   ],
   "source": [
    "knn        = KNeighborsClassifier(n_neighbors=3).fit(X,y)\n",
    "knn_zscore = KNeighborsClassifier(n_neighbors=3).fit(X_zscore,y)\n",
    "\n",
    "fig,ax = plt.subplots(1,2,figsize=(13,6))\n",
    "plot_decision_regions(X.values, y.values, clf=knn, ax=ax[0]);\n",
    "ax[0].set_xlabel(X.columns[0]); ax[0].set_ylabel(X.columns[1]);\n",
    "\n",
    "plot_decision_regions(X_zscore.values, y.values, clf=knn_zscore, ax=ax[1]);\n",
    "ax[1].set_xlabel(X.columns[0]); ax[1].set_ylabel(X.columns[1]);"
   ]
  },
  {
   "cell_type": "markdown",
   "metadata": {
    "slideshow": {
     "slide_type": "slide"
    }
   },
   "source": [
    "# Regression with kNN\n"
   ]
  },
  {
   "cell_type": "code",
   "execution_count": 43,
   "metadata": {
    "slideshow": {
     "slide_type": "fragment"
    }
   },
   "outputs": [
    {
     "data": {
      "image/png": "[encoded data removed]",
      "text/plain": [
       "<Figure size 432x432 with 1 Axes>"
      ]
     },
     "metadata": {
      "needs_background": "light"
     },
     "output_type": "display_data"
    }
   ],
   "source": [
    "from sklearn.neighbors import KNeighborsRegressor, KNeighborsClassifier\n",
    "\n",
    "knnr = KNeighborsRegressor(n_neighbors=5)\n",
    "knnr.fit(X_zscore.proline.values.reshape(-1,1),alcohol_zscore)\n",
    "X_test = np.linspace(-2,4,1000).reshape(-1,1)\n",
    "y_hat = knnr.predict(X_test)\n",
    "\n",
    "fig,ax = plt.subplots(1,1,figsize=(6,6))\n",
    "ax.scatter(X_zscore.proline, alcohol_zscore, s=20, edgecolor=\"black\", c=\"darkorange\", label=\"data\")\n",
    "ax.plot(X_test, y_hat, color=\"cornflowerblue\", label=\"n_neighbors=5\", linewidth=2)\n",
    "ax.set_xlabel('proline'); ax.set_ylabel('alcohol'); ax.legend();"
   ]
  },
  {
   "cell_type": "code",
   "execution_count": 44,
   "metadata": {
    "slideshow": {
     "slide_type": "fragment"
    }
   },
   "outputs": [
    {
     "name": "stdout",
     "output_type": "stream",
     "text": [
      "0.96 : [1.16451234]\n"
     ]
    }
   ],
   "source": [
    "print(f'{X_zscore.iloc[1].proline:0.2f} : {knnr.predict(X_zscore.iloc[1].proline.reshape(-1,1))}')"
   ]
  },
  {
   "cell_type": "markdown",
   "metadata": {
    "slideshow": {
     "slide_type": "slide"
    }
   },
   "source": [
    "# Decision Tree\n",
    "\n",
    "- What answer does a series of yes/no questions lead us to?\n",
    "<br>\n",
    "<br>\n",
    "\n",
    "<div align=\"center\"><img src=\"images/decisiontree_smallexample.png\" width=\"600px\"></div>\n",
    "\n",
    "From PML"
   ]
  },
  {
   "cell_type": "markdown",
   "metadata": {
    "slideshow": {
     "slide_type": "slide"
    }
   },
   "source": [
    "# Decision Tree Classifier in sklearn"
   ]
  },
  {
   "cell_type": "code",
   "execution_count": 45,
   "metadata": {
    "slideshow": {
     "slide_type": "fragment"
    }
   },
   "outputs": [
    {
     "data": {
      "image/png": "[encoded data removed]",
      "text/plain": [
       "<Figure size 432x432 with 1 Axes>"
      ]
     },
     "metadata": {
      "needs_background": "light"
     },
     "output_type": "display_data"
    }
   ],
   "source": [
    "from sklearn.tree import DecisionTreeClassifier\n",
    "\n",
    "dtc = DecisionTreeClassifier(max_depth=10)\n",
    "dtc.fit(X,y)\n",
    "\n",
    "fig,ax = plt.subplots(1,1,figsize=(6,6))\n",
    "plot_decision_regions(X.values, y.values, clf=dtc);\n",
    "plt.xlabel(X.columns[0]); plt.ylabel(X.columns[1]);"
   ]
  },
  {
   "cell_type": "markdown",
   "metadata": {
    "slideshow": {
     "slide_type": "slide"
    }
   },
   "source": [
    "# Building a Decision Tree\n",
    "<br>\n",
    "\n",
    "- How to decide which question to choose? **Reduce Impurity**"
   ]
  },
  {
   "cell_type": "markdown",
   "metadata": {
    "slideshow": {
     "slide_type": "fragment"
    }
   },
   "source": [
    "<div align=\"center\"><img src=\"images/decisiontree_impurity.png\"></div>\n",
    "\n",
    "From PML"
   ]
  },
  {
   "cell_type": "markdown",
   "metadata": {
    "slideshow": {
     "slide_type": "slide"
    }
   },
   "source": [
    "# Choosing Questions To Minimize Impurity"
   ]
  },
  {
   "cell_type": "code",
   "execution_count": 46,
   "metadata": {
    "slideshow": {
     "slide_type": "fragment"
    }
   },
   "outputs": [
    {
     "data": {
      "text/html": [
       "<div>\n",
       "<style scoped>\n",
       "    .dataframe tbody tr th:only-of-type {\n",
       "        vertical-align: middle;\n",
       "    }\n",
       "\n",
       "    .dataframe tbody tr th {\n",
       "        vertical-align: top;\n",
       "    }\n",
       "\n",
       "    .dataframe thead th {\n",
       "        text-align: right;\n",
       "    }\n",
       "</style>\n",
       "<table border=\"1\" class=\"dataframe\">\n",
       "  <thead>\n",
       "    <tr style=\"text-align: right;\">\n",
       "      <th></th>\n",
       "      <th>feature1</th>\n",
       "      <th>feature2</th>\n",
       "      <th>target</th>\n",
       "    </tr>\n",
       "  </thead>\n",
       "  <tbody>\n",
       "    <tr>\n",
       "      <th>0</th>\n",
       "      <td>0</td>\n",
       "      <td>0.2</td>\n",
       "      <td>0</td>\n",
       "    </tr>\n",
       "    <tr>\n",
       "      <th>1</th>\n",
       "      <td>0</td>\n",
       "      <td>0.7</td>\n",
       "      <td>0</td>\n",
       "    </tr>\n",
       "    <tr>\n",
       "      <th>2</th>\n",
       "      <td>1</td>\n",
       "      <td>0.7</td>\n",
       "      <td>1</td>\n",
       "    </tr>\n",
       "  </tbody>\n",
       "</table>\n",
       "</div>"
      ],
      "text/plain": [
       "   feature1  feature2  target\n",
       "0         0       0.2       0\n",
       "1         0       0.7       0\n",
       "2         1       0.7       1"
      ]
     },
     "metadata": {},
     "output_type": "display_data"
    }
   ],
   "source": [
    "df = pd.DataFrame([[0,.2,0],\n",
    "                   [0,.7,0],\n",
    "                   [1,.7,1]],columns=['feature1','feature2','target'])\n",
    "display(df)"
   ]
  },
  {
   "cell_type": "code",
   "execution_count": 47,
   "metadata": {
    "slideshow": {
     "slide_type": "fragment"
    }
   },
   "outputs": [
    {
     "name": "stdout",
     "output_type": "stream",
     "text": [
      "leaf where true:      [0 0]\n",
      "leaf where not true:  [1]\n",
      "\n",
      "leaf where true:      [0]\n",
      "leaf where not true:  [0 1]\n"
     ]
    }
   ],
   "source": [
    "# Is feature1 equal to 0?\n",
    "print('leaf where true:     ',df[df.feature1 == 0].target.values)\n",
    "print('leaf where not true: ',df[df.feature1 != 0].target.values)\n",
    "print()\n",
    "\n",
    "# Is feature2 <= .2?\n",
    "print('leaf where true:     ',df[df.feature2 <= .2].target.values)\n",
    "print('leaf where not true: ',df[df.feature2 >  .2].target.values)"
   ]
  },
  {
   "cell_type": "markdown",
   "metadata": {
    "slideshow": {
     "slide_type": "slide"
    }
   },
   "source": [
    "# Plot Learned Decision Tree Using sklearn\n",
    "\n",
    "```python\n",
    "# Note: there is a conflict between plot_tree and seaborn.set_style in sklearn < .24\n",
    "from sklearn.tree import plot_tree\n",
    "# for tree with maxdepth=10\n",
    "plot_tree(dtc,ax=ax,fontsize=8,feature_names=X.columns,filled=True);\n",
    "```\n",
    "<div align=\"center\"><img src=\"images/dt_wine_plot_maxdepth10.png\" width=1000px></div>"
   ]
  },
  {
   "cell_type": "markdown",
   "metadata": {
    "slideshow": {
     "slide_type": "slide"
    }
   },
   "source": [
    "# Decision Tree: Limit Maximum Depth\n"
   ]
  },
  {
   "cell_type": "code",
   "execution_count": 48,
   "metadata": {
    "slideshow": {
     "slide_type": "fragment"
    }
   },
   "outputs": [
    {
     "data": {
      "image/png": "[encoded data removed]",
      "text/plain": [
       "<Figure size 432x432 with 1 Axes>"
      ]
     },
     "metadata": {
      "needs_background": "light"
     },
     "output_type": "display_data"
    }
   ],
   "source": [
    "dtc_md3 = DecisionTreeClassifier(max_depth=3)\n",
    "dtc_md3.fit(X,y)\n",
    "\n",
    "fig,ax = plt.subplots(1,1,figsize=(6,6))\n",
    "plot_decision_regions(X.values, y.values, clf=dtc_md3);\n",
    "plt.xlabel(X.columns[0]); plt.ylabel(X.columns[1]);"
   ]
  },
  {
   "cell_type": "markdown",
   "metadata": {
    "slideshow": {
     "slide_type": "slide"
    }
   },
   "source": [
    "# Plot Learned Decision Tree Using sklearn\n",
    "<br>\n",
    "- For tree with max_depth=3\n",
    "\n",
    "<div align=\"center\"><img src=\"images/dt_wine_plot_maxdepth3.png\"></div>"
   ]
  },
  {
   "cell_type": "markdown",
   "metadata": {
    "slideshow": {
     "slide_type": "slide"
    }
   },
   "source": [
    "# Regression with Decision Trees"
   ]
  },
  {
   "cell_type": "code",
   "execution_count": 49,
   "metadata": {
    "slideshow": {
     "slide_type": "fragment"
    }
   },
   "outputs": [
    {
     "data": {
      "image/png": "[encoded data removed]",
      "text/plain": [
       "<Figure size 432x432 with 1 Axes>"
      ]
     },
     "metadata": {
      "needs_background": "light"
     },
     "output_type": "display_data"
    }
   ],
   "source": [
    "from sklearn.tree import DecisionTreeRegressor\n",
    "\n",
    "dtr = DecisionTreeRegressor(max_depth=3)\n",
    "dtr.fit(X.proline.values.reshape(-1,1),df_wine.alcohol)\n",
    "X_test = np.linspace(300,1700,1000)[:,np.newaxis]\n",
    "y_hat = dtr.predict(X_test)\n",
    "\n",
    "fig,ax = plt.subplots(1,1,figsize=(6,6))\n",
    "ax.scatter(X.proline, df_wine.alcohol, s=20, edgecolor=\"black\",\n",
    "            c=\"darkorange\", label=\"data\")\n",
    "ax.plot(X_test, y_hat, color=\"cornflowerblue\",\n",
    "         label=\"max_depth=3\", linewidth=2)\n",
    "ax.set_xlabel('proline'); ax.set_ylabel('alcohol'); plt.legend();"
   ]
  },
  {
   "cell_type": "markdown",
   "metadata": {
    "slideshow": {
     "slide_type": "slide"
    }
   },
   "source": [
    "# Ensemble Methods\n",
    "<br>\n",
    "\n",
    "- \"Wisdom of the crowd\"\n",
    "- Can often achieve better performance with collection of learners\n",
    "- Often use shallow trees as base learners"
   ]
  },
  {
   "cell_type": "markdown",
   "metadata": {
    "slideshow": {
     "slide_type": "fragment"
    }
   },
   "source": [
    "Common methods for generating ensembles:\n",
    "<br>\n",
    "\n",
    "- **Bagging** (Bootstrap Aggregation)\n",
    " - Random Forest\n",
    "- **Boosting**\n",
    " - Gradient Boosting\n",
    "- **Stacking**"
   ]
  },
  {
   "cell_type": "markdown",
   "metadata": {
    "slideshow": {
     "slide_type": "slide"
    }
   },
   "source": [
    "# Random Forest and Gradient Boosted Trees\n",
    "<br>\n",
    "\n",
    "<div align=\"center\"><img src=\"images/Architecture-of-the-random-forest-model.png\" width=\"1000px\"></div>\n",
    "\n",
    "<font size=4>From https://www.researchgate.net/publication/301638643_Electromyographic_Patterns_during_Golf_Swing_Activation_Sequence_Profiling_and_Prediction_of_Shot_Effectiveness</font>"
   ]
  },
  {
   "cell_type": "markdown",
   "metadata": {
    "slideshow": {
     "slide_type": "slide"
    }
   },
   "source": [
    "# Bagging with Random Forests\n",
    "<br>\n",
    "\n",
    "- Trees built with bootstrap samples and subsets of features\n",
    "- Achieve variation with random selection of observations and features\n",
    "<br>\n",
    "<br>\n",
    "\n",
    "<div align=\"center\"><img src=\"images/bagging.png\" width=\"700px\"></div>\n",
    "\n",
    "From PML"
   ]
  },
  {
   "cell_type": "markdown",
   "metadata": {
    "slideshow": {
     "slide_type": "slide"
    }
   },
   "source": [
    "# Random Forests with sklearn"
   ]
  },
  {
   "cell_type": "code",
   "execution_count": 50,
   "metadata": {
    "slideshow": {
     "slide_type": "fragment"
    }
   },
   "outputs": [
    {
     "data": {
      "image/png": "[encoded data removed]",
      "text/plain": [
       "<Figure size 432x432 with 1 Axes>"
      ]
     },
     "metadata": {
      "needs_background": "light"
     },
     "output_type": "display_data"
    }
   ],
   "source": [
    "from sklearn.ensemble import RandomForestClassifier\n",
    "\n",
    "rfc = RandomForestClassifier(n_estimators=10, # number of trees in ensemble\n",
    "                             n_jobs=-1,       # parallelize using all available cores\n",
    "                             random_state=0  # for demonstration only\n",
    "                            )\n",
    "rfc.fit(X,y)\n",
    "\n",
    "fig,ax = plt.subplots(1,1,figsize=(6,6))\n",
    "plot_decision_regions(X.values, y.values, clf=rfc);\n",
    "plt.xlabel(X.columns[0]); plt.ylabel(X.columns[1]);"
   ]
  },
  {
   "cell_type": "markdown",
   "metadata": {
    "slideshow": {
     "slide_type": "slide"
    }
   },
   "source": [
    "# Regression with RandomForests"
   ]
  },
  {
   "cell_type": "code",
   "execution_count": 51,
   "metadata": {
    "slideshow": {
     "slide_type": "fragment"
    }
   },
   "outputs": [
    {
     "data": {
      "image/png": "[encoded data removed]",
      "text/plain": [
       "<Figure size 432x432 with 1 Axes>"
      ]
     },
     "metadata": {
      "needs_background": "light"
     },
     "output_type": "display_data"
    }
   ],
   "source": [
    "from sklearn.ensemble import RandomForestRegressor\n",
    "\n",
    "rfr = RandomForestRegressor(n_estimators=3, n_jobs=-1)\n",
    "rfr.fit(df_wine.proline.values.reshape(-1,1),df_wine.alcohol)\n",
    "X_test = np.linspace(300,1700,1000)[:,np.newaxis]\n",
    "y_hat = rfr.predict(X_test)\n",
    "\n",
    "fig,ax = plt.subplots(1,1,figsize=(6,6))\n",
    "ax.scatter(df_wine.proline, df_wine.alcohol, s=20, edgecolor=\"black\",\n",
    "            c=\"darkorange\", label=\"data\")\n",
    "ax.plot(X_test, y_hat, color=\"cornflowerblue\",\n",
    "         label=\"n_estimators=3\", linewidth=2)\n",
    "ax.set_xlabel('proline'); ax.set_ylabel('alcohol'); plt.legend();"
   ]
  },
  {
   "cell_type": "markdown",
   "metadata": {
    "slideshow": {
     "slide_type": "slide"
    }
   },
   "source": [
    "# Gradient Boosted Trees\n",
    "<br>\n",
    "\n",
    "- Trees built by adding weight to mis-classification\n",
    "- Achieve variation due to changes in weights on observations\n",
    "<br>\n",
    "\n",
    "<div align=\"center\"><img src=\"images/boosting.png\" width=\"600px\"></div>\n",
    "\n",
    "From PML"
   ]
  },
  {
   "cell_type": "markdown",
   "metadata": {
    "slideshow": {
     "slide_type": "slide"
    }
   },
   "source": [
    "# Gradient Boosted Trees in sklearn"
   ]
  },
  {
   "cell_type": "code",
   "execution_count": 52,
   "metadata": {
    "slideshow": {
     "slide_type": "fragment"
    }
   },
   "outputs": [
    {
     "data": {
      "image/png": "[encoded data removed]",
      "text/plain": [
       "<Figure size 432x432 with 1 Axes>"
      ]
     },
     "metadata": {
      "needs_background": "light"
     },
     "output_type": "display_data"
    }
   ],
   "source": [
    "from sklearn.ensemble import GradientBoostingClassifier\n",
    "\n",
    "gbc = GradientBoostingClassifier(n_estimators=10)\n",
    "gbc.fit(X,y)\n",
    "\n",
    "fig,ax = plt.subplots(1,1,figsize=(6,6))\n",
    "plot_decision_regions(X.values, y.values, clf=gbc);\n",
    "plt.xlabel(X.columns[0]); plt.ylabel(X.columns[1]);"
   ]
  },
  {
   "cell_type": "markdown",
   "metadata": {
    "slideshow": {
     "slide_type": "slide"
    }
   },
   "source": [
    "# Regression with Gradient Boosted Trees\n"
   ]
  },
  {
   "cell_type": "code",
   "execution_count": 53,
   "metadata": {
    "slideshow": {
     "slide_type": "fragment"
    }
   },
   "outputs": [
    {
     "ename": "ValueError",
     "evalue": "X has 1 features, but DecisionTreeRegressor is expecting 2 features as input.",
     "output_type": "error",
     "traceback": [
      "\u001b[0;31m---------------------------------------------------------------------------\u001b[0m",
      "\u001b[0;31mValueError\u001b[0m                                Traceback (most recent call last)",
      "\u001b[0;32m/tmp/ipykernel_9203/494126790.py\u001b[0m in \u001b[0;36m<module>\u001b[0;34m\u001b[0m\n\u001b[1;32m      4\u001b[0m \u001b[0mgbr\u001b[0m\u001b[0;34m.\u001b[0m\u001b[0mfit\u001b[0m\u001b[0;34m(\u001b[0m\u001b[0mX\u001b[0m\u001b[0;34m,\u001b[0m\u001b[0mdf_wine\u001b[0m\u001b[0;34m.\u001b[0m\u001b[0malcohol\u001b[0m\u001b[0;34m)\u001b[0m\u001b[0;34m\u001b[0m\u001b[0;34m\u001b[0m\u001b[0m\n\u001b[1;32m      5\u001b[0m \u001b[0mX_test\u001b[0m \u001b[0;34m=\u001b[0m \u001b[0mnp\u001b[0m\u001b[0;34m.\u001b[0m\u001b[0mlinspace\u001b[0m\u001b[0;34m(\u001b[0m\u001b[0;36m300\u001b[0m\u001b[0;34m,\u001b[0m\u001b[0;36m1700\u001b[0m\u001b[0;34m,\u001b[0m\u001b[0;36m1000\u001b[0m\u001b[0;34m)\u001b[0m\u001b[0;34m[\u001b[0m\u001b[0;34m:\u001b[0m\u001b[0;34m,\u001b[0m\u001b[0mnp\u001b[0m\u001b[0;34m.\u001b[0m\u001b[0mnewaxis\u001b[0m\u001b[0;34m]\u001b[0m\u001b[0;34m\u001b[0m\u001b[0;34m\u001b[0m\u001b[0m\n\u001b[0;32m----> 6\u001b[0;31m \u001b[0my_hat\u001b[0m \u001b[0;34m=\u001b[0m \u001b[0mgbr\u001b[0m\u001b[0;34m.\u001b[0m\u001b[0mpredict\u001b[0m\u001b[0;34m(\u001b[0m\u001b[0mX_test\u001b[0m\u001b[0;34m)\u001b[0m\u001b[0;34m\u001b[0m\u001b[0;34m\u001b[0m\u001b[0m\n\u001b[0m\u001b[1;32m      7\u001b[0m \u001b[0;34m\u001b[0m\u001b[0m\n\u001b[1;32m      8\u001b[0m \u001b[0mfig\u001b[0m\u001b[0;34m,\u001b[0m\u001b[0max\u001b[0m \u001b[0;34m=\u001b[0m \u001b[0mplt\u001b[0m\u001b[0;34m.\u001b[0m\u001b[0msubplots\u001b[0m\u001b[0;34m(\u001b[0m\u001b[0;36m1\u001b[0m\u001b[0;34m,\u001b[0m\u001b[0;36m1\u001b[0m\u001b[0;34m,\u001b[0m\u001b[0mfigsize\u001b[0m\u001b[0;34m=\u001b[0m\u001b[0;34m(\u001b[0m\u001b[0;36m6\u001b[0m\u001b[0;34m,\u001b[0m\u001b[0;36m6\u001b[0m\u001b[0;34m)\u001b[0m\u001b[0;34m)\u001b[0m\u001b[0;34m\u001b[0m\u001b[0;34m\u001b[0m\u001b[0m\n",
      "\u001b[0;32m~/anaconda3/envs/eods-f21/lib/python3.8/site-packages/sklearn/ensemble/_gb.py\u001b[0m in \u001b[0;36mpredict\u001b[0;34m(self, X)\u001b[0m\n\u001b[1;32m   1650\u001b[0m         \u001b[0mX\u001b[0m \u001b[0;34m=\u001b[0m \u001b[0mcheck_array\u001b[0m\u001b[0;34m(\u001b[0m\u001b[0mX\u001b[0m\u001b[0;34m,\u001b[0m \u001b[0mdtype\u001b[0m\u001b[0;34m=\u001b[0m\u001b[0mDTYPE\u001b[0m\u001b[0;34m,\u001b[0m \u001b[0morder\u001b[0m\u001b[0;34m=\u001b[0m\u001b[0;34m\"C\"\u001b[0m\u001b[0;34m,\u001b[0m \u001b[0maccept_sparse\u001b[0m\u001b[0;34m=\u001b[0m\u001b[0;34m'csr'\u001b[0m\u001b[0;34m)\u001b[0m\u001b[0;34m\u001b[0m\u001b[0;34m\u001b[0m\u001b[0m\n\u001b[1;32m   1651\u001b[0m         \u001b[0;31m# In regression we can directly return the raw value from the trees.\u001b[0m\u001b[0;34m\u001b[0m\u001b[0;34m\u001b[0m\u001b[0;34m\u001b[0m\u001b[0m\n\u001b[0;32m-> 1652\u001b[0;31m         \u001b[0;32mreturn\u001b[0m \u001b[0mself\u001b[0m\u001b[0;34m.\u001b[0m\u001b[0m_raw_predict\u001b[0m\u001b[0;34m(\u001b[0m\u001b[0mX\u001b[0m\u001b[0;34m)\u001b[0m\u001b[0;34m.\u001b[0m\u001b[0mravel\u001b[0m\u001b[0;34m(\u001b[0m\u001b[0;34m)\u001b[0m\u001b[0;34m\u001b[0m\u001b[0;34m\u001b[0m\u001b[0m\n\u001b[0m\u001b[1;32m   1653\u001b[0m \u001b[0;34m\u001b[0m\u001b[0m\n\u001b[1;32m   1654\u001b[0m     \u001b[0;32mdef\u001b[0m \u001b[0mstaged_predict\u001b[0m\u001b[0;34m(\u001b[0m\u001b[0mself\u001b[0m\u001b[0;34m,\u001b[0m \u001b[0mX\u001b[0m\u001b[0;34m)\u001b[0m\u001b[0;34m:\u001b[0m\u001b[0;34m\u001b[0m\u001b[0;34m\u001b[0m\u001b[0m\n",
      "\u001b[0;32m~/anaconda3/envs/eods-f21/lib/python3.8/site-packages/sklearn/ensemble/_gb.py\u001b[0m in \u001b[0;36m_raw_predict\u001b[0;34m(self, X)\u001b[0m\n\u001b[1;32m    622\u001b[0m     \u001b[0;32mdef\u001b[0m \u001b[0m_raw_predict\u001b[0m\u001b[0;34m(\u001b[0m\u001b[0mself\u001b[0m\u001b[0;34m,\u001b[0m \u001b[0mX\u001b[0m\u001b[0;34m)\u001b[0m\u001b[0;34m:\u001b[0m\u001b[0;34m\u001b[0m\u001b[0;34m\u001b[0m\u001b[0m\n\u001b[1;32m    623\u001b[0m         \u001b[0;34m\"\"\"Return the sum of the trees raw predictions (+ init estimator).\"\"\"\u001b[0m\u001b[0;34m\u001b[0m\u001b[0;34m\u001b[0m\u001b[0m\n\u001b[0;32m--> 624\u001b[0;31m         \u001b[0mraw_predictions\u001b[0m \u001b[0;34m=\u001b[0m \u001b[0mself\u001b[0m\u001b[0;34m.\u001b[0m\u001b[0m_raw_predict_init\u001b[0m\u001b[0;34m(\u001b[0m\u001b[0mX\u001b[0m\u001b[0;34m)\u001b[0m\u001b[0;34m\u001b[0m\u001b[0;34m\u001b[0m\u001b[0m\n\u001b[0m\u001b[1;32m    625\u001b[0m         predict_stages(self.estimators_, X, self.learning_rate,\n\u001b[1;32m    626\u001b[0m                        raw_predictions)\n",
      "\u001b[0;32m~/anaconda3/envs/eods-f21/lib/python3.8/site-packages/sklearn/ensemble/_gb.py\u001b[0m in \u001b[0;36m_raw_predict_init\u001b[0;34m(self, X)\u001b[0m\n\u001b[1;32m    608\u001b[0m         \u001b[0;34m\"\"\"Check input and compute raw predictions of the init estimator.\"\"\"\u001b[0m\u001b[0;34m\u001b[0m\u001b[0;34m\u001b[0m\u001b[0m\n\u001b[1;32m    609\u001b[0m         \u001b[0mself\u001b[0m\u001b[0;34m.\u001b[0m\u001b[0m_check_initialized\u001b[0m\u001b[0;34m(\u001b[0m\u001b[0;34m)\u001b[0m\u001b[0;34m\u001b[0m\u001b[0;34m\u001b[0m\u001b[0m\n\u001b[0;32m--> 610\u001b[0;31m         \u001b[0mX\u001b[0m \u001b[0;34m=\u001b[0m \u001b[0mself\u001b[0m\u001b[0;34m.\u001b[0m\u001b[0mestimators_\u001b[0m\u001b[0;34m[\u001b[0m\u001b[0;36m0\u001b[0m\u001b[0;34m,\u001b[0m \u001b[0;36m0\u001b[0m\u001b[0;34m]\u001b[0m\u001b[0;34m.\u001b[0m\u001b[0m_validate_X_predict\u001b[0m\u001b[0;34m(\u001b[0m\u001b[0mX\u001b[0m\u001b[0;34m,\u001b[0m \u001b[0mcheck_input\u001b[0m\u001b[0;34m=\u001b[0m\u001b[0;32mTrue\u001b[0m\u001b[0;34m)\u001b[0m\u001b[0;34m\u001b[0m\u001b[0;34m\u001b[0m\u001b[0m\n\u001b[0m\u001b[1;32m    611\u001b[0m         \u001b[0;32mif\u001b[0m \u001b[0mX\u001b[0m\u001b[0;34m.\u001b[0m\u001b[0mshape\u001b[0m\u001b[0;34m[\u001b[0m\u001b[0;36m1\u001b[0m\u001b[0;34m]\u001b[0m \u001b[0;34m!=\u001b[0m \u001b[0mself\u001b[0m\u001b[0;34m.\u001b[0m\u001b[0mn_features_\u001b[0m\u001b[0;34m:\u001b[0m\u001b[0;34m\u001b[0m\u001b[0;34m\u001b[0m\u001b[0m\n\u001b[1;32m    612\u001b[0m             raise ValueError(\"X.shape[1] should be {0:d}, not {1:d}.\".format(\n",
      "\u001b[0;32m~/anaconda3/envs/eods-f21/lib/python3.8/site-packages/sklearn/tree/_classes.py\u001b[0m in \u001b[0;36m_validate_X_predict\u001b[0;34m(self, X, check_input)\u001b[0m\n\u001b[1;32m    405\u001b[0m         \u001b[0;34m\"\"\"Validate the training data on predict (probabilities).\"\"\"\u001b[0m\u001b[0;34m\u001b[0m\u001b[0;34m\u001b[0m\u001b[0m\n\u001b[1;32m    406\u001b[0m         \u001b[0;32mif\u001b[0m \u001b[0mcheck_input\u001b[0m\u001b[0;34m:\u001b[0m\u001b[0;34m\u001b[0m\u001b[0;34m\u001b[0m\u001b[0m\n\u001b[0;32m--> 407\u001b[0;31m             X = self._validate_data(X, dtype=DTYPE, accept_sparse=\"csr\",\n\u001b[0m\u001b[1;32m    408\u001b[0m                                     reset=False)\n\u001b[1;32m    409\u001b[0m             if issparse(X) and (X.indices.dtype != np.intc or\n",
      "\u001b[0;32m~/anaconda3/envs/eods-f21/lib/python3.8/site-packages/sklearn/base.py\u001b[0m in \u001b[0;36m_validate_data\u001b[0;34m(self, X, y, reset, validate_separately, **check_params)\u001b[0m\n\u001b[1;32m    435\u001b[0m \u001b[0;34m\u001b[0m\u001b[0m\n\u001b[1;32m    436\u001b[0m         \u001b[0;32mif\u001b[0m \u001b[0mcheck_params\u001b[0m\u001b[0;34m.\u001b[0m\u001b[0mget\u001b[0m\u001b[0;34m(\u001b[0m\u001b[0;34m'ensure_2d'\u001b[0m\u001b[0;34m,\u001b[0m \u001b[0;32mTrue\u001b[0m\u001b[0;34m)\u001b[0m\u001b[0;34m:\u001b[0m\u001b[0;34m\u001b[0m\u001b[0;34m\u001b[0m\u001b[0m\n\u001b[0;32m--> 437\u001b[0;31m             \u001b[0mself\u001b[0m\u001b[0;34m.\u001b[0m\u001b[0m_check_n_features\u001b[0m\u001b[0;34m(\u001b[0m\u001b[0mX\u001b[0m\u001b[0;34m,\u001b[0m \u001b[0mreset\u001b[0m\u001b[0;34m=\u001b[0m\u001b[0mreset\u001b[0m\u001b[0;34m)\u001b[0m\u001b[0;34m\u001b[0m\u001b[0;34m\u001b[0m\u001b[0m\n\u001b[0m\u001b[1;32m    438\u001b[0m \u001b[0;34m\u001b[0m\u001b[0m\n\u001b[1;32m    439\u001b[0m         \u001b[0;32mreturn\u001b[0m \u001b[0mout\u001b[0m\u001b[0;34m\u001b[0m\u001b[0;34m\u001b[0m\u001b[0m\n",
      "\u001b[0;32m~/anaconda3/envs/eods-f21/lib/python3.8/site-packages/sklearn/base.py\u001b[0m in \u001b[0;36m_check_n_features\u001b[0;34m(self, X, reset)\u001b[0m\n\u001b[1;32m    363\u001b[0m \u001b[0;34m\u001b[0m\u001b[0m\n\u001b[1;32m    364\u001b[0m         \u001b[0;32mif\u001b[0m \u001b[0mn_features\u001b[0m \u001b[0;34m!=\u001b[0m \u001b[0mself\u001b[0m\u001b[0;34m.\u001b[0m\u001b[0mn_features_in_\u001b[0m\u001b[0;34m:\u001b[0m\u001b[0;34m\u001b[0m\u001b[0;34m\u001b[0m\u001b[0m\n\u001b[0;32m--> 365\u001b[0;31m             raise ValueError(\n\u001b[0m\u001b[1;32m    366\u001b[0m                 \u001b[0;34mf\"X has {n_features} features, but {self.__class__.__name__} \"\u001b[0m\u001b[0;34m\u001b[0m\u001b[0;34m\u001b[0m\u001b[0m\n\u001b[1;32m    367\u001b[0m                 f\"is expecting {self.n_features_in_} features as input.\")\n",
      "\u001b[0;31mValueError\u001b[0m: X has 1 features, but DecisionTreeRegressor is expecting 2 features as input."
     ]
    }
   ],
   "source": [
    "from sklearn.ensemble import GradientBoostingRegressor\n",
    "\n",
    "gbr = GradientBoostingRegressor(n_estimators=10)\n",
    "gbr.fit(X,df_wine.alcohol)\n",
    "X_test = np.linspace(300,1700,1000)[:,np.newaxis]\n",
    "y_hat = gbr.predict(X_test)\n",
    "\n",
    "fig,ax = plt.subplots(1,1,figsize=(6,6))\n",
    "ax.scatter(df_wine.proline, df_wine.alcohol, s=20, edgecolor=\"black\",\n",
    "            c=\"darkorange\", label=\"data\")\n",
    "ax.plot(X_test, y_hat, color=\"cornflowerblue\",\n",
    "         label=\"n_estimators=10\", linewidth=2)\n",
    "ax.set_xlabel('proline'); ax.set_ylabel('alcohol'); plt.legend();"
   ]
  },
  {
   "cell_type": "markdown",
   "metadata": {
    "slideshow": {
     "slide_type": "slide"
    }
   },
   "source": [
    "# Stacking\n",
    "<br>\n",
    "\n",
    "<div align=\"center\"><img src=\"images/modelstacking.png\" width=\"900px\"></div>\n",
    "\n",
    "<font size=5>From https://blogs.sas.com/content/subconsciousmusings/2017/05/18/stacked-ensemble-models-win-data-science-competitions/</font>"
   ]
  },
  {
   "cell_type": "markdown",
   "metadata": {
    "slideshow": {
     "slide_type": "slide"
    }
   },
   "source": [
    "# Stacking with mlxtend for Classification"
   ]
  },
  {
   "cell_type": "code",
   "execution_count": null,
   "metadata": {
    "slideshow": {
     "slide_type": "fragment"
    }
   },
   "outputs": [],
   "source": [
    "from mlxtend.classifier import StackingClassifier\n",
    "\n",
    "ensemble = [LogisticRegression(max_iter=1000),\n",
    "            DecisionTreeClassifier(max_depth=3),\n",
    "            KNeighborsClassifier(n_neighbors=3)]\n",
    "\n",
    "stc = StackingClassifier(ensemble,LogisticRegression())\n",
    "stc.fit(X_zscore,y)\n",
    "\n",
    "fig,ax = plt.subplots(1,1,figsize=(6,6))\n",
    "plot_decision_regions(X_zscore.values, y.values, clf=stc);\n",
    "plt.xlabel(X.columns[0]); plt.ylabel(X.columns[1]);"
   ]
  },
  {
   "cell_type": "markdown",
   "metadata": {
    "slideshow": {
     "slide_type": "slide"
    }
   },
   "source": [
    "# Stacking with mlxtend for Regression"
   ]
  },
  {
   "cell_type": "code",
   "execution_count": null,
   "metadata": {
    "slideshow": {
     "slide_type": "fragment"
    }
   },
   "outputs": [],
   "source": [
    "from mlxtend.regressor import StackingRegressor\n",
    "\n",
    "ensemble = [LinearRegression(),\n",
    "            DecisionTreeRegressor(max_depth=3),\n",
    "            KNeighborsRegressor(n_neighbors=6)]\n",
    "\n",
    "stackr = StackingRegressor(ensemble,LinearRegression())\n",
    "stackr.fit(X_zscore.proline.values.reshape(-1,1),df_wine.alcohol)\n",
    "X_test = np.linspace(-2,4,1000)[:,np.newaxis]\n",
    "y_hat = stackr.predict(X_test)\n",
    "\n",
    "fig,ax = plt.subplots(1,1,figsize=(6,6))\n",
    "ax.scatter(X_zscore.proline.values.reshape(-1,1), df_wine.alcohol, s=20, edgecolor=\"black\",\n",
    "            c=\"darkorange\", label=\"data\")\n",
    "ax.plot(X_test, y_hat, color=\"cornflowerblue\",\n",
    "         label=\"stacking_ensemble\", linewidth=2)\n",
    "ax.set_xlabel('proline'); ax.set_ylabel('alcohol');\n",
    "plt.legend();\n"
   ]
  },
  {
   "cell_type": "markdown",
   "metadata": {
    "slideshow": {
     "slide_type": "slide"
    }
   },
   "source": [
    "<br>\n",
    "<br>\n",
    "\n",
    "# <center>Review of Models</center>\n",
    "<br>\n",
    "<br>"
   ]
  },
  {
   "cell_type": "markdown",
   "metadata": {
    "slideshow": {
     "slide_type": "slide"
    }
   },
   "source": [
    "# Model Review: Simple/Multiple Linear Regression\n",
    "\n",
    "- Use for: Regression\n",
    "- Pros:\n",
    " - fast to train\n",
    " - interpretable coefficients\n",
    "- Cons:\n",
    " - assumes linear relationship\n",
    " - depends on removing colinear features\n",
    " <br>\n",
    " <br>\n",
    " \n",
    " \n",
    "<div align=\"center\"><img src=\"images/simple_linear_regression.png\" width=\"400px\"></div>\n",
    "\n",
    "from PML"
   ]
  },
  {
   "cell_type": "markdown",
   "metadata": {
    "slideshow": {
     "slide_type": "slide"
    }
   },
   "source": [
    "# Model Review: Logistic Regression\n",
    "    \n",
    "- Use for: Classification\n",
    "- Pros:\n",
    " - fast to train\n",
    " - interpretable coefficients (log odds)\n",
    "- Cons:\n",
    " - assumes linear boundary\n",
    " - depends on removing colinear features\n",
    "<br>\n",
    "<br>\n",
    " \n",
    "<div align=\"center\"><img src=\"images/logistic_regression.png\" width=\"400px\"></div>\n",
    "\n",
    "from PML"
   ]
  },
  {
   "cell_type": "markdown",
   "metadata": {
    "slideshow": {
     "slide_type": "slide"
    }
   },
   "source": [
    "# Model Review: Support Vector Machine (SVM)\n",
    "\n",
    "- Use for: Classification and Regression\n",
    "\n",
    "- Pros:\n",
    " - fast to evaluate\n",
    " - can use kernel trick to learn non-linear functions\n",
    "- Cons:\n",
    " - slow to train\n",
    " - can fail to converge on very large datasets\n",
    "<br>\n",
    "<br>\n",
    "\n",
    "<div align=\"center\"><img src=\"images/which_hyperplane.png\" width=\"400px\"></div>\n",
    "\n",
    " "
   ]
  },
  {
   "cell_type": "markdown",
   "metadata": {
    "slideshow": {
     "slide_type": "slide"
    }
   },
   "source": [
    "# Model Review: k Nearest Neighbor (kNN)\n",
    "    \n",
    "- Use for: Classification or Regression\n",
    "- Pros:\n",
    " - fast to train\n",
    " - non-linear boundary\n",
    "- Cons:\n",
    " - potentially slow to predict\n",
    " - curse of dimensionality\n",
    "<br>\n",
    "<br>\n",
    "\n",
    "<div align=\"center\"><img src=\"images/knn_classifier.png\" width=\"400px\"></div>\n",
    "\n",
    "From PML"
   ]
  },
  {
   "cell_type": "markdown",
   "metadata": {
    "slideshow": {
     "slide_type": "slide"
    }
   },
   "source": [
    "# Model Review: Decision Tree\n",
    "\n",
    "- Use for: Classification or Regression\n",
    "- Pros:\n",
    " - very interpretable\n",
    " - quick to predict\n",
    " - can handle numeric and categorical variables without transformation\n",
    "- Cons:\n",
    " - tendency to overfit (learn training set too well, more next class!)\n",
    "<br>\n",
    "<br>\n",
    "\n",
    "<div align=\"center\"><img src=\"images/decisiontree_smallexample.png\" width=\"400px\"></div>\n",
    "\n",
    "From PML"
   ]
  },
  {
   "cell_type": "markdown",
   "metadata": {
    "slideshow": {
     "slide_type": "slide"
    }
   },
   "source": [
    "# Model Review: Random Forest (Ensemble via Bagging)\n",
    "\n",
    "- Use for: Classification or Regression\n",
    "- Pros:\n",
    " - less likely to overfit than decision tree\n",
    " - quick to train (through parallelization, quick to predict\n",
    "- Cons:\n",
    " - less interpretible, though still possible\n",
    "<br>\n",
    "<br>\n",
    "\n",
    "<div align=\"center\"><img src=\"images/Architecture-of-the-random-forest-model.png\" width=\"400px\"></div>\n",
    "\n",
    "<font size=4>From https://www.researchgate.net/publication/301638643_Electromyographic_Patterns_during_Golf_Swing_Activation_Sequence_Profiling_and_Prediction_of_Shot_Effectiveness</font>"
   ]
  },
  {
   "cell_type": "markdown",
   "metadata": {
    "slideshow": {
     "slide_type": "slide"
    }
   },
   "source": [
    "# Model Review: Gradient Boosted Trees (Ensemble via Boosting)\n",
    "\n",
    "- Use for: Classification or Regression\n",
    "\n",
    "- Pros:\n",
    " - pays more attention to difficult decision regions\n",
    " - quick to predict\n",
    " - tends to work well on difficult tasks\n",
    "- Cons:\n",
    " - slow to train (parallelization not possible)\n",
    " - less interpretible, though still possible\n",
    "<br>\n",
    "<br>\n",
    "\n",
    "<div align=\"center\"><img src=\"images/boosting.png\" width=\"300px\"></div>\n",
    "\n",
    "From PML"
   ]
  },
  {
   "cell_type": "markdown",
   "metadata": {
    "slideshow": {
     "slide_type": "slide"
    }
   },
   "source": [
    "# Model Review: Ensemble via Stacking\n",
    "    \n",
    "- Use for: Classification (or Regression)\n",
    "\n",
    "- Pros:\n",
    " - combines benefits of multiple learning types\n",
    " - easy to implement\n",
    " - tends to win competitions\n",
    "- Cons:\n",
    " - difficult to interpret\n",
    " - training/prediction time depends on component models\n",
    "<br>\n",
    "<br>\n",
    "\n",
    "<div align=\"center\"><img src=\"images/modelstacking.png\" width=\"400px\"></div>\n",
    "\n",
    "<font size=5>From https://blogs.sas.com/content/subconsciousmusings/2017/05/18/stacked-ensemble-models-win-data-science-competitions/</font>"
   ]
  },
  {
   "cell_type": "markdown",
   "metadata": {},
   "source": [
    "<br>\n",
    "<br>\n",
    "\n",
    "# <center>Questions on ML Models?</center>\n",
    "<br>\n",
    "<br>"
   ]
  },
  {
   "cell_type": "markdown",
   "metadata": {
    "slideshow": {
     "slide_type": "slide"
    }
   },
   "source": [
    "# If we have time..."
   ]
  },
  {
   "cell_type": "markdown",
   "metadata": {
    "slideshow": {
     "slide_type": "slide"
    }
   },
   "source": [
    "# Neural Networks (aka Deep Learning)\n",
    "<br>\n",
    "\n",
    "- Pros and Cons of Deep Learning\n",
    " - sensitive to initialization and structure\n",
    " - high complexity -> needs more data\n",
    " - low interpretability\n",
    " - can learn complex interactions\n",
    " - performs well on tasks involving complex signals (ex images, sound, etc)\n",
    "<br>\n",
    " \n",
    "<div align=\"center\"><img src=\"images/deep_neural_net.png\" width=\"800px\"></div>"
   ]
  },
  {
   "cell_type": "markdown",
   "metadata": {
    "slideshow": {
     "slide_type": "slide"
    }
   },
   "source": [
    "# From Perceptron to Artificial Neural Network\n",
    "<br>\n",
    "\n",
    "<div align=\"center\"><img src=\"images/neuron.png\"></div>\n",
    "\n",
    "From PML"
   ]
  },
  {
   "cell_type": "markdown",
   "metadata": {
    "slideshow": {
     "slide_type": "slide"
    }
   },
   "source": [
    "# Perceptron: Early Neuron Model\n",
    "<br>\n",
    "<br>\n",
    "\n",
    "<div align=\"center\"><img src=\"images/perceptron.png\"></div>\n",
    "\n",
    "From PML"
   ]
  },
  {
   "cell_type": "markdown",
   "metadata": {
    "slideshow": {
     "slide_type": "slide"
    }
   },
   "source": [
    "# Perceptron in sklearn"
   ]
  },
  {
   "cell_type": "code",
   "execution_count": null,
   "metadata": {
    "slideshow": {
     "slide_type": "fragment"
    }
   },
   "outputs": [],
   "source": [
    "from sklearn.linear_model import Perceptron\n",
    "perceptron = Perceptron()\n",
    "perceptron.fit(X_zscore,y);\n",
    "\n",
    "fig,ax = plt.subplots(1,1,figsize=(6,6))\n",
    "plot_decision_regions(X_zscore.values, y.values, clf=perceptron);\n",
    "plt.xlabel(X.columns[0]); plt.ylabel(X.columns[1]);"
   ]
  },
  {
   "cell_type": "markdown",
   "metadata": {
    "slideshow": {
     "slide_type": "slide"
    }
   },
   "source": [
    "# Perceptron to Adaline\n",
    "<br>\n",
    "<br>\n",
    "\n",
    "<div align=\"center\"><img src=\"images/perceptron_to_adaline.png\" width=\"1000px\"></div>\n",
    "From PML"
   ]
  },
  {
   "cell_type": "markdown",
   "metadata": {
    "slideshow": {
     "slide_type": "slide"
    }
   },
   "source": [
    "# Adaline to Logistic Regression\n",
    "<br>\n",
    "<br>\n",
    "\n",
    "<div align=\"center\"><img src=\"images/adaline_to_logisticregression.png\" width=\"1000px\"></div>\n",
    "From PML"
   ]
  },
  {
   "cell_type": "markdown",
   "metadata": {
    "slideshow": {
     "slide_type": "slide"
    }
   },
   "source": [
    "# Components of Single Layer Neural Net\n",
    "\n",
    "<div align=\"center\"><img src=\"images/components_of_singlelayer_nn.png\" width=\"800px\"></div>\n",
    "\n",
    "From PML"
   ]
  },
  {
   "cell_type": "markdown",
   "metadata": {
    "slideshow": {
     "slide_type": "slide"
    }
   },
   "source": [
    "# Multi-Layer Neural Network\n",
    "<br>\n",
    "\n",
    "<div align=\"center\"><img src=\"images/multilayer_neural_net.png\" width=\"800px\"></div>\n",
    "\n",
    "From PML"
   ]
  },
  {
   "cell_type": "markdown",
   "metadata": {
    "slideshow": {
     "slide_type": "slide"
    }
   },
   "source": [
    "# Complex Optimization Space\n",
    "<br>\n",
    "\n",
    "<div align=\"center\"><img src=\"images/complex_optimization_space.png\" width=\"800px\"></div>\n",
    "\n",
    "From PML"
   ]
  },
  {
   "cell_type": "markdown",
   "metadata": {
    "slideshow": {
     "slide_type": "slide"
    }
   },
   "source": [
    "# Activation Functions\n",
    "<br>\n",
    "\n",
    "<div align=\"center\"><img src=\"images/activation_functions.png\" width=\"600px\"></div>\n",
    "\n",
    "From PML"
   ]
  },
  {
   "cell_type": "markdown",
   "metadata": {
    "slideshow": {
     "slide_type": "slide"
    }
   },
   "source": [
    "# Multi-Layer Perceptron with sklearn"
   ]
  },
  {
   "cell_type": "code",
   "execution_count": null,
   "metadata": {
    "slideshow": {
     "slide_type": "fragment"
    }
   },
   "outputs": [],
   "source": [
    "from sklearn.neural_network import MLPClassifier, MLPRegressor\n",
    "mlp = MLPClassifier(hidden_layer_sizes=(100,),\n",
    "                    max_iter=1000)\n",
    "mlp.fit(X_zscore,y);\n",
    "\n",
    "fig,ax = plt.subplots(1,1,figsize=(6,6))\n",
    "plot_decision_regions(X_zscore.values, y.values, clf=mlp);\n",
    "plt.xlabel(X.columns[0]); plt.ylabel(X.columns[1]);"
   ]
  },
  {
   "cell_type": "markdown",
   "metadata": {
    "slideshow": {
     "slide_type": "slide"
    }
   },
   "source": [
    "# Which boundary should we use? Support Vector Machines (SVMs)\n",
    "<br>\n",
    "<br>\n",
    "\n",
    "- For a linearly seperable dataset, where should we place the decision boundary?\n",
    "- Support Vector Machine (SVM) tries to \"maximize the margin\" between classes\n",
    "<br>\n",
    "<br>\n",
    "\n",
    "<div align=\"center\"><img src=\"images/which_hyperplane.png\" width=\"1200px\"></div>\n",
    "\n",
    "From PML"
   ]
  },
  {
   "cell_type": "markdown",
   "metadata": {
    "slideshow": {
     "slide_type": "slide"
    }
   },
   "source": [
    "# SVM Hyperparameter C\n",
    "<br>\n",
    "\n",
    "- **Hyperparameter**: Something we set\n",
    "<br>\n",
    "<br>\n",
    "\n",
    "<div align=\"center\"><img src=\"images/svm_hyperparameter.png\" width=\"1200px\"></div>\n",
    "\n",
    "From PML"
   ]
  },
  {
   "cell_type": "markdown",
   "metadata": {
    "slideshow": {
     "slide_type": "slide"
    }
   },
   "source": [
    "# SVM with sklearn"
   ]
  },
  {
   "cell_type": "code",
   "execution_count": null,
   "metadata": {
    "slideshow": {
     "slide_type": "fragment"
    }
   },
   "outputs": [],
   "source": [
    "from sklearn.svm import SVC\n",
    "svm_linear = SVC(kernel='linear')\n",
    "svm_linear.fit(X_zscore,y);\n",
    "\n",
    "fig,ax = plt.subplots(1,1,figsize=(6,6))\n",
    "plot_decision_regions(X_zscore.values, y.values, clf=svm_linear);\n",
    "plt.xlabel(X.columns[0]); plt.ylabel(X.columns[1]);"
   ]
  },
  {
   "cell_type": "markdown",
   "metadata": {
    "slideshow": {
     "slide_type": "slide"
    }
   },
   "source": [
    "# Non-Linear Boundaries with SVMs Kernel Trick\n",
    "\n",
    "- **Kernel Trick**: Map data to a higher dimensional space and find linear boundary there\n",
    "<br>\n",
    "<br>\n",
    "<div align=\"center\"><img src=\"images/svm_kernel_trick.png\" width=\"800px\"></div>\n",
    "    \n",
    "From PML"
   ]
  },
  {
   "cell_type": "markdown",
   "metadata": {
    "slideshow": {
     "slide_type": "slide"
    }
   },
   "source": [
    "# SVM Kernel Trick with RBF Kernel"
   ]
  },
  {
   "cell_type": "markdown",
   "metadata": {
    "slideshow": {
     "slide_type": "fragment"
    }
   },
   "source": [
    "- RBF (Radial-Basis Function) kernel"
   ]
  },
  {
   "cell_type": "code",
   "execution_count": null,
   "metadata": {
    "cell_style": "center",
    "slideshow": {
     "slide_type": "fragment"
    }
   },
   "outputs": [],
   "source": [
    "svm_rbf = SVC(kernel='rbf')\n",
    "svm_rbf.fit(X_zscore,y);\n",
    "\n",
    "fig,ax = plt.subplots(1,1,figsize=(6,6))\n",
    "plot_decision_regions(X_zscore.values, y.values, clf=svm_rbf);\n",
    "plt.xlabel(X.columns[0]); plt.ylabel(X.columns[1]);"
   ]
  },
  {
   "cell_type": "markdown",
   "metadata": {
    "slideshow": {
     "slide_type": "slide"
    }
   },
   "source": [
    "<br>\n",
    "<br>\n",
    "\n",
    "# <center>Questions?</center>\n",
    "<br>\n",
    "<br>"
   ]
  }
 ],
 "metadata": {
  "celltoolbar": "Slideshow",
  "kernelspec": {
   "display_name": "eods-s22",
   "language": "python",
   "name": "eods-s22"
  },
  "language_info": {
   "codemirror_mode": {
    "name": "ipython",
    "version": 3
   },
   "file_extension": ".py",
   "mimetype": "text/x-python",
   "name": "python",
   "nbconvert_exporter": "python",
   "pygments_lexer": "ipython3",
   "version": "3.9.9"
  }
 },
 "nbformat": 4,
 "nbformat_minor": 4
}
