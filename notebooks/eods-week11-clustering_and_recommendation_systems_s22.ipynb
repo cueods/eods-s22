{
 "cells": [
  {
   "cell_type": "markdown",
   "metadata": {
    "slideshow": {
     "slide_type": "slide"
    }
   },
   "source": [
    "## <center>Elements Of Data Science - S2022</center>\n",
    "# <center>Week 11: Clustering and Recommendation Systems<center>\n",
    "### <center>4/19/2022</center>"
   ]
  },
  {
   "cell_type": "markdown",
   "metadata": {
    "slideshow": {
     "slide_type": "slide"
    }
   },
   "source": [
    "# TODOs\n",
    "\n",
    "- Readings:\n",
    "  - Recommended: DSFS: [Chap 9: Getting Data](https://ezproxy.cul.columbia.edu/login?qurl=https%3a%2f%2fsearch.ebscohost.com%2flogin.aspx%3fdirect%3dtrue%26db%3dnlebk%26AN%3d979529%26site%3dehost-live%26scope%3dsite%26ebv%3DEB%26ppid%3Dpp_103)\n",
    "  - Recommended: DSFS: [Chap 23: Databases and SQL](https://web-p-ebscohost-com.ezproxy.cul.columbia.edu/ehost/ebookviewer/ebook?sid=32537b90-c1b2-458d-89f6-37dad7622fee%40redis&ppid=pp_103&vid=0&format=EB)\n",
    "\n",
    "# Catch up reading on clustering\n",
    "  - Recommended: DSFS: [Chap 19: Clustering](https://web-p-ebscohost-com.ezproxy.cul.columbia.edu/ehost/ebookviewer/ebook?sid=32537b90-c1b2-458d-89f6-37dad7622fee%40redis&ppid=pp_103&vid=0&format=EB)\n",
    "  - Recommended: DSFS: [Chap 22: Recommender Systems](https://web-p-ebscohost-com.ezproxy.cul.columbia.edu/ehost/ebookviewer/ebook?sid=32537b90-c1b2-458d-89f6-37dad7622fee%40redis&ppid=pp_103&vid=0&format=EB)\n",
    "\n",
    "# Catch up reading on text analysis\n",
    "  - Recommended: DSFS: [Chap 20: Natural Lanuage Processing](https://web-p-ebscohost-com.ezproxy.cul.columbia.edu/ehost/ebookviewer/ebook?sid=32537b90-c1b2-458d-89f6-37dad7622fee%40redis&ppid=pp_103&vid=0&format=EB)\n",
    "  \n",
    "<br>\n",
    "\n",
    "- **HW4: due Monday May 2nd 11:59pm**\n",
    "\n",
    "- **Quiz 11: due Monday April 25th, 11:59pm ET**"
   ]
  },
  {
   "cell_type": "markdown",
   "metadata": {
    "slideshow": {
     "slide_type": "slide"
    }
   },
   "source": [
    "# Today\n",
    "\n",
    "- **Clustering**\n",
    "- **Recommendation Systems**\n",
    "- Start **Time-Series Data?**"
   ]
  },
  {
   "cell_type": "markdown",
   "metadata": {
    "slideshow": {
     "slide_type": "slide"
    }
   },
   "source": [
    "<br>\n",
    "<br>\n",
    "\n",
    "# <center>Questions?</center>\n",
    "<br>\n",
    "<br>"
   ]
  },
  {
   "cell_type": "markdown",
   "metadata": {
    "slideshow": {
     "slide_type": "slide"
    }
   },
   "source": [
    "# Environment Setup"
   ]
  },
  {
   "cell_type": "code",
   "execution_count": 1,
   "metadata": {
    "slideshow": {
     "slide_type": "fragment"
    }
   },
   "outputs": [],
   "source": [
    "import numpy\n",
    "import numpy as np\n",
    "import pandas as pd\n",
    "import matplotlib.pyplot as plt\n",
    "import seaborn as sns\n",
    "\n",
    "from mlxtend.plotting import plot_decision_regions\n",
    "\n",
    "import warnings\n",
    "warnings.filterwarnings('ignore')\n",
    "\n",
    "sns.set_style('darkgrid')\n",
    "%matplotlib inline"
   ]
  },
  {
   "cell_type": "markdown",
   "metadata": {
    "slideshow": {
     "slide_type": "slide"
    }
   },
   "source": [
    "# Clustering\n",
    "<br>\n",
    "\n",
    "- Can we group our data based on the features alone?\n",
    "- **Unsupervised:** There is no label/target $y$\n",
    "- Use similarity to group $X$ into $k$ clusters\n",
    "<br>\n",
    "\n",
    "- Many methods:\n",
    "  - **k-Means**\n",
    "  - **Heirarchical Agglomerative Clustering**\n",
    "  - Spectral Clustering\n",
    "  - DBScan\n",
    "  - ..."
   ]
  },
  {
   "cell_type": "markdown",
   "metadata": {
    "slideshow": {
     "slide_type": "slide"
    }
   },
   "source": [
    "# Why do Clustering?\n",
    "<br>\n",
    "\n",
    "- Exploratory data analysis\n",
    "- Group media: images, music, news articles,...\n",
    "- Group people: social network\n",
    "- Science applications: gene families, psychological groups,...\n",
    "- Image segmentation: group pixels, regions, ...\n",
    "- ..."
   ]
  },
  {
   "cell_type": "markdown",
   "metadata": {
    "slideshow": {
     "slide_type": "slide"
    }
   },
   "source": [
    "# Clustering: K-Means\n",
    "<br>\n",
    "\n",
    "- Not to be confused with k-NN!\n",
    "- Idea:\n",
    "  - Finds $k$ points in space as cluster centers (means)\n",
    "  - Assigns datapoints to their closest cluster mean\n",
    "  \n",
    "  \n",
    "- Need to specify the number of clusters $k$ up front\n",
    "- sklearn uses euclidean distance to judge similarity"
   ]
  },
  {
   "cell_type": "markdown",
   "metadata": {
    "slideshow": {
     "slide_type": "slide"
    }
   },
   "source": [
    "# $k$-Means: How it works\n",
    "\n",
    "```\n",
    "FIRST: choose initial k points (means)\n",
    "\n",
    "A: fix means -> assign all datapoints to their closest mean\n",
    "\n",
    "B: fix cluster assignments -> recalculate means\n",
    "\n",
    "RETURN TO A and Repeat until convergence!\n",
    "```"
   ]
  },
  {
   "cell_type": "markdown",
   "metadata": {
    "slideshow": {
     "slide_type": "slide"
    }
   },
   "source": [
    "# Load Example Data"
   ]
  },
  {
   "cell_type": "code",
   "execution_count": 2,
   "metadata": {},
   "outputs": [
    {
     "data": {
      "image/png": "[encoded data removed]",
      "text/plain": [
       "<Figure size 432x432 with 1 Axes>"
      ]
     },
     "metadata": {
      "needs_background": "light"
     },
     "output_type": "display_data"
    }
   ],
   "source": [
    "from sklearn.datasets import load_iris\n",
    "from sklearn.preprocessing import StandardScaler\n",
    "iris = load_iris()\n",
    "X_iris = StandardScaler().fit_transform(iris.data[:,:2])\n",
    "X_iris = pd.DataFrame(X_iris,columns=iris.feature_names[:2])\n",
    "fig,ax = plt.subplots(1,1,figsize=(6,6))\n",
    "sns.scatterplot(x='sepal length (cm)',y='sepal width (cm)',data=X_iris,s=100);"
   ]
  },
  {
   "cell_type": "markdown",
   "metadata": {
    "slideshow": {
     "slide_type": "slide"
    }
   },
   "source": [
    "# KMeans in sklearn"
   ]
  },
  {
   "cell_type": "code",
   "execution_count": 3,
   "metadata": {
    "slideshow": {
     "slide_type": "fragment"
    }
   },
   "outputs": [],
   "source": [
    "from sklearn.cluster import KMeans\n",
    "\n",
    "km = KMeans(n_clusters=2, init='random', random_state=0) # default init=k-means++\n",
    "\n",
    "c = km.fit_predict(X_iris)"
   ]
  },
  {
   "cell_type": "code",
   "execution_count": 4,
   "metadata": {
    "slideshow": {
     "slide_type": "fragment"
    }
   },
   "outputs": [
    {
     "data": {
      "text/html": [
       "<div>\n",
       "<style scoped>\n",
       "    .dataframe tbody tr th:only-of-type {\n",
       "        vertical-align: middle;\n",
       "    }\n",
       "\n",
       "    .dataframe tbody tr th {\n",
       "        vertical-align: top;\n",
       "    }\n",
       "\n",
       "    .dataframe thead th {\n",
       "        text-align: right;\n",
       "    }\n",
       "</style>\n",
       "<table border=\"1\" class=\"dataframe\">\n",
       "  <thead>\n",
       "    <tr style=\"text-align: right;\">\n",
       "      <th></th>\n",
       "      <th>sepal length (cm)</th>\n",
       "      <th>sepal width (cm)</th>\n",
       "      <th>cluster_assignments</th>\n",
       "    </tr>\n",
       "  </thead>\n",
       "  <tbody>\n",
       "    <tr>\n",
       "      <th>114</th>\n",
       "      <td>-0.052506</td>\n",
       "      <td>-0.592373</td>\n",
       "      <td>1</td>\n",
       "    </tr>\n",
       "    <tr>\n",
       "      <th>62</th>\n",
       "      <td>0.189830</td>\n",
       "      <td>-1.973554</td>\n",
       "      <td>1</td>\n",
       "    </tr>\n",
       "    <tr>\n",
       "      <th>33</th>\n",
       "      <td>-0.416010</td>\n",
       "      <td>2.630382</td>\n",
       "      <td>0</td>\n",
       "    </tr>\n",
       "    <tr>\n",
       "      <th>107</th>\n",
       "      <td>1.765012</td>\n",
       "      <td>-0.362176</td>\n",
       "      <td>1</td>\n",
       "    </tr>\n",
       "    <tr>\n",
       "      <th>7</th>\n",
       "      <td>-1.021849</td>\n",
       "      <td>0.788808</td>\n",
       "      <td>0</td>\n",
       "    </tr>\n",
       "  </tbody>\n",
       "</table>\n",
       "</div>"
      ],
      "text/plain": [
       "     sepal length (cm)  sepal width (cm)  cluster_assignments\n",
       "114          -0.052506         -0.592373                    1\n",
       "62            0.189830         -1.973554                    1\n",
       "33           -0.416010          2.630382                    0\n",
       "107           1.765012         -0.362176                    1\n",
       "7            -1.021849          0.788808                    0"
      ]
     },
     "execution_count": 4,
     "metadata": {},
     "output_type": "execute_result"
    }
   ],
   "source": [
    "# cluster assignments\n",
    "tmp = X_iris.copy()\n",
    "tmp['cluster_assignments'] = c\n",
    "tmp.sample(5,random_state=0)"
   ]
  },
  {
   "cell_type": "code",
   "execution_count": 5,
   "metadata": {
    "slideshow": {
     "slide_type": "fragment"
    }
   },
   "outputs": [
    {
     "data": {
      "text/plain": [
       "array([[-0.97822861,  0.90390597],\n",
       "       [ 0.4891143 , -0.45195298]])"
      ]
     },
     "execution_count": 5,
     "metadata": {},
     "output_type": "execute_result"
    }
   ],
   "source": [
    "# cluster centers\n",
    "km.cluster_centers_"
   ]
  },
  {
   "cell_type": "markdown",
   "metadata": {
    "slideshow": {
     "slide_type": "slide"
    }
   },
   "source": [
    "# Plotting clusters and centers"
   ]
  },
  {
   "cell_type": "code",
   "execution_count": 6,
   "metadata": {
    "slideshow": {
     "slide_type": "fragment"
    }
   },
   "outputs": [
    {
     "data": {
      "image/png": "[encoded data removed]",
      "text/plain": [
       "<Figure size 432x432 with 1 Axes>"
      ]
     },
     "metadata": {
      "needs_background": "light"
     },
     "output_type": "display_data"
    }
   ],
   "source": [
    "# plot data colored by cluster assignment\n",
    "def plot_clusters(X,c=None,km=None,title=None,ax=None,marker_size=100):\n",
    "    if not ax:\n",
    "        fig,ax = plt.subplots(1,1,figsize=(6,6))\n",
    "    if km:\n",
    "        c = km.fit_predict(X)\n",
    "    for i in range(np.max(c)+1):\n",
    "        X_cluster = X[c == i]\n",
    "        sns.scatterplot(x=X_cluster.iloc[:,0],y=X_cluster.iloc[:,1],s=marker_size,ax=ax);\n",
    "    if km:\n",
    "        for m in km.cluster_centers_: \n",
    "            ax.plot(m[0],m[1], marker='x',c='k', ms=20, mew=5)\n",
    "    if title:\n",
    "        ax.set_title(title)\n",
    "        \n",
    "plot_clusters(X_iris,km=km,title=\"KMeans Assignments\")"
   ]
  },
  {
   "cell_type": "markdown",
   "metadata": {
    "slideshow": {
     "slide_type": "skip"
    }
   },
   "source": [
    "# Plotting clusters and centers"
   ]
  },
  {
   "cell_type": "code",
   "execution_count": 7,
   "metadata": {
    "slideshow": {
     "slide_type": "skip"
    }
   },
   "outputs": [
    {
     "data": {
      "image/png": "[encoded data removed]",
      "text/plain": [
       "<Figure size 576x576 with 1 Axes>"
      ]
     },
     "metadata": {
      "needs_background": "light"
     },
     "output_type": "display_data"
    }
   ],
   "source": [
    "fig,ax = plt.subplots(1,1,figsize=(8,8))\n",
    "plot_decision_regions(X_iris.values,km.predict(X_iris),km,ax=ax,legend=None);\n",
    "for m in km.cluster_centers_: \n",
    "            ax.plot(m[0],m[1], marker='x',c='k', ms=20, mew=5);"
   ]
  },
  {
   "cell_type": "markdown",
   "metadata": {
    "slideshow": {
     "slide_type": "slide"
    }
   },
   "source": [
    "# K-Means: How good are the clusters?\n",
    "\n",
    "- One way: **Within Cluster Sum of Squared Distances**\n",
    "- How close is every point to it's assigned cluster center?\n",
    "<br>\n",
    "    $SSD = \\Large \\sum_{k=1}^{K} \\sum_{x_i\\in C_k} \\mid\\mid x_i-\\mu_k\\mid\\mid_2^2$\n",
    "\n",
    "    where $\\mid\\mid x - \\mu \\mid\\mid_2 = \\sqrt{\\sum_{j=1}^d (x_j - \\mu_j)^2}$\n",
    "<br>\n",
    "- If this is high, items in cluster are far from their means.\n",
    "- If this is low, items in cluster are close to their means."
   ]
  },
  {
   "cell_type": "code",
   "execution_count": 8,
   "metadata": {
    "slideshow": {
     "slide_type": "fragment"
    }
   },
   "outputs": [
    {
     "data": {
      "text/plain": [
       "166.95"
      ]
     },
     "execution_count": 8,
     "metadata": {},
     "output_type": "execute_result"
    }
   ],
   "source": [
    "# SSD stored in KMeans as `.inertia_`\n",
    "round(km.inertia_,2)"
   ]
  },
  {
   "cell_type": "markdown",
   "metadata": {
    "slideshow": {
     "slide_type": "slide"
    }
   },
   "source": [
    "# KMeans in Action"
   ]
  },
  {
   "cell_type": "code",
   "execution_count": 9,
   "metadata": {
    "scrolled": true,
    "slideshow": {
     "slide_type": "fragment"
    }
   },
   "outputs": [
    {
     "data": {
      "application/vnd.jupyter.widget-view+json": {
       "model_id": "2f6b7325de6e4995aaf4387d2302f3dd",
       "version_major": 2,
       "version_minor": 0
      },
      "text/plain": [
       "Video(value=b'\\x00\\x00\\x00 ftypisom\\x00\\x00\\x02\\x00isomiso2avc1mp41\\x00\\x00\\x00\\x08free\\x00\\x048\\xd6mdat\\x00\\x…"
      ]
     },
     "metadata": {},
     "output_type": "display_data"
    }
   ],
   "source": [
    "import ipywidgets as widgets\n",
    "kmeans_video = widgets.Video.from_file('images/kmeans.mp4', width=750, autoplay=False, controls=True)\n",
    "kmeans_video"
   ]
  },
  {
   "cell_type": "markdown",
   "metadata": {
    "slideshow": {
     "slide_type": "fragment"
    }
   },
   "source": [
    "From [https://dashee87.github.io/data%20science/general/Clustering-with-Scikit-with-GIFs/](https://dashee87.github.io/data%20science/general/Clustering-with-Scikit-with-GIFs/)"
   ]
  },
  {
   "cell_type": "markdown",
   "metadata": {
    "slideshow": {
     "slide_type": "slide"
    }
   },
   "source": [
    "# Things you need to define for KMeans\n",
    "\n",
    "- number of clusters $k$ or `n_clusters`\n",
    "- initial locations of means\n",
    "  - random\n",
    "  - k-means++ (pick starting points far apart from each other)"
   ]
  },
  {
   "cell_type": "markdown",
   "metadata": {
    "slideshow": {
     "slide_type": "slide"
    }
   },
   "source": [
    "# How to choose $k$ or `n_clusters`?\n",
    "<br>\n",
    "\n",
    "- One way: use \"elbow\" in sum of squared distances (SSD) or `KMeans.inertia_`\n",
    "- \"elbow\" is where SSD ceases to drop rapidly"
   ]
  },
  {
   "cell_type": "code",
   "execution_count": 10,
   "metadata": {
    "slideshow": {
     "slide_type": "fragment"
    }
   },
   "outputs": [
    {
     "data": {
      "image/png": "[encoded data removed]",
      "text/plain": [
       "<Figure size 432x288 with 1 Axes>"
      ]
     },
     "metadata": {
      "needs_background": "light"
     },
     "output_type": "display_data"
    }
   ],
   "source": [
    "ssd = []\n",
    "for i in range(1,10):\n",
    "    ssd.append(KMeans(n_clusters=i).fit(X_iris).inertia_)\n",
    "fig,ax=plt.subplots(1,1,figsize=(6,4))\n",
    "ax.plot(range(1,10),ssd,marker='x'); \n",
    "ax.set_xlabel('k');ax.set_ylabel('ssd');"
   ]
  },
  {
   "cell_type": "markdown",
   "metadata": {
    "slideshow": {
     "slide_type": "fragment"
    }
   },
   "source": [
    "- Question: What value $k$ will minimize SSD?"
   ]
  },
  {
   "cell_type": "markdown",
   "metadata": {
    "slideshow": {
     "slide_type": "slide"
    }
   },
   "source": [
    "# Refitting with k=3"
   ]
  },
  {
   "cell_type": "code",
   "execution_count": 11,
   "metadata": {
    "slideshow": {
     "slide_type": "fragment"
    }
   },
   "outputs": [
    {
     "data": {
      "image/png": "[encoded data removed]",
      "text/plain": [
       "<Figure size 432x432 with 1 Axes>"
      ]
     },
     "metadata": {
      "needs_background": "light"
     },
     "output_type": "display_data"
    }
   ],
   "source": [
    "plot_clusters(X_iris,km=KMeans(n_clusters=3,random_state=0),title=\"KMeans Assignments, k=3\")"
   ]
  },
  {
   "cell_type": "code",
   "execution_count": 12,
   "metadata": {
    "slideshow": {
     "slide_type": "skip"
    }
   },
   "outputs": [
    {
     "data": {
      "image/png": "[encoded data removed]",
      "text/plain": [
       "<Figure size 576x576 with 1 Axes>"
      ]
     },
     "metadata": {
      "needs_background": "light"
     },
     "output_type": "display_data"
    }
   ],
   "source": [
    "fig,ax = plt.subplots(1,1,figsize=(8,8))\n",
    "km = KMeans(n_clusters=3,random_state=0).fit(X_iris)\n",
    "plot_decision_regions(X_iris.values,km.predict(X_iris),km,ax=ax,legend=None);\n",
    "for m in km.cluster_centers_: \n",
    "            ax.plot(m[0],m[1], marker='x',c='k', ms=20, mew=5);"
   ]
  },
  {
   "cell_type": "markdown",
   "metadata": {
    "slideshow": {
     "slide_type": "slide"
    }
   },
   "source": [
    "## KMeans: Another Example"
   ]
  },
  {
   "cell_type": "code",
   "execution_count": 13,
   "metadata": {
    "slideshow": {
     "slide_type": "fragment"
    }
   },
   "outputs": [
    {
     "data": {
      "image/png": "[encoded data removed]",
      "text/plain": [
       "<Figure size 1296x432 with 3 Axes>"
      ]
     },
     "metadata": {
      "needs_background": "light"
     },
     "output_type": "display_data"
    }
   ],
   "source": [
    "# loading and plotting the data\n",
    "data = pd.read_csv('../data/loan200.csv')[['payment_inc_ratio','dti']]\n",
    "from sklearn.preprocessing import StandardScaler\n",
    "X_loan = pd.DataFrame(StandardScaler().fit_transform(data),columns=data.columns)\n",
    "\n",
    "fig,ax = plt.subplots(1,3,figsize=(18,6))\n",
    "sns.scatterplot(x=X_loan.iloc[:,0],y=X_loan.iloc[:,1],ax=ax[0]); \n",
    "ax[0].set_title('original data');\n",
    "\n",
    "ssd = [KMeans(n_clusters=i).fit(X_loan).inertia_ for i in range(1,10)]\n",
    "ax[1].plot(range(1,10),ssd,marker='x');\n",
    "ax[1].set_title('KMeans SSD');\n",
    "\n",
    "plot_clusters(X_loan,km=KMeans(n_clusters=4, random_state=0),title='KMeans k=4',marker_size=50,ax=ax[2])"
   ]
  },
  {
   "cell_type": "markdown",
   "metadata": {
    "slideshow": {
     "slide_type": "slide"
    }
   },
   "source": [
    "# KMeans: Synthetic Example"
   ]
  },
  {
   "cell_type": "code",
   "execution_count": 14,
   "metadata": {
    "slideshow": {
     "slide_type": "fragment"
    }
   },
   "outputs": [
    {
     "data": {
      "image/png": "[encoded data removed]",
      "text/plain": [
       "<Figure size 1296x432 with 3 Axes>"
      ]
     },
     "metadata": {
      "needs_background": "light"
     },
     "output_type": "display_data"
    }
   ],
   "source": [
    "from sklearn.datasets import make_blobs\n",
    "X_blobs,y_blobs = make_blobs(centers=[(3,3),(-2,0),(-2,-2)],random_state=1)\n",
    "X_blobs = pd.DataFrame(X_blobs)\n",
    "\n",
    "fig,ax = plt.subplots(1,3,figsize=(18,6))\n",
    "\n",
    "sns.scatterplot(x=X_blobs.iloc[:,0],y=X_blobs.iloc[:,1],ax=ax[0]); \n",
    "ax[0].set_title('original data');\n",
    "\n",
    "ssd = [KMeans(n_clusters=i).fit(X_blobs).inertia_ for i in range(1,10)]\n",
    "ax[1].plot(range(1,10),ssd,marker='x');\n",
    "ax[1].set_title('KMeans SSD')\n",
    "\n",
    "plot_clusters(X_blobs,km=KMeans(n_clusters=3, random_state=0),title='KMeans k=3',marker_size=50,ax=ax[2])"
   ]
  },
  {
   "cell_type": "markdown",
   "metadata": {
    "slideshow": {
     "slide_type": "slide"
    }
   },
   "source": [
    "# Hierarchical Agglomerative Clustering (HAC)\n",
    "<br>\n",
    "\n",
    "- group clusters together from the bottom up\n",
    "- don't have to specify number of clusters up front\n",
    "- generates binary tree over data"
   ]
  },
  {
   "cell_type": "markdown",
   "metadata": {
    "slideshow": {
     "slide_type": "slide"
    }
   },
   "source": [
    "# HAC: How it works\n",
    "<br>\n",
    "\n",
    "```\n",
    "FIRST: every point is it's own cluster\n",
    "\n",
    "A: Find pair of clusters that are \"closest\"\n",
    "\n",
    "B: Merge into single cluster\n",
    "\n",
    "GOTO A and Repeat till there is a single cluster\n",
    "```"
   ]
  },
  {
   "cell_type": "markdown",
   "metadata": {
    "slideshow": {
     "slide_type": "slide"
    }
   },
   "source": [
    "# HAC in Action"
   ]
  },
  {
   "cell_type": "code",
   "execution_count": 15,
   "metadata": {
    "slideshow": {
     "slide_type": "fragment"
    }
   },
   "outputs": [
    {
     "data": {
      "application/vnd.jupyter.widget-view+json": {
       "model_id": "b3da56531b22491ab138055866134353",
       "version_major": 2,
       "version_minor": 0
      },
      "text/plain": [
       "Video(value=b'\\x00\\x00\\x00 ftypisom\\x00\\x00\\x02\\x00isomiso2avc1mp41\\x00\\x00\\x00\\x08free\\x00\\x00\\x811mdat\\x00\\x…"
      ]
     },
     "metadata": {},
     "output_type": "display_data"
    }
   ],
   "source": [
    "import ipywidgets as widgets\n",
    "hac_video = widgets.Video.from_file('images/hac.mp4', width=750, autoplay=False, controls=True)\n",
    "hac_video"
   ]
  },
  {
   "cell_type": "markdown",
   "metadata": {
    "slideshow": {
     "slide_type": "fragment"
    }
   },
   "source": [
    "From [https://dashee87.github.io/data%20science/general/Clustering-with-Scikit-with-GIFs/](https://dashee87.github.io/data%20science/general/Clustering-with-Scikit-with-GIFs/)"
   ]
  },
  {
   "cell_type": "markdown",
   "metadata": {
    "slideshow": {
     "slide_type": "slide"
    }
   },
   "source": [
    "# What is \"close\"?\n",
    "\n",
    "- Need to define what we mean by \"closeness\" by choosing\n",
    "  - distance metric (how to measure distance)\n",
    "  - linkage criteria (how to compare clusters)"
   ]
  },
  {
   "cell_type": "markdown",
   "metadata": {
    "slideshow": {
     "slide_type": "slide"
    }
   },
   "source": [
    "# Need to define: Distance Metric\n",
    "<br>\n",
    "\n",
    "- **Euclidean** : $\\sqrt{\\sum_{i=1}^n \\left(a_i-b_i\\right)^2}$\n",
    "  - easy to use analyitically, sensitive to outliers\n",
    "<br>\n",
    "<br>\n",
    "\n",
    "- **Manhattan** : $\\sum_{i=1}^n \\mid a_i - b_i \\mid$\n",
    "  - more difficult to use analytically, robust to outliers\n",
    "<br>\n",
    "<br>\n",
    "\n",
    "- **Cosine** : $1 - \\frac{\\sum{a_i b_i}}{\\| a_i \\|_2 \\| b_i \\|_2}$ \n",
    "  - angle between vectors while ignoring their scale\n",
    "<br>\n",
    "<br>\n",
    "\n",
    "- many more (see [https://numerics.mathdotnet.com/Distance.html](https://numerics.mathdotnet.com/Distance.html)"
   ]
  },
  {
   "cell_type": "markdown",
   "metadata": {
    "slideshow": {
     "slide_type": "slide"
    }
   },
   "source": [
    "# Need to define: **Linkage**\n",
    "<br>\n",
    "\n",
    "<div align=\"center\"><img src=\"images/hac_linkage.png\" width=\"600px\"></div>\n",
    "\n",
    "**single** : shortest distance from item of one cluster to item of the other\n",
    "\n",
    "**complete** : greatest distance from item of one cluster to item of the other\n",
    "\n",
    "**average** : average distance of items in one cluster to items in the other\n",
    "\n",
    "**ward** : minimize variance of clusters being merged (only euclidean metric)"
   ]
  },
  {
   "cell_type": "markdown",
   "metadata": {
    "slideshow": {
     "slide_type": "slide"
    }
   },
   "source": [
    "# HAC and Dendrograms: Single Linkage\n"
   ]
  },
  {
   "cell_type": "code",
   "execution_count": 16,
   "metadata": {
    "slideshow": {
     "slide_type": "fragment"
    }
   },
   "outputs": [
    {
     "data": {
      "image/png": "[encoded data removed]",
      "text/plain": [
       "<Figure size 864x576 with 1 Axes>"
      ]
     },
     "metadata": {
      "needs_background": "light"
     },
     "output_type": "display_data"
    }
   ],
   "source": [
    "# nice helper function for creating a dendrogram\n",
    "from scipy.cluster import hierarchy\n",
    "\n",
    "Z = hierarchy.linkage(X_iris,'single')\n",
    "fig = plt.figure(figsize=(12,8)); hierarchy.dendrogram(Z);"
   ]
  },
  {
   "cell_type": "markdown",
   "metadata": {
    "slideshow": {
     "slide_type": "slide"
    }
   },
   "source": [
    "# HAC and Dendrograms: Complete Linkage\n"
   ]
  },
  {
   "cell_type": "code",
   "execution_count": 17,
   "metadata": {
    "slideshow": {
     "slide_type": "fragment"
    }
   },
   "outputs": [
    {
     "data": {
      "image/png": "[encoded data removed]",
      "text/plain": [
       "<Figure size 864x576 with 1 Axes>"
      ]
     },
     "metadata": {
      "needs_background": "light"
     },
     "output_type": "display_data"
    }
   ],
   "source": [
    "Z = hierarchy.linkage(X_iris,'complete')\n",
    "fig = plt.figure(figsize=(12,8)); hierarchy.dendrogram(Z);"
   ]
  },
  {
   "cell_type": "markdown",
   "metadata": {
    "slideshow": {
     "slide_type": "slide"
    }
   },
   "source": [
    "# HAC and Dendrograms: Average Linkage"
   ]
  },
  {
   "cell_type": "code",
   "execution_count": 18,
   "metadata": {
    "slideshow": {
     "slide_type": "fragment"
    }
   },
   "outputs": [
    {
     "data": {
      "image/png": "[encoded data removed]",
      "text/plain": [
       "<Figure size 864x576 with 1 Axes>"
      ]
     },
     "metadata": {
      "needs_background": "light"
     },
     "output_type": "display_data"
    }
   ],
   "source": [
    "Z = hierarchy.linkage(X_iris,'average')\n",
    "fig = plt.figure(figsize=(12,8)); hierarchy.dendrogram(Z);"
   ]
  },
  {
   "cell_type": "markdown",
   "metadata": {
    "slideshow": {
     "slide_type": "slide"
    }
   },
   "source": [
    "# HAC and Dendrograms: Ward Linkage"
   ]
  },
  {
   "cell_type": "code",
   "execution_count": 19,
   "metadata": {
    "slideshow": {
     "slide_type": "fragment"
    }
   },
   "outputs": [
    {
     "data": {
      "image/png": "[encoded data removed]",
      "text/plain": [
       "<Figure size 864x576 with 1 Axes>"
      ]
     },
     "metadata": {
      "needs_background": "light"
     },
     "output_type": "display_data"
    }
   ],
   "source": [
    "Z = hierarchy.linkage(X_iris,'ward')\n",
    "fig = plt.figure(figsize=(12,8)); hierarchy.dendrogram(Z);"
   ]
  },
  {
   "cell_type": "markdown",
   "metadata": {
    "slideshow": {
     "slide_type": "slide"
    }
   },
   "source": [
    "# HAC in sklearn"
   ]
  },
  {
   "cell_type": "code",
   "execution_count": 20,
   "metadata": {
    "slideshow": {
     "slide_type": "fragment"
    }
   },
   "outputs": [],
   "source": [
    "from sklearn.cluster import AgglomerativeClustering\n",
    "\n",
    "hac = AgglomerativeClustering(linkage='single',\n",
    "                              affinity='euclidean',\n",
    "                              n_clusters=4)\n",
    "c_single = hac.fit_predict(X_iris)\n",
    "\n",
    "# generate models and assignments for all linkages\n",
    "models,assignments = [],[]\n",
    "linkages = ['single','average','complete','ward']\n",
    "for linkage in linkages:\n",
    "    models.append(AgglomerativeClustering(linkage=linkage,affinity='euclidean',n_clusters=3))\n",
    "    assignments.append(models[-1].fit_predict(X_iris))\n",
    "    \n",
    "# plot on the next slide"
   ]
  },
  {
   "cell_type": "markdown",
   "metadata": {
    "slideshow": {
     "slide_type": "slide"
    }
   },
   "source": [
    "# HAC in sklearn"
   ]
  },
  {
   "cell_type": "code",
   "execution_count": 21,
   "metadata": {
    "slideshow": {
     "slide_type": "fragment"
    }
   },
   "outputs": [
    {
     "data": {
      "image/png": "[encoded data removed]",
      "text/plain": [
       "<Figure size 864x864 with 4 Axes>"
      ]
     },
     "metadata": {
      "needs_background": "light"
     },
     "output_type": "display_data"
    }
   ],
   "source": [
    "fig,ax = plt.subplots(2,2,figsize=(12,12))\n",
    "axs = ax.flatten()\n",
    "for i in range(len(linkage)):\n",
    "    plot_clusters(X_iris,assignments[i],title=linkages[i],ax=axs[i])"
   ]
  },
  {
   "cell_type": "markdown",
   "metadata": {
    "slideshow": {
     "slide_type": "slide"
    }
   },
   "source": [
    "# HAC: Another Example"
   ]
  },
  {
   "cell_type": "code",
   "execution_count": 22,
   "metadata": {
    "slideshow": {
     "slide_type": "fragment"
    }
   },
   "outputs": [
    {
     "data": {
      "image/png": "[encoded data removed]",
      "text/plain": [
       "<Figure size 864x720 with 4 Axes>"
      ]
     },
     "metadata": {
      "needs_background": "light"
     },
     "output_type": "display_data"
    }
   ],
   "source": [
    "models,assignments,linkages = [],[],['single','average','complete','ward']\n",
    "for linkage in linkages:\n",
    "    models.append(AgglomerativeClustering(linkage=linkage,affinity='euclidean',n_clusters=4))\n",
    "    assignments.append(models[-1].fit_predict(X_loan))\n",
    "fig,ax = plt.subplots(2,2,figsize=(12,10))\n",
    "axs = ax.flatten()\n",
    "for i in range(len(linkage)):\n",
    "    plot_clusters(X_loan,assignments[i],title=linkages[i],ax=axs[i])"
   ]
  },
  {
   "cell_type": "markdown",
   "metadata": {
    "slideshow": {
     "slide_type": "slide"
    }
   },
   "source": [
    "# Clustering: Many Other Methods\n",
    "<br>\n",
    "\n",
    "<div align=\"center\"><img src=\"images/sklearn_clustering_methods.png\" width=\"1000px\"></div>\n",
    "\n",
    "From [https://scikit-learn.org/stable/modules/clustering.html](https://scikit-learn.org/stable/modules/clustering.html_)"
   ]
  },
  {
   "cell_type": "markdown",
   "metadata": {
    "slideshow": {
     "slide_type": "slide"
    }
   },
   "source": [
    "# How to evaluate clustering?\n",
    "<br>\n",
    "\n",
    "- Within Cluster Sum of Squared Distances (SSD)\n",
    "- If we have labels\n",
    "  - How \"pure\" are the clusters? Homogeneity\n",
    "  - Mutual Information\n",
    "- Silhouette plots (see PML)\n",
    "- many others ([see sklearn](https://scikit-learn.org/stable/modules/clustering.html#clustering-performance-evaluation]))"
   ]
  },
  {
   "cell_type": "markdown",
   "metadata": {
    "slideshow": {
     "slide_type": "slide"
    }
   },
   "source": [
    "# Clustering Review\n",
    "\n",
    "- k-Means\n",
    "- Heirarchical Agglomerative Clustering\n",
    "  - linkages\n",
    "  - distance metrics\n",
    "- Evaluating"
   ]
  },
  {
   "cell_type": "markdown",
   "metadata": {
    "slideshow": {
     "slide_type": "slide"
    }
   },
   "source": [
    "<br>\n",
    "<br>\n",
    "\n",
    "# <center>Questions re Clustering?</center>\n",
    "<br>\n",
    "<br>"
   ]
  },
  {
   "cell_type": "markdown",
   "metadata": {
    "slideshow": {
     "slide_type": "slide"
    }
   },
   "source": [
    "# Recommendation Engines\n",
    "<br>\n",
    "\n",
    "- Given a user and a set of items to recommend (or rank):\n",
    "<br>\n",
    "  \n",
    "  - Recommend things **similar to the things I've liked**\n",
    "    - Content-Based Filtering\n",
    "  <br>\n",
    "  <br>\n",
    "  \n",
    "  - Recommend things **that people with similar tastes have liked**\n",
    "    - Collaborative Filtering \n",
    "  <br>\n",
    "  <br>\n",
    "  \n",
    "  - Hybrid/Ensemble\n"
   ]
  },
  {
   "cell_type": "markdown",
   "metadata": {
    "slideshow": {
     "slide_type": "slide"
    }
   },
   "source": [
    "# Example: Housing Data"
   ]
  },
  {
   "cell_type": "code",
   "execution_count": 23,
   "metadata": {
    "slideshow": {
     "slide_type": "fragment"
    }
   },
   "outputs": [
    {
     "data": {
      "text/html": [
       "<div>\n",
       "<style scoped>\n",
       "    .dataframe tbody tr th:only-of-type {\n",
       "        vertical-align: middle;\n",
       "    }\n",
       "\n",
       "    .dataframe tbody tr th {\n",
       "        vertical-align: top;\n",
       "    }\n",
       "\n",
       "    .dataframe thead th {\n",
       "        text-align: right;\n",
       "    }\n",
       "</style>\n",
       "<table border=\"1\" class=\"dataframe\">\n",
       "  <thead>\n",
       "    <tr style=\"text-align: right;\">\n",
       "      <th></th>\n",
       "      <th>SqFtTotLiving_scaled</th>\n",
       "      <th>SqFtLot_scaled</th>\n",
       "      <th>AdjSalePrice_scaled</th>\n",
       "    </tr>\n",
       "  </thead>\n",
       "  <tbody>\n",
       "    <tr>\n",
       "      <th>0</th>\n",
       "      <td>0.399969</td>\n",
       "      <td>-0.466145</td>\n",
       "      <td>-0.699629</td>\n",
       "    </tr>\n",
       "    <tr>\n",
       "      <th>1</th>\n",
       "      <td>2.030444</td>\n",
       "      <td>0.647921</td>\n",
       "      <td>2.479556</td>\n",
       "    </tr>\n",
       "    <tr>\n",
       "      <th>2</th>\n",
       "      <td>-0.006455</td>\n",
       "      <td>1.255424</td>\n",
       "      <td>1.190602</td>\n",
       "    </tr>\n",
       "    <tr>\n",
       "      <th>3</th>\n",
       "      <td>1.356259</td>\n",
       "      <td>-0.544149</td>\n",
       "      <td>-0.120423</td>\n",
       "    </tr>\n",
       "    <tr>\n",
       "      <th>4</th>\n",
       "      <td>-0.412878</td>\n",
       "      <td>-0.543943</td>\n",
       "      <td>-0.714964</td>\n",
       "    </tr>\n",
       "  </tbody>\n",
       "</table>\n",
       "</div>"
      ],
      "text/plain": [
       "   SqFtTotLiving_scaled  SqFtLot_scaled  AdjSalePrice_scaled\n",
       "0              0.399969       -0.466145            -0.699629\n",
       "1              2.030444        0.647921             2.479556\n",
       "2             -0.006455        1.255424             1.190602\n",
       "3              1.356259       -0.544149            -0.120423\n",
       "4             -0.412878       -0.543943            -0.714964"
      ]
     },
     "execution_count": 23,
     "metadata": {},
     "output_type": "execute_result"
    }
   ],
   "source": [
    "df_house = pd.read_csv('../data/house_sales_subset.csv')\n",
    "df_house = df_house.iloc[:10].loc[:,['SqFtTotLiving','SqFtLot','AdjSalePrice']]\n",
    "X_house_scaled = StandardScaler().fit_transform(df_house)\n",
    "df_house_scaled = pd.DataFrame(X_house_scaled,columns=['SqFtTotLiving_scaled','SqFtLot_scaled','AdjSalePrice_scaled'])\n",
    "df_house_scaled.head()"
   ]
  },
  {
   "cell_type": "markdown",
   "metadata": {
    "slideshow": {
     "slide_type": "slide"
    }
   },
   "source": [
    "# Content-Based Filtering\n",
    "<br>\n",
    "\n",
    "- Find **other things** similar to **the things I've liked**\n",
    "- Assume: If I like product A, and product B is like product A, I'll like product B\n",
    "- Use similarity of items\n",
    "<br>\n",
    "\n",
    "- Matrix: items x items\n",
    "- Values: Similarity of items"
   ]
  },
  {
   "cell_type": "markdown",
   "metadata": {
    "slideshow": {
     "slide_type": "slide"
    }
   },
   "source": [
    "# Calculate Distances\n",
    "\n",
    "- to maximize similarity $\\rightarrow$ minimize distance"
   ]
  },
  {
   "cell_type": "code",
   "execution_count": 24,
   "metadata": {
    "slideshow": {
     "slide_type": "fragment"
    }
   },
   "outputs": [
    {
     "data": {
      "text/plain": [
       "array([[0.  , 3.74, 2.59, 1.12, 0.82, 2.01, 2.73, 0.87, 1.76, 0.84],\n",
       "       [3.74, 0.  , 2.49, 2.94, 4.19, 4.78, 4.01, 3.79, 5.03, 3.44],\n",
       "       [2.59, 2.49, 0.  , 2.61, 2.65, 3.25, 1.83, 2.07, 3.31, 2.01],\n",
       "       [1.12, 2.94, 2.61, 0.  , 1.87, 2.83, 3.19, 1.76, 2.8 , 1.47],\n",
       "       [0.82, 4.19, 2.65, 1.87, 0.  , 1.32, 2.69, 0.68, 0.97, 0.78],\n",
       "       [2.01, 4.78, 3.25, 2.83, 1.32, 0.  , 3.59, 1.81, 0.87, 1.61],\n",
       "       [2.73, 4.01, 1.83, 3.19, 2.69, 3.59, 0.  , 2.05, 3.2 , 2.51],\n",
       "       [0.87, 3.79, 2.07, 1.76, 0.68, 1.81, 2.05, 0.  , 1.5 , 0.64],\n",
       "       [1.76, 5.03, 3.31, 2.8 , 0.97, 0.87, 3.2 , 1.5 , 0.  , 1.61],\n",
       "       [0.84, 3.44, 2.01, 1.47, 0.78, 1.61, 2.51, 0.64, 1.61, 0.  ]])"
      ]
     },
     "execution_count": 24,
     "metadata": {},
     "output_type": "execute_result"
    }
   ],
   "source": [
    "# using euclidean distance\n",
    "from sklearn.metrics.pairwise import euclidean_distances\n",
    "\n",
    "# calculate all pairwise distances between houses\n",
    "dists = euclidean_distances(X_house_scaled)\n",
    "\n",
    "np.round(dists,2)"
   ]
  },
  {
   "cell_type": "markdown",
   "metadata": {
    "slideshow": {
     "slide_type": "slide"
    }
   },
   "source": [
    "# Visualizing Distances With a Heatmap"
   ]
  },
  {
   "cell_type": "code",
   "execution_count": 25,
   "metadata": {
    "slideshow": {
     "slide_type": "fragment"
    }
   },
   "outputs": [
    {
     "data": {
      "image/png": "[encoded data removed]",
      "text/plain": [
       "<Figure size 720x720 with 2 Axes>"
      ]
     },
     "metadata": {
      "needs_background": "light"
     },
     "output_type": "display_data"
    }
   ],
   "source": [
    "from mlxtend.plotting import heatmap\n",
    "heatmap(np.round(dists,2),figsize=(10,10));"
   ]
  },
  {
   "cell_type": "markdown",
   "metadata": {
    "slideshow": {
     "slide_type": "slide"
    }
   },
   "source": [
    "# Query For Similarity\n",
    "\n",
    "- Imagine I like house 5\n",
    "- What houses are similar to house 5?"
   ]
  },
  {
   "cell_type": "code",
   "execution_count": 26,
   "metadata": {
    "slideshow": {
     "slide_type": "fragment"
    }
   },
   "outputs": [
    {
     "data": {
      "text/plain": [
       "SqFtTotLiving       930.0\n",
       "SqFtLot            1012.0\n",
       "AdjSalePrice     411781.0\n",
       "Name: 5, dtype: float64"
      ]
     },
     "execution_count": 26,
     "metadata": {},
     "output_type": "execute_result"
    }
   ],
   "source": [
    "query_idx = 5\n",
    "df_house.iloc[query_idx]"
   ]
  },
  {
   "cell_type": "code",
   "execution_count": 27,
   "metadata": {
    "slideshow": {
     "slide_type": "fragment"
    }
   },
   "outputs": [
    {
     "data": {
      "text/plain": [
       "['2.0', '4.8', '3.3', '2.8', '1.3', '0.0', '3.6', '1.8', '0.9', '1.6']"
      ]
     },
     "execution_count": 27,
     "metadata": {},
     "output_type": "execute_result"
    }
   ],
   "source": [
    "# Distances to house 5\n",
    "[f'{x:0.1f}' for x in dists[query_idx]]"
   ]
  },
  {
   "cell_type": "markdown",
   "metadata": {
    "slideshow": {
     "slide_type": "slide"
    }
   },
   "source": [
    "# Query For Similarity Cont.\n"
   ]
  },
  {
   "cell_type": "code",
   "execution_count": 28,
   "metadata": {
    "slideshow": {
     "slide_type": "fragment"
    }
   },
   "outputs": [
    {
     "data": {
      "text/plain": [
       "array([5, 8, 4, 9, 7, 0, 3, 2, 6, 1])"
      ]
     },
     "execution_count": 28,
     "metadata": {},
     "output_type": "execute_result"
    }
   ],
   "source": [
    "# find indexes of best scores (for distances, want ascending)\n",
    "best_idxs_asc = np.argsort(dists[query_idx])\n",
    "best_idxs_asc"
   ]
  },
  {
   "cell_type": "code",
   "execution_count": 29,
   "metadata": {
    "slideshow": {
     "slide_type": "fragment"
    }
   },
   "outputs": [
    {
     "data": {
      "text/plain": [
       "[('house 5', 0.0),\n",
       " ('house 8', 0.87),\n",
       " ('house 4', 1.32),\n",
       " ('house 9', 1.61),\n",
       " ('house 7', 1.81),\n",
       " ('house 0', 2.01),\n",
       " ('house 3', 2.83),\n",
       " ('house 2', 3.25),\n",
       " ('house 6', 3.59),\n",
       " ('house 1', 4.78)]"
      ]
     },
     "execution_count": 29,
     "metadata": {},
     "output_type": "execute_result"
    }
   ],
   "source": [
    "# the top 10 recommendations with their distances\n",
    "list(zip(['house '+str(x) for x in best_idxs_asc],\n",
    "         np.round(dists[query_idx][best_idxs_asc],2)\n",
    "        )\n",
    "    )"
   ]
  },
  {
   "cell_type": "markdown",
   "metadata": {
    "slideshow": {
     "slide_type": "slide"
    }
   },
   "source": [
    "# (User Based) Collaborative Filtering\n",
    "\n",
    "- Recommend things **that people with similar tastes have liked**\n",
    "- Assume: If both you and I like Movie A, and you like Movie B, I'll like movie B\n",
    "- Use similarity of user preferences\n",
    "<br>\n",
    "\n",
    "- Matrix: Users x Items\n",
    "- Values: Rankings\n",
    "\n",
    "<div align=\"center\"><img src=\"images/user-based_collaborative_filtering.png\" width=\"400px\"></div>"
   ]
  },
  {
   "cell_type": "markdown",
   "metadata": {
    "slideshow": {
     "slide_type": "slide"
    }
   },
   "source": [
    "# Example: User Interests\n",
    "<br>\n",
    "Can we recommend topics based on a users existing interests?"
   ]
  },
  {
   "cell_type": "code",
   "execution_count": 30,
   "metadata": {
    "slideshow": {
     "slide_type": "fragment"
    }
   },
   "outputs": [],
   "source": [
    "# from Data Science from Scratch by Joel Grus\n",
    "#https://github.com/joelgrus/data-science-from-scratch.git\n",
    "\n",
    "users_interests = [\n",
    "    [\"Hadoop\", \"Big Data\", \"HBase\", \"Java\", \"Spark\", \"Storm\", \"Cassandra\"],\n",
    "    [\"NoSQL\", \"MongoDB\", \"Cassandra\", \"HBase\", \"Postgres\"],\n",
    "    [\"Python\", \"scikit-learn\", \"scipy\", \"numpy\", \"statsmodels\", \"pandas\"],\n",
    "    [\"R\", \"Python\", \"statistics\", \"regression\", \"probability\"],\n",
    "    [\"machine learning\", \"regression\", \"decision trees\", \"libsvm\"],\n",
    "    [\"Python\", \"R\", \"Java\", \"C++\", \"Haskell\", \"programming languages\"],\n",
    "    [\"statistics\", \"probability\", \"mathematics\", \"theory\"],\n",
    "    [\"machine learning\", \"scikit-learn\", \"Mahout\", \"neural networks\"],\n",
    "    [\"neural networks\", \"deep learning\", \"Big Data\", \"artificial intelligence\"],\n",
    "    [\"Hadoop\", \"Java\", \"MapReduce\", \"Big Data\"],\n",
    "    [\"statistics\", \"R\", \"statsmodels\"],\n",
    "    [\"C++\", \"deep learning\", \"artificial intelligence\", \"probability\"],\n",
    "    [\"pandas\", \"R\", \"Python\"],\n",
    "    [\"databases\", \"HBase\", \"Postgres\", \"MySQL\", \"MongoDB\"],\n",
    "    [\"libsvm\", \"regression\", \"support vector machines\"]\n",
    "]"
   ]
  },
  {
   "cell_type": "code",
   "execution_count": 31,
   "metadata": {
    "slideshow": {
     "slide_type": "fragment"
    }
   },
   "outputs": [
    {
     "data": {
      "text/plain": [
       "['Big Data', 'Cassandra', 'HBase', 'Hadoop', 'Java', 'Spark', 'Storm']"
      ]
     },
     "execution_count": 31,
     "metadata": {},
     "output_type": "execute_result"
    }
   ],
   "source": [
    "# interests of user0\n",
    "sorted(users_interests[0])"
   ]
  },
  {
   "cell_type": "markdown",
   "metadata": {
    "slideshow": {
     "slide_type": "slide"
    }
   },
   "source": [
    "# All Unique Interests"
   ]
  },
  {
   "cell_type": "code",
   "execution_count": 32,
   "metadata": {
    "slideshow": {
     "slide_type": "fragment"
    }
   },
   "outputs": [
    {
     "data": {
      "text/plain": [
       "['Big Data',\n",
       " 'C++',\n",
       " 'Cassandra',\n",
       " 'HBase',\n",
       " 'Hadoop',\n",
       " 'Haskell',\n",
       " 'Java',\n",
       " 'Mahout',\n",
       " 'MapReduce',\n",
       " 'MongoDB',\n",
       " 'MySQL',\n",
       " 'NoSQL',\n",
       " 'Postgres',\n",
       " 'Python',\n",
       " 'R',\n",
       " 'Spark',\n",
       " 'Storm',\n",
       " 'artificial intelligence',\n",
       " 'databases',\n",
       " 'decision trees',\n",
       " 'deep learning',\n",
       " 'libsvm',\n",
       " 'machine learning',\n",
       " 'mathematics',\n",
       " 'neural networks',\n",
       " 'numpy',\n",
       " 'pandas',\n",
       " 'probability',\n",
       " 'programming languages',\n",
       " 'regression',\n",
       " 'scikit-learn',\n",
       " 'scipy',\n",
       " 'statistics',\n",
       " 'statsmodels',\n",
       " 'support vector machines',\n",
       " 'theory']"
      ]
     },
     "execution_count": 32,
     "metadata": {},
     "output_type": "execute_result"
    }
   ],
   "source": [
    "# get a sorted list of unique interests (here using set)\n",
    "unique_interests = sorted({interest\n",
    "                           for user_interests in users_interests\n",
    "                           for interest in user_interests})\n",
    "\n",
    "# the first 5 unique interests\n",
    "unique_interests"
   ]
  },
  {
   "cell_type": "markdown",
   "metadata": {
    "slideshow": {
     "slide_type": "slide"
    }
   },
   "source": [
    "# Transform User Interest Matrix"
   ]
  },
  {
   "cell_type": "code",
   "execution_count": 33,
   "metadata": {
    "slideshow": {
     "slide_type": "fragment"
    }
   },
   "outputs": [
    {
     "data": {
      "text/plain": [
       "array([1, 0, 1, 1, 1, 0, 1, 0, 0, 0, 0, 0, 0, 0, 0, 1, 1, 0, 0, 0, 0, 0,\n",
       "       0, 0, 0, 0, 0, 0, 0, 0, 0, 0, 0, 0, 0, 0])"
      ]
     },
     "execution_count": 33,
     "metadata": {},
     "output_type": "execute_result"
    }
   ],
   "source": [
    "# Transform between lists of strings and fixed length lists of ints\n",
    "from sklearn.preprocessing import MultiLabelBinarizer\n",
    "\n",
    "mlb = MultiLabelBinarizer(classes=unique_interests)\n",
    "\n",
    "# a matrix of \"user\" rows and \"interest\" columns\n",
    "user_interest_matrix = mlb.fit_transform(users_interests)\n",
    "\n",
    "# The interests for user0\n",
    "user_interest_matrix[0]"
   ]
  },
  {
   "cell_type": "code",
   "execution_count": 34,
   "metadata": {
    "slideshow": {
     "slide_type": "fragment"
    }
   },
   "outputs": [
    {
     "data": {
      "text/plain": [
       "('Big Data', 'Cassandra', 'HBase', 'Hadoop', 'Java', 'Spark', 'Storm')"
      ]
     },
     "execution_count": 34,
     "metadata": {},
     "output_type": "execute_result"
    }
   ],
   "source": [
    "# transforming back from interest matrix to list of interests\n",
    "mlb.inverse_transform(user_interest_matrix)[0]"
   ]
  },
  {
   "cell_type": "markdown",
   "metadata": {
    "slideshow": {
     "slide_type": "slide"
    }
   },
   "source": [
    "# Calculate Similarity"
   ]
  },
  {
   "cell_type": "code",
   "execution_count": 35,
   "metadata": {
    "slideshow": {
     "slide_type": "fragment"
    }
   },
   "outputs": [
    {
     "data": {
      "text/plain": [
       "array([1.        , 0.3380617 , 0.        , 0.        , 0.        ,\n",
       "       0.15430335, 0.        , 0.        , 0.18898224, 0.56694671,\n",
       "       0.        , 0.        , 0.        , 0.16903085, 0.        ])"
      ]
     },
     "execution_count": 35,
     "metadata": {},
     "output_type": "execute_result"
    }
   ],
   "source": [
    "from sklearn.metrics.pairwise import cosine_similarity\n",
    "\n",
    "# using similarity, higher values are better\n",
    "user_similarities = cosine_similarity(user_interest_matrix)\n",
    "\n",
    "# what are the similarites for user0 to other users?\n",
    "user_similarities[0]"
   ]
  },
  {
   "cell_type": "code",
   "execution_count": 36,
   "metadata": {
    "slideshow": {
     "slide_type": "fragment"
    }
   },
   "outputs": [
    {
     "data": {
      "text/plain": [
       "array([ 0,  1,  5,  8,  9, 13])"
      ]
     },
     "execution_count": 36,
     "metadata": {},
     "output_type": "execute_result"
    }
   ],
   "source": [
    "# what users does user0 share interests with?\n",
    "np.where(user_similarities[0])[0]"
   ]
  },
  {
   "cell_type": "markdown",
   "metadata": {
    "slideshow": {
     "slide_type": "slide"
    }
   },
   "source": [
    "# Find Similar Users"
   ]
  },
  {
   "cell_type": "code",
   "execution_count": 37,
   "metadata": {
    "slideshow": {
     "slide_type": "fragment"
    }
   },
   "outputs": [
    {
     "data": {
      "text/plain": [
       "[(5, 0.1543), (13, 0.169), (8, 0.189), (1, 0.3381), (9, 0.5669)]"
      ]
     },
     "execution_count": 37,
     "metadata": {},
     "output_type": "execute_result"
    }
   ],
   "source": [
    "# return a sorted list of users based on similarity\n",
    "# skip query user and similarity == 0\n",
    "def most_similar_users_to(query_idx):\n",
    "    users_scores = [(idx,np.round(sim,4))\n",
    "                    for idx,sim in enumerate(user_similarities[query_idx])\n",
    "                    if idx != query_idx and sim > 0]\n",
    "    return sorted(users_scores, key=lambda x:x[1])\n",
    "\n",
    "most_similar_users_to(0)"
   ]
  },
  {
   "cell_type": "markdown",
   "metadata": {
    "slideshow": {
     "slide_type": "slide"
    }
   },
   "source": [
    "# Recommend Based On User Similarity\n",
    "\n",
    "- Want to return items sorted by the similarity of other users"
   ]
  },
  {
   "cell_type": "code",
   "execution_count": 38,
   "metadata": {
    "slideshow": {
     "slide_type": "fragment"
    }
   },
   "outputs": [],
   "source": [
    "from collections import defaultdict\n",
    "\n",
    "def user_based_suggestions(user_idx):\n",
    "    suggestions = defaultdict(float)\n",
    "    \n",
    "    # iterate over interests of similar users\n",
    "    for other_idx, sim in most_similar_users_to(user_idx):\n",
    "        for interest in users_interests[other_idx]:\n",
    "            suggestions[interest] += sim\n",
    "            \n",
    "    # sort suggestions based on weight\n",
    "    suggestions = sorted(suggestions.items(),\n",
    "                        key=lambda x:x[1],\n",
    "                        reverse=True)\n",
    "    \n",
    "    # return only new interests\n",
    "    return [(suggestion,weight)\n",
    "            for suggestion,weight in suggestions\n",
    "            if suggestion not in users_interests[user_idx]]"
   ]
  },
  {
   "cell_type": "markdown",
   "metadata": {
    "slideshow": {
     "slide_type": "slide"
    }
   },
   "source": [
    "# Recommend Based On User Similarity"
   ]
  },
  {
   "cell_type": "code",
   "execution_count": 39,
   "metadata": {
    "slideshow": {
     "slide_type": "fragment"
    }
   },
   "outputs": [
    {
     "data": {
      "text/plain": [
       "['Hadoop', 'Big Data', 'HBase', 'Java', 'Spark', 'Storm', 'Cassandra']"
      ]
     },
     "execution_count": 39,
     "metadata": {},
     "output_type": "execute_result"
    }
   ],
   "source": [
    "# reminder: original interests\n",
    "users_interests[0]"
   ]
  },
  {
   "cell_type": "code",
   "execution_count": 40,
   "metadata": {
    "slideshow": {
     "slide_type": "fragment"
    }
   },
   "outputs": [
    {
     "data": {
      "text/plain": [
       "[('MapReduce', 0.5669),\n",
       " ('Postgres', 0.5071),\n",
       " ('MongoDB', 0.5071),\n",
       " ('NoSQL', 0.3381),\n",
       " ('neural networks', 0.189)]"
      ]
     },
     "execution_count": 40,
     "metadata": {},
     "output_type": "execute_result"
    }
   ],
   "source": [
    "# top 5 new recommended interests\n",
    "user_based_suggestions(0)[:5]"
   ]
  },
  {
   "cell_type": "markdown",
   "metadata": {
    "slideshow": {
     "slide_type": "slide"
    }
   },
   "source": [
    "# Issues with Collab. Filtering\n",
    "<br>\n",
    "\n",
    "- **the cold start problem** : What if it's your first time?\n",
    "<br>\n",
    "\n",
    "- **sparcity** : How to recommend movies no one's seen?"
   ]
  },
  {
   "cell_type": "markdown",
   "metadata": {
    "slideshow": {
     "slide_type": "slide"
    }
   },
   "source": [
    "# Evaluating Rec. Systems\n",
    "<br>\n",
    "\n",
    "- **Precision@N**: Out of top N, how many were true?\n",
    "<br>\n",
    "\n",
    "- **Recall@N**: Out of all true, how many were in top N\n",
    "<br>\n",
    "\n",
    "- Surprise/Novelty?\n",
    "<br>\n",
    "\n",
    "- Diversity?"
   ]
  },
  {
   "cell_type": "markdown",
   "metadata": {
    "slideshow": {
     "slide_type": "slide"
    }
   },
   "source": [
    "# Spotify's Recommendation Engine\n",
    "<br>\n",
    "\n",
    "[How Does Spotify Know You So Well?](https://medium.com/s/story/spotifys-discover-weekly-how-machine-learning-finds-your-new-music-19a41ab76efe)\n",
    "<br>\n",
    "\n",
    "<div align=\"center\"><img src=\"images/spotify.png\" width=\"1000px\"></div>"
   ]
  },
  {
   "cell_type": "markdown",
   "metadata": {
    "slideshow": {
     "slide_type": "slide"
    }
   },
   "source": [
    "# Recommendation Engines Review\n",
    "\n",
    "- Content-Based\n",
    "- User-Based Collaborative Filtering\n",
    "- Issues\n",
    "- Evaluating"
   ]
  },
  {
   "cell_type": "markdown",
   "metadata": {
    "slideshow": {
     "slide_type": "slide"
    }
   },
   "source": [
    "<br>\n",
    "<br>\n",
    "\n",
    "# <center>Questions re Recommendation Engines?</center>\n",
    "<br>\n",
    "<br>"
   ]
  },
  {
   "cell_type": "markdown",
   "metadata": {
    "slideshow": {
     "slide_type": "slide"
    }
   },
   "source": [
    "# Time Series\n",
    "<br>\n",
    "\n",
    "- Data ordered in time\n",
    "<br>\n",
    "\n",
    "- Applications\n",
    "  - Financial\n",
    "  - Economic\n",
    "  - Scientific\n",
    "  - etc."
   ]
  },
  {
   "cell_type": "markdown",
   "metadata": {
    "slideshow": {
     "slide_type": "slide"
    }
   },
   "source": [
    "# Time Series Differences\n",
    "<br>\n",
    "\n",
    "- **Non-i.i.d.** :  not independent and identically distributed\n",
    "<br>\n",
    "\n",
    "- not independent\n",
    "  - Ex: Stock price\n",
    "<br>\n",
    "<br>\n",
    "\n",
    "- not-identically distributed\n",
    "  - Ex: Seasonality\n",
    "<br>\n",
    "<br>\n",
    "\n",
    "- Order matters"
   ]
  },
  {
   "cell_type": "markdown",
   "metadata": {
    "slideshow": {
     "slide_type": "slide"
    }
   },
   "source": [
    "# Representing Time in Python\n",
    "\n",
    "- `datetime` library\n",
    "- Pandas `Timestamp`"
   ]
  },
  {
   "cell_type": "markdown",
   "metadata": {
    "slideshow": {
     "slide_type": "slide"
    }
   },
   "source": [
    "# `datetime.date`"
   ]
  },
  {
   "cell_type": "code",
   "execution_count": 41,
   "metadata": {
    "slideshow": {
     "slide_type": "fragment"
    }
   },
   "outputs": [
    {
     "data": {
      "text/plain": [
       "datetime.date(2020, 12, 4)"
      ]
     },
     "execution_count": 41,
     "metadata": {},
     "output_type": "execute_result"
    }
   ],
   "source": [
    "from datetime import date\n",
    "\n",
    "friday = date(2020,12,4) # year,month,day\n",
    "friday"
   ]
  },
  {
   "cell_type": "code",
   "execution_count": 42,
   "metadata": {
    "slideshow": {
     "slide_type": "fragment"
    }
   },
   "outputs": [
    {
     "data": {
      "text/plain": [
       "datetime.date(2021, 11, 29)"
      ]
     },
     "execution_count": 42,
     "metadata": {},
     "output_type": "execute_result"
    }
   ],
   "source": [
    "today = date.today()\n",
    "today"
   ]
  },
  {
   "cell_type": "code",
   "execution_count": 43,
   "metadata": {
    "slideshow": {
     "slide_type": "fragment"
    }
   },
   "outputs": [
    {
     "data": {
      "text/plain": [
       "2021"
      ]
     },
     "execution_count": 43,
     "metadata": {},
     "output_type": "execute_result"
    }
   ],
   "source": [
    "today.year"
   ]
  },
  {
   "cell_type": "markdown",
   "metadata": {
    "slideshow": {
     "slide_type": "slide"
    }
   },
   "source": [
    "# `datetime.time`"
   ]
  },
  {
   "cell_type": "code",
   "execution_count": 44,
   "metadata": {
    "slideshow": {
     "slide_type": "fragment"
    }
   },
   "outputs": [
    {
     "data": {
      "text/plain": [
       "datetime.time(12, 0)"
      ]
     },
     "execution_count": 44,
     "metadata": {},
     "output_type": "execute_result"
    }
   ],
   "source": [
    "from datetime import time\n",
    "\n",
    "noon = time(12,0,0) # hour,minute,second,microsecond \n",
    "noon"
   ]
  },
  {
   "cell_type": "code",
   "execution_count": 45,
   "metadata": {
    "slideshow": {
     "slide_type": "fragment"
    }
   },
   "outputs": [
    {
     "data": {
      "text/plain": [
       "12"
      ]
     },
     "execution_count": 45,
     "metadata": {},
     "output_type": "execute_result"
    }
   ],
   "source": [
    "noon.hour"
   ]
  },
  {
   "cell_type": "markdown",
   "metadata": {
    "slideshow": {
     "slide_type": "slide"
    }
   },
   "source": [
    "# `datetime.datetime`"
   ]
  },
  {
   "cell_type": "code",
   "execution_count": 46,
   "metadata": {
    "slideshow": {
     "slide_type": "fragment"
    }
   },
   "outputs": [
    {
     "data": {
      "text/plain": [
       "datetime.datetime(2020, 11, 30, 19, 10)"
      ]
     },
     "execution_count": 46,
     "metadata": {},
     "output_type": "execute_result"
    }
   ],
   "source": [
    "from datetime import datetime\n",
    "\n",
    "# year,month,day,hour,minute,second,microsecond\n",
    "monday_afternoon = datetime(2020,11,30,19,10)\n",
    "monday_afternoon"
   ]
  },
  {
   "cell_type": "code",
   "execution_count": 47,
   "metadata": {
    "slideshow": {
     "slide_type": "fragment"
    }
   },
   "outputs": [
    {
     "data": {
      "text/plain": [
       "datetime.datetime(2021, 11, 29, 19, 0, 46, 674886)"
      ]
     },
     "execution_count": 47,
     "metadata": {},
     "output_type": "execute_result"
    }
   ],
   "source": [
    "now = datetime.now()\n",
    "now"
   ]
  },
  {
   "cell_type": "markdown",
   "metadata": {
    "slideshow": {
     "slide_type": "slide"
    }
   },
   "source": [
    "# `datetime.timedelta`"
   ]
  },
  {
   "cell_type": "code",
   "execution_count": 48,
   "metadata": {
    "slideshow": {
     "slide_type": "fragment"
    }
   },
   "outputs": [
    {
     "data": {
      "text/plain": [
       "datetime.timedelta(days=1, seconds=3600)"
      ]
     },
     "execution_count": 48,
     "metadata": {},
     "output_type": "execute_result"
    }
   ],
   "source": [
    "diff = datetime(2020,11,30,1) - datetime(2020,11,29,0)\n",
    "diff"
   ]
  },
  {
   "cell_type": "code",
   "execution_count": 49,
   "metadata": {
    "slideshow": {
     "slide_type": "fragment"
    }
   },
   "outputs": [
    {
     "data": {
      "text/plain": [
       "90000.0"
      ]
     },
     "execution_count": 49,
     "metadata": {},
     "output_type": "execute_result"
    }
   ],
   "source": [
    "diff.total_seconds()"
   ]
  },
  {
   "cell_type": "code",
   "execution_count": 50,
   "metadata": {
    "slideshow": {
     "slide_type": "fragment"
    }
   },
   "outputs": [
    {
     "data": {
      "text/plain": [
       "datetime.date(2020, 12, 2)"
      ]
     },
     "execution_count": 50,
     "metadata": {},
     "output_type": "execute_result"
    }
   ],
   "source": [
    "from datetime import timedelta\n",
    "\n",
    "#days,seconds,microseconds,milliseconds,minutes,hours,weeks\n",
    "one_day = timedelta(1)\n",
    "\n",
    "date(2020,11,30) + 2*one_day"
   ]
  },
  {
   "cell_type": "markdown",
   "metadata": {
    "slideshow": {
     "slide_type": "slide"
    }
   },
   "source": [
    "# Printing Datetimes: `strftime()`"
   ]
  },
  {
   "cell_type": "code",
   "execution_count": 51,
   "metadata": {
    "slideshow": {
     "slide_type": "fragment"
    }
   },
   "outputs": [
    {
     "name": "stdout",
     "output_type": "stream",
     "text": [
      "2021-11-29 19:00:46.674886\n"
     ]
    }
   ],
   "source": [
    "print(now)"
   ]
  },
  {
   "cell_type": "code",
   "execution_count": 52,
   "metadata": {
    "slideshow": {
     "slide_type": "fragment"
    }
   },
   "outputs": [
    {
     "data": {
      "text/plain": [
       "'Mon Nov 29, 2021 07:00 PM'"
      ]
     },
     "execution_count": 52,
     "metadata": {},
     "output_type": "execute_result"
    }
   ],
   "source": [
    "now.strftime('%a %h %d, %Y %I:%M %p')"
   ]
  },
  {
   "cell_type": "raw",
   "metadata": {
    "slideshow": {
     "slide_type": "fragment"
    }
   },
   "source": [
    "%Y 4-digit year\n",
    "%y 2-digit year\n",
    "%m 2-digit month\n",
    "%d 2-digit day\n",
    "%H Hour (24-hour)\n",
    "%M 2-digit minute\n",
    "%S 2-digit second"
   ]
  },
  {
   "cell_type": "markdown",
   "metadata": {
    "slideshow": {
     "slide_type": "fragment"
    }
   },
   "source": [
    "See [strftime.org](http://strftime.org)"
   ]
  },
  {
   "cell_type": "markdown",
   "metadata": {
    "slideshow": {
     "slide_type": "slide"
    }
   },
   "source": [
    "# Parsing Datetimes: `pandas.to_datetime()`\n",
    "\n",
    "- `dateutil.parser` available\n",
    "- pandas has parser built in: `pd.to_datetime()`\n",
    "    "
   ]
  },
  {
   "cell_type": "code",
   "execution_count": 53,
   "metadata": {
    "slideshow": {
     "slide_type": "fragment"
    }
   },
   "outputs": [
    {
     "data": {
      "text/plain": [
       "Timestamp('2019-11-22 14:36:00')"
      ]
     },
     "execution_count": 53,
     "metadata": {},
     "output_type": "execute_result"
    }
   ],
   "source": [
    "pd.to_datetime('11/22/2019 2:36pm')"
   ]
  },
  {
   "cell_type": "code",
   "execution_count": 54,
   "metadata": {
    "slideshow": {
     "slide_type": "fragment"
    }
   },
   "outputs": [
    {
     "data": {
      "text/plain": [
       "DatetimeIndex(['2020-11-26', '2020-11-27', '2020-11-28', '2030-11-29',\n",
       "               '2020-11-30', 'NaT'],\n",
       "              dtype='datetime64[ns]', freq=None)"
      ]
     },
     "execution_count": 54,
     "metadata": {},
     "output_type": "execute_result"
    }
   ],
   "source": [
    "dt_index = pd.to_datetime([datetime(2020, 11, 26),\n",
    "                           '27th of November, 2020',\n",
    "                           '2020-Nov-28',\n",
    "                           '11-29-2030',\n",
    "                           '20201130',\n",
    "                           None\n",
    "                          ])\n",
    "dt_index"
   ]
  },
  {
   "cell_type": "markdown",
   "metadata": {
    "slideshow": {
     "slide_type": "slide"
    }
   },
   "source": [
    "# `pandas.Timestamp`\n",
    "\n",
    "- like datetime.datetime\n",
    "- can include **timezone** and **frequency** info\n",
    "- can handle a missing time: `NaT`\n",
    "- can be used anywhere datetime can be used\n",
    "- an array of Timestamps can be used as an index"
   ]
  },
  {
   "cell_type": "code",
   "execution_count": 55,
   "metadata": {
    "slideshow": {
     "slide_type": "fragment"
    }
   },
   "outputs": [
    {
     "data": {
      "text/plain": [
       "Timestamp('2020-11-26 00:00:00')"
      ]
     },
     "execution_count": 55,
     "metadata": {},
     "output_type": "execute_result"
    }
   ],
   "source": [
    "dt_index[0]"
   ]
  },
  {
   "cell_type": "markdown",
   "metadata": {
    "slideshow": {
     "slide_type": "slide"
    }
   },
   "source": [
    "# Accessing Datetime Components with `.dt`"
   ]
  },
  {
   "cell_type": "code",
   "execution_count": 56,
   "metadata": {
    "slideshow": {
     "slide_type": "fragment"
    }
   },
   "outputs": [
    {
     "data": {
      "text/plain": [
       "0   2017-01-10 18:37:59\n",
       "1   2017-01-05 15:14:52\n",
       "2   2017-01-11 14:47:52\n",
       "Name: tpep_pickup_datetime, dtype: datetime64[ns]"
      ]
     },
     "execution_count": 56,
     "metadata": {},
     "output_type": "execute_result"
    }
   ],
   "source": [
    "df_taxi = pd.read_csv('../data/yellowcab_tripdata_2017-01_subset10000rows.csv',\n",
    "                      parse_dates=['tpep_pickup_datetime']).head(3)\n",
    "df_taxi.tpep_pickup_datetime"
   ]
  },
  {
   "cell_type": "code",
   "execution_count": 57,
   "metadata": {
    "slideshow": {
     "slide_type": "fragment"
    }
   },
   "outputs": [
    {
     "data": {
      "text/plain": [
       "0    10\n",
       "1     5\n",
       "2    11\n",
       "Name: tpep_pickup_datetime, dtype: int64"
      ]
     },
     "execution_count": 57,
     "metadata": {},
     "output_type": "execute_result"
    }
   ],
   "source": [
    "df_taxi.tpep_pickup_datetime.dt.day"
   ]
  },
  {
   "cell_type": "code",
   "execution_count": 58,
   "metadata": {
    "slideshow": {
     "slide_type": "fragment"
    }
   },
   "outputs": [
    {
     "data": {
      "text/plain": [
       "0    1\n",
       "1    3\n",
       "2    2\n",
       "Name: tpep_pickup_datetime, dtype: int64"
      ]
     },
     "execution_count": 58,
     "metadata": {},
     "output_type": "execute_result"
    }
   ],
   "source": [
    "df_taxi.tpep_pickup_datetime.dt.day_of_week"
   ]
  },
  {
   "cell_type": "code",
   "execution_count": 59,
   "metadata": {
    "slideshow": {
     "slide_type": "fragment"
    }
   },
   "outputs": [
    {
     "data": {
      "text/plain": [
       "0    18\n",
       "1    15\n",
       "2    14\n",
       "Name: tpep_pickup_datetime, dtype: int64"
      ]
     },
     "execution_count": 59,
     "metadata": {},
     "output_type": "execute_result"
    }
   ],
   "source": [
    "df_taxi.tpep_pickup_datetime.dt.hour"
   ]
  },
  {
   "cell_type": "markdown",
   "metadata": {
    "slideshow": {
     "slide_type": "slide"
    }
   },
   "source": [
    "# DateIndex Indexing/Selecting/Slicing"
   ]
  },
  {
   "cell_type": "code",
   "execution_count": 60,
   "metadata": {
    "slideshow": {
     "slide_type": "fragment"
    }
   },
   "outputs": [
    {
     "data": {
      "text/plain": [
       "2019-12-01    101\n",
       "2020-01-01    102\n",
       "2020-02-01    103\n",
       "dtype: int64"
      ]
     },
     "execution_count": 60,
     "metadata": {},
     "output_type": "execute_result"
    }
   ],
   "source": [
    "s = pd.Series([101,102,103],\n",
    "              index=pd.to_datetime(['20191201','20200101','20200201']))\n",
    "s"
   ]
  },
  {
   "cell_type": "code",
   "execution_count": 61,
   "metadata": {
    "slideshow": {
     "slide_type": "fragment"
    }
   },
   "outputs": [
    {
     "data": {
      "text/plain": [
       "2019-12-01    101\n",
       "2020-01-01    102\n",
       "dtype: int64"
      ]
     },
     "execution_count": 61,
     "metadata": {},
     "output_type": "execute_result"
    }
   ],
   "source": [
    "# can index normally using iloc\n",
    "s.iloc[0:2]"
   ]
  },
  {
   "cell_type": "markdown",
   "metadata": {
    "slideshow": {
     "slide_type": "slide"
    }
   },
   "source": [
    "# DateIndex Indexing/Selecting/Slicing Cont."
   ]
  },
  {
   "cell_type": "code",
   "execution_count": 62,
   "metadata": {
    "slideshow": {
     "slide_type": "fragment"
    }
   },
   "outputs": [
    {
     "data": {
      "text/plain": [
       "2020-01-01    102\n",
       "2020-02-01    103\n",
       "dtype: int64"
      ]
     },
     "execution_count": 62,
     "metadata": {},
     "output_type": "execute_result"
    }
   ],
   "source": [
    "# only rows from the year 2020\n",
    "s.loc['2020']"
   ]
  },
  {
   "cell_type": "code",
   "execution_count": 63,
   "metadata": {
    "slideshow": {
     "slide_type": "fragment"
    }
   },
   "outputs": [
    {
     "data": {
      "text/plain": [
       "2020-01-01    102\n",
       "dtype: int64"
      ]
     },
     "execution_count": 63,
     "metadata": {},
     "output_type": "execute_result"
    }
   ],
   "source": [
    "# only rows from January 2020\n",
    "s.loc['2020-01']"
   ]
  },
  {
   "cell_type": "code",
   "execution_count": 64,
   "metadata": {
    "slideshow": {
     "slide_type": "fragment"
    }
   },
   "outputs": [
    {
     "data": {
      "text/plain": [
       "2019-12-01    101\n",
       "2020-01-01    102\n",
       "dtype: int64"
      ]
     },
     "execution_count": 64,
     "metadata": {},
     "output_type": "execute_result"
    }
   ],
   "source": [
    "# only rows between Jan 1st 2019 and Jan 1st 2020, inclusive\n",
    "s.loc['01/01/2019':'01/01/2020']"
   ]
  },
  {
   "cell_type": "code",
   "execution_count": 65,
   "metadata": {
    "slideshow": {
     "slide_type": "fragment"
    }
   },
   "outputs": [
    {
     "data": {
      "text/plain": [
       "2020-01-01    102\n",
       "2020-02-01    103\n",
       "dtype: int64"
      ]
     },
     "execution_count": 65,
     "metadata": {},
     "output_type": "execute_result"
    }
   ],
   "source": [
    "# can use the indexing shortcut\n",
    "s['2020']"
   ]
  },
  {
   "cell_type": "markdown",
   "metadata": {
    "slideshow": {
     "slide_type": "slide"
    }
   },
   "source": [
    "# Datetimes in DataFrames"
   ]
  },
  {
   "cell_type": "code",
   "execution_count": 66,
   "metadata": {
    "slideshow": {
     "slide_type": "fragment"
    }
   },
   "outputs": [
    {
     "data": {
      "text/html": [
       "<div>\n",
       "<style scoped>\n",
       "    .dataframe tbody tr th:only-of-type {\n",
       "        vertical-align: middle;\n",
       "    }\n",
       "\n",
       "    .dataframe tbody tr th {\n",
       "        vertical-align: top;\n",
       "    }\n",
       "\n",
       "    .dataframe thead th {\n",
       "        text-align: right;\n",
       "    }\n",
       "</style>\n",
       "<table border=\"1\" class=\"dataframe\">\n",
       "  <thead>\n",
       "    <tr style=\"text-align: right;\">\n",
       "      <th></th>\n",
       "      <th>col2</th>\n",
       "      <th>col3</th>\n",
       "    </tr>\n",
       "    <tr>\n",
       "      <th>col1</th>\n",
       "      <th></th>\n",
       "      <th></th>\n",
       "    </tr>\n",
       "  </thead>\n",
       "  <tbody>\n",
       "    <tr>\n",
       "      <th>2020-12-01</th>\n",
       "      <td>101</td>\n",
       "      <td>A</td>\n",
       "    </tr>\n",
       "    <tr>\n",
       "      <th>2021-01-01</th>\n",
       "      <td>102</td>\n",
       "      <td>B</td>\n",
       "    </tr>\n",
       "  </tbody>\n",
       "</table>\n",
       "</div>"
      ],
      "text/plain": [
       "            col2 col3\n",
       "col1                 \n",
       "2020-12-01   101    A\n",
       "2021-01-01   102    B"
      ]
     },
     "execution_count": 66,
     "metadata": {},
     "output_type": "execute_result"
    }
   ],
   "source": [
    "df = pd.DataFrame([['12/1/2020',101,'A'],\n",
    "                   ['1/1/2021',102,'B']],columns=['col1','col2','col3'])\n",
    "df.col1 = pd.to_datetime(df.col1)\n",
    "df.set_index('col1',drop=True,inplace=True)\n",
    "df"
   ]
  },
  {
   "cell_type": "code",
   "execution_count": 67,
   "metadata": {
    "slideshow": {
     "slide_type": "fragment"
    }
   },
   "outputs": [
    {
     "data": {
      "text/html": [
       "<div>\n",
       "<style scoped>\n",
       "    .dataframe tbody tr th:only-of-type {\n",
       "        vertical-align: middle;\n",
       "    }\n",
       "\n",
       "    .dataframe tbody tr th {\n",
       "        vertical-align: top;\n",
       "    }\n",
       "\n",
       "    .dataframe thead th {\n",
       "        text-align: right;\n",
       "    }\n",
       "</style>\n",
       "<table border=\"1\" class=\"dataframe\">\n",
       "  <thead>\n",
       "    <tr style=\"text-align: right;\">\n",
       "      <th></th>\n",
       "      <th>col2</th>\n",
       "      <th>col3</th>\n",
       "    </tr>\n",
       "    <tr>\n",
       "      <th>col1</th>\n",
       "      <th></th>\n",
       "      <th></th>\n",
       "    </tr>\n",
       "  </thead>\n",
       "  <tbody>\n",
       "    <tr>\n",
       "      <th>2020-12-01</th>\n",
       "      <td>101</td>\n",
       "      <td>A</td>\n",
       "    </tr>\n",
       "  </tbody>\n",
       "</table>\n",
       "</div>"
      ],
      "text/plain": [
       "            col2 col3\n",
       "col1                 \n",
       "2020-12-01   101    A"
      ]
     },
     "execution_count": 67,
     "metadata": {},
     "output_type": "execute_result"
    }
   ],
   "source": [
    "# only return rows from 2020\n",
    "df.loc['2020']"
   ]
  },
  {
   "cell_type": "markdown",
   "metadata": {
    "slideshow": {
     "slide_type": "slide"
    }
   },
   "source": [
    "# Timestamp Index: Setting Frequency"
   ]
  },
  {
   "cell_type": "code",
   "execution_count": 68,
   "metadata": {
    "slideshow": {
     "slide_type": "fragment"
    }
   },
   "outputs": [
    {
     "data": {
      "text/plain": [
       "2020-12-01    101\n",
       "2020-12-03    103\n",
       "dtype: int64"
      ]
     },
     "execution_count": 68,
     "metadata": {},
     "output_type": "execute_result"
    }
   ],
   "source": [
    "s = pd.Series([101,103],index=pd.to_datetime(['20201201','20201203']))\n",
    "s"
   ]
  },
  {
   "cell_type": "code",
   "execution_count": 69,
   "metadata": {
    "slideshow": {
     "slide_type": "fragment"
    }
   },
   "outputs": [
    {
     "data": {
      "text/plain": [
       "2020-12-01    101.0\n",
       "2020-12-02      NaN\n",
       "2020-12-03    103.0\n",
       "Freq: D, dtype: float64"
      ]
     },
     "execution_count": 69,
     "metadata": {},
     "output_type": "execute_result"
    }
   ],
   "source": [
    "# Use resample() and asfreq() to set frequency\n",
    "s.resample('D').asfreq()"
   ]
  },
  {
   "cell_type": "code",
   "execution_count": 70,
   "metadata": {
    "slideshow": {
     "slide_type": "fragment"
    }
   },
   "outputs": [
    {
     "data": {
      "text/plain": [
       "DatetimeIndex(['2019-12-01', '2019-12-03'], dtype='datetime64[ns]', freq=None)"
      ]
     },
     "execution_count": 70,
     "metadata": {},
     "output_type": "execute_result"
    }
   ],
   "source": [
    "pd.to_datetime(['20191201','20191203'])"
   ]
  },
  {
   "cell_type": "code",
   "execution_count": 71,
   "metadata": {
    "slideshow": {
     "slide_type": "fragment"
    }
   },
   "outputs": [
    {
     "data": {
      "text/plain": [
       "DatetimeIndex(['2019-12-01', '2019-12-02', '2019-12-03'], dtype='datetime64[ns]', freq='D')"
      ]
     },
     "execution_count": 71,
     "metadata": {},
     "output_type": "execute_result"
    }
   ],
   "source": [
    "# Use date_range with freq to get a range of dates of a certain frequency\n",
    "pd.date_range(start='20191201',end='20191203',freq='D')"
   ]
  },
  {
   "cell_type": "raw",
   "metadata": {
    "slideshow": {
     "slide_type": "slide"
    }
   },
   "source": [
    "Sample of Available Frequencies\n",
    "\n",
    "    B    business day frequency\n",
    "    D    calendar day frequency\n",
    "    W    weekly frequency\n",
    "    M    month end frequency\n",
    "    BM   business month end frequency\n",
    "    ...\n",
    "    Q    quarter end frequency\n",
    "    BQ   business quarter end frequency\n",
    "    ...\n",
    "    Y    year end frequency\n",
    "    BY   business year end frequency\n",
    "    ...\n",
    "    BH      business hour frequency\n",
    "    H       hourly frequency\n",
    "    T,min   minutely frequency\n",
    "    S       secondly frequency\n",
    "    L,ms    milliseconds\n",
    "    U,us    microseconds\n",
    "    N       nanoseconds\n",
    "    \n",
    "https://pandas.pydata.org/pandas-docs/stable/user_guide/timeseries.html#timeseries-offset-aliases"
   ]
  },
  {
   "cell_type": "markdown",
   "metadata": {
    "slideshow": {
     "slide_type": "slide"
    }
   },
   "source": [
    "# Timezones\n",
    "\n",
    "- Handled by `pytz` library"
   ]
  },
  {
   "cell_type": "code",
   "execution_count": 72,
   "metadata": {
    "slideshow": {
     "slide_type": "fragment"
    }
   },
   "outputs": [
    {
     "data": {
      "text/plain": [
       "['US/Alaska',\n",
       " 'US/Arizona',\n",
       " 'US/Central',\n",
       " 'US/Eastern',\n",
       " 'US/Hawaii',\n",
       " 'US/Mountain',\n",
       " 'US/Pacific',\n",
       " 'UTC']"
      ]
     },
     "execution_count": 72,
     "metadata": {},
     "output_type": "execute_result"
    }
   ],
   "source": [
    "import pytz\n",
    "\n",
    "[x for x in pytz.common_timezones if x.startswith('U')]"
   ]
  },
  {
   "cell_type": "markdown",
   "metadata": {
    "slideshow": {
     "slide_type": "fragment"
    }
   },
   "source": [
    "UTC: coordinated universal time (EST is 5 hours behind, -5:00)"
   ]
  },
  {
   "cell_type": "markdown",
   "metadata": {
    "slideshow": {
     "slide_type": "slide"
    }
   },
   "source": [
    "# Timezones Cont."
   ]
  },
  {
   "cell_type": "code",
   "execution_count": 73,
   "metadata": {
    "slideshow": {
     "slide_type": "fragment"
    }
   },
   "outputs": [
    {
     "data": {
      "text/plain": [
       "DatetimeIndex(['2019-11-02 09:30:00', '2019-11-03 09:30:00'], dtype='datetime64[ns]', freq='D')"
      ]
     },
     "execution_count": 73,
     "metadata": {},
     "output_type": "execute_result"
    }
   ],
   "source": [
    "ts = pd.date_range('11/2/2019 9:30am',periods=2,freq='D')\n",
    "ts"
   ]
  },
  {
   "cell_type": "code",
   "execution_count": 74,
   "metadata": {
    "slideshow": {
     "slide_type": "fragment"
    }
   },
   "outputs": [
    {
     "data": {
      "text/plain": [
       "DatetimeIndex(['2019-11-02 09:30:00+00:00', '2019-11-03 09:30:00+00:00'], dtype='datetime64[ns, UTC]', freq='D')"
      ]
     },
     "execution_count": 74,
     "metadata": {},
     "output_type": "execute_result"
    }
   ],
   "source": [
    "# Set timezone using .localize()\n",
    "ts_utc = ts.tz_localize('UTC')\n",
    "ts_utc"
   ]
  },
  {
   "cell_type": "code",
   "execution_count": 75,
   "metadata": {
    "slideshow": {
     "slide_type": "fragment"
    }
   },
   "outputs": [
    {
     "data": {
      "text/plain": [
       "DatetimeIndex(['2019-11-02 05:30:00-04:00', '2019-11-03 04:30:00-05:00'], dtype='datetime64[ns, US/Eastern]', freq='D')"
      ]
     },
     "execution_count": 75,
     "metadata": {},
     "output_type": "execute_result"
    }
   ],
   "source": [
    "# Change timezones using .tz_convert()\n",
    "ts_utc.tz_convert('US/Eastern')"
   ]
  },
  {
   "cell_type": "markdown",
   "metadata": {
    "slideshow": {
     "slide_type": "slide"
    }
   },
   "source": [
    "# Timeseries in Python so far:\n",
    "<br>\n",
    "\n",
    "- `datetime .date .time .datetime .timedelta`\n",
    "- format with `.strftime()`\n",
    "- parse time with `pd.to_datetime()`\n",
    "- `pandas Timestamp Timedelta DatetimeIndex`\n",
    "- Indexing with `DatetimeIndex`\n",
    "- Frequencies\n",
    "- Timezones\n",
    "<br>\n",
    "\n",
    "Additional pandas functionality we won't discuss:\n",
    "- `Period` and `PeriodIndex`\n",
    "- `Panels`\n",
    "<br>\n",
    "<br>\n",
    "\n",
    "Next: Operations on Time Series data"
   ]
  },
  {
   "cell_type": "markdown",
   "metadata": {
    "slideshow": {
     "slide_type": "slide"
    }
   },
   "source": [
    "<br>\n",
    "<br>\n",
    "\n",
    "# <center>Questions re Datetimes in Python?</center>\n",
    "<br>\n",
    "<br>"
   ]
  }
 ],
 "metadata": {
  "celltoolbar": "Slideshow",
  "kernelspec": {
   "display_name": "Python 3 (ipykernel)",
   "language": "python",
   "name": "python3"
  },
  "language_info": {
   "codemirror_mode": {
    "name": "ipython",
    "version": 3
   },
   "file_extension": ".py",
   "mimetype": "text/x-python",
   "name": "python",
   "nbconvert_exporter": "python",
   "pygments_lexer": "ipython3",
   "version": "3.9.10"
  }
 },
 "nbformat": 4,
 "nbformat_minor": 4
}
